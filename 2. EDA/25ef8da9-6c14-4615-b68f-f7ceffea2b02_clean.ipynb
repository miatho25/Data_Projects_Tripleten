{
 "cells": [
  {
   "cell_type": "markdown",
   "id": "8aa0c7b3",
   "metadata": {},
   "source": "<div style=\"border:solid blue 2px; padding: 20px\">\n\n**Overall Summary of the Project Iter 2**\n\nYou almost got it, Mia! You made some nice changes for the 2nd submission. There are just a few minor things missing, but you are really close to the approval point ;)\n    \nJust make those minor changes and submit again for me to approve the project!"
  },
  {
   "cell_type": "markdown",
   "id": "a7e9ae4b",
   "metadata": {},
   "source": "<div style=\"border:solid blue 2px; padding: 20px\">\n\n**Overall Summary of the Project Iter 3**\n\nApproved :)"
  },
  {
   "cell_type": "code",
   "execution_count": null,
   "id": "77ca1fdf",
   "metadata": {
    "trusted": false
   },
   "outputs": [],
   "source": "import pandas as pd \norder_file = '/datasets/instacart_orders.csv'\nproducts_file = '/datasets/products.csv'\naisles_file = '/datasets/aisles.csv'\ndepartments_file = '/datasets/departments.csv'\norder_products_file = '/datasets/order_products.csv'\n"
  },
  {
   "cell_type": "code",
   "execution_count": null,
   "id": "ad36396d",
   "metadata": {
    "trusted": false
   },
   "outputs": [],
   "source": "orders_df = pd.read_csv(order_file, sep=';', low_memory=False)\nprint(orders_df)\nprint(orders_df.info())"
  },
  {
   "cell_type": "code",
   "execution_count": null,
   "id": "ad6a1efa",
   "metadata": {
    "trusted": false
   },
   "outputs": [],
   "source": "products_df = pd.read_csv(products_file, sep=';', low_memory=False)\nprint(products_df)\nprint(products_df.info())"
  },
  {
   "cell_type": "code",
   "execution_count": null,
   "id": "5130e05e",
   "metadata": {
    "trusted": false
   },
   "outputs": [],
   "source": "aisles_df = pd.read_csv(aisles_file, sep=';', low_memory=False)\nprint(aisles_df)\nprint(aisles_df.info())"
  },
  {
   "cell_type": "code",
   "execution_count": null,
   "id": "d8370c05",
   "metadata": {
    "trusted": false
   },
   "outputs": [],
   "source": "departments_df = pd.read_csv(departments_file, sep=';', low_memory=False)\nprint(departments_df)\nprint(departments_df.info())"
  },
  {
   "cell_type": "code",
   "execution_count": null,
   "id": "59e2090f",
   "metadata": {
    "trusted": false
   },
   "outputs": [],
   "source": "order_products_df = pd.read_csv(order_products_file, sep=';', low_memory=False)\nprint(order_products_df)\nprint(order_products_df.info())"
  },
  {
   "cell_type": "code",
   "execution_count": null,
   "id": "6fc81694",
   "metadata": {
    "trusted": false
   },
   "outputs": [],
   "source": "orders_df.fillna({'order_number': 0, 'order_dow': 0, 'order_hour_of_day': 0}, inplace=True)\norder_products_df.fillna({'add_to_cart_order': 0}, inplace=True)\n"
  },
  {
   "cell_type": "markdown",
   "id": "07357848-dc64-4156-9cc3-01ff4365226d",
   "metadata": {},
   "source": "## Find and remove duplicate values (and describe why you make your choices)"
  },
  {
   "cell_type": "markdown",
   "id": "f179f0a9",
   "metadata": {},
   "source": "### `orders` data frame"
  },
  {
   "cell_type": "code",
   "execution_count": null,
   "id": "b99297a5-405a-463d-8535-9adc3da4ad74",
   "metadata": {
    "trusted": false
   },
   "outputs": [],
   "source": "# Check for duplicated orders\nduplicated_orders = orders_df[orders_df.duplicated()]\nprint(\"Duplicated Orders:\")\nprint(duplicated_orders)"
  },
  {
   "cell_type": "code",
   "execution_count": null,
   "id": "0d44de5d",
   "metadata": {
    "trusted": false
   },
   "outputs": [],
   "source": "# Check for all orders placed Wednesday at 2:00 AM\nwednesday_orders_2am = orders_df[(orders_df['order_dow'] == 3) & (orders_df['order_hour_of_day'] == 2)]\nprint(\"Orders placed Wednesday at 2:00 AM:\")\nprint(wednesday_orders_2am)"
  },
  {
   "cell_type": "code",
   "execution_count": null,
   "id": "480563c7",
   "metadata": {
    "trusted": false
   },
   "outputs": [],
   "source": "# Remove duplicate orders\norders_df.drop_duplicates(inplace=True)\nprint(\"Removed duplicate orders\")\nprint(orders_df.duplicated().sum())"
  },
  {
   "cell_type": "code",
   "execution_count": null,
   "id": "0b2396a2",
   "metadata": {
    "trusted": false
   },
   "outputs": [],
   "source": "# Double check for duplicate rows\nprint(\"Double check for duplicate rows\")\nprint(orders_df.duplicated().sum())"
  },
  {
   "cell_type": "code",
   "execution_count": null,
   "id": "f6113ef1",
   "metadata": {
    "trusted": false
   },
   "outputs": [],
   "source": "# Double check for duplicate order IDs only\nduplicate_order_ids = orders_df[orders_df.duplicated(subset=['order_id'])]\nprint(\"Duplicate Order IDs\")\nprint(duplicate_order_ids)"
  },
  {
   "cell_type": "markdown",
   "id": "5e8905ae",
   "metadata": {},
   "source": ""
  },
  {
   "cell_type": "markdown",
   "id": "45e6bc46",
   "metadata": {},
   "source": "### `products` data frame"
  },
  {
   "cell_type": "code",
   "execution_count": null,
   "id": "5f526b5b-8175-46fa-a0fd-441767d50e64",
   "metadata": {
    "trusted": false
   },
   "outputs": [],
   "source": "# Check for fully duplicate rows\nduplicated_products = products_df[products_df.duplicated()]\nprint(\"Fully Duplicate Products:\")\nprint(duplicated_products)"
  },
  {
   "cell_type": "code",
   "execution_count": null,
   "id": "88daa4f4",
   "metadata": {
    "trusted": false
   },
   "outputs": [],
   "source": "# Check for just duplicate product IDs\nduplicate_product_ids = products_df[products_df.duplicated(subset=['product_id'])]\nprint(\"Duplicate Product IDs\")\nprint(duplicate_product_ids)"
  },
  {
   "cell_type": "code",
   "execution_count": null,
   "id": "c773f0bf",
   "metadata": {
    "trusted": false
   },
   "outputs": [],
   "source": "# Check for just duplicate product names (convert names to lowercase to compare better)\nproducts_df['product_name_lower'] = products_df['product_name'].str.lower()\nduplicate_product_names = products_df[products_df.duplicated(subset=['product_name_lower'])]\nprint(\"Duplicate Product Names:\")\nprint(duplicate_product_names)"
  },
  {
   "cell_type": "code",
   "execution_count": null,
   "id": "01efd02e",
   "metadata": {
    "trusted": false
   },
   "outputs": [],
   "source": "# Check for duplicate product names that aren't missing\nnon_missing_duplicate_product_names = products_df[products_df['product_name'].notnull() & products_df.duplicated(subset=['product_name_lower'])]\nprint(\"Non-missing Duplicate Product Names:\")\nprint(non_missing_duplicate_product_names)"
  },
  {
   "cell_type": "markdown",
   "id": "9da8d293",
   "metadata": {},
   "source": ""
  },
  {
   "cell_type": "markdown",
   "id": "60f30db1",
   "metadata": {},
   "source": "### `departments` data frame"
  },
  {
   "cell_type": "code",
   "execution_count": null,
   "id": "fb410ad4-0fbf-4b80-bb09-23fdea79afe3",
   "metadata": {
    "trusted": false
   },
   "outputs": [],
   "source": "duplicated_departments = departments_df[departments_df.duplicated()]\nprint(\"Fully Duplicate Departments:\")\nprint(duplicated_departments)"
  },
  {
   "cell_type": "code",
   "execution_count": null,
   "id": "332b12bb",
   "metadata": {
    "trusted": false
   },
   "outputs": [],
   "source": "duplicate_department_ids = departments_df[departments_df.duplicated(subset=['department_id'])]\nprint(\"Duplicate Department IDs:\")\nprint(duplicate_department_ids)"
  },
  {
   "cell_type": "markdown",
   "id": "bd30d78e",
   "metadata": {},
   "source": ""
  },
  {
   "cell_type": "markdown",
   "id": "889349c1",
   "metadata": {},
   "source": "### `aisles` data frame"
  },
  {
   "cell_type": "code",
   "execution_count": null,
   "id": "9da89fb9-4679-40f5-ad0d-c34df753a3f8",
   "metadata": {
    "trusted": false
   },
   "outputs": [],
   "source": "duplicated_aisles = aisles_df[aisles_df.duplicated()]\nprint(\"Fully Duplicate Aisles:\")\nprint(duplicated_aisles)"
  },
  {
   "cell_type": "code",
   "execution_count": null,
   "id": "da7c2822",
   "metadata": {
    "trusted": false
   },
   "outputs": [],
   "source": "duplicate_aisle_ids = aisles_df[aisles_df.duplicated(subset=['aisle_id'])]\nprint(\"Duplicate Aisle IDs:\")\nprint(duplicate_aisle_ids)"
  },
  {
   "cell_type": "markdown",
   "id": "ac63826f",
   "metadata": {},
   "source": ""
  },
  {
   "cell_type": "markdown",
   "id": "274cd06a",
   "metadata": {},
   "source": "### `order_products` data frame"
  },
  {
   "cell_type": "code",
   "execution_count": null,
   "id": "52326689-84a8-4b8f-a881-7c68780f62c9",
   "metadata": {
    "trusted": false
   },
   "outputs": [],
   "source": "# Check for fullly duplicate rows\nduplicated_order_products = order_products_df[order_products_df.duplicated()]\nprint(\"Fully Duplicate Order Products:\")\nprint(duplicated_order_products)"
  },
  {
   "cell_type": "code",
   "execution_count": null,
   "id": "7b861391",
   "metadata": {
    "trusted": false
   },
   "outputs": [],
   "source": "# Double check for any other tricky duplicates\ntricky_duplicates = order_products_df[order_products_df.duplicated(subset=['order_id', 'product_id'])]\nprint(\"Tricky Duplicates(based on order_id and product_id):\")\nprint(tricky_duplicates)"
  },
  {
   "cell_type": "markdown",
   "id": "0b890492",
   "metadata": {},
   "source": ""
  },
  {
   "cell_type": "markdown",
   "id": "1e46de76",
   "metadata": {},
   "source": "## Find and remove missing values\n"
  },
  {
   "cell_type": "markdown",
   "id": "c0aebd78",
   "metadata": {},
   "source": "### `products` data frame"
  },
  {
   "cell_type": "code",
   "execution_count": null,
   "id": "fe4a8b0f",
   "metadata": {
    "trusted": false
   },
   "outputs": [],
   "source": "missing_product_names = products_df[products_df['product_name'].isnull()]\nprint(\"Missing Product Names:\")\nprint(missing_product_names)"
  },
  {
   "cell_type": "code",
   "execution_count": null,
   "id": "e96167bc",
   "metadata": {
    "trusted": false
   },
   "outputs": [],
   "source": "# Are all of the missing product names associated with aisle ID 100?\nmissing_in_aisle_100 = missing_product_names['aisle_id'].eq(100).all()\nprint('Are all missing product names associated with aisle ID 100?')\nprint(missing_in_aisle_100)"
  },
  {
   "cell_type": "code",
   "execution_count": null,
   "id": "8fd0a541",
   "metadata": {
    "scrolled": false,
    "trusted": false
   },
   "outputs": [],
   "source": "# Are all of the missing product names associated with department ID 21?\nmissing_in_department_21 = missing_product_names['department_id'].eq(21).all()\nprint(\"Are all missing product names associated with department ID 21\")\nprint(missing_in_department_21)"
  },
  {
   "cell_type": "code",
   "execution_count": null,
   "id": "325c3464",
   "metadata": {
    "trusted": false
   },
   "outputs": [],
   "source": "# What is this ailse and department?\nmissing_product_aisles_departments = missing_product_names[['aisle_id', 'department_id']]\nprint(\"Aisle and Department for Missing Product Names:\")\nprint(missing_product_aisles_departments)"
  },
  {
   "cell_type": "code",
   "execution_count": null,
   "id": "6b295120",
   "metadata": {
    "trusted": false
   },
   "outputs": [],
   "source": "# Fill missing product names with 'Unknown'\nproducts_df['product_name'].fillna('Unknown', inplace=True)\n"
  },
  {
   "cell_type": "markdown",
   "id": "fc70e5ad",
   "metadata": {},
   "source": ""
  },
  {
   "cell_type": "markdown",
   "id": "7eb45c86",
   "metadata": {},
   "source": "### `orders` data frame"
  },
  {
   "cell_type": "code",
   "execution_count": null,
   "id": "93e41d96",
   "metadata": {
    "trusted": false
   },
   "outputs": [],
   "source": "print(orders_df)\nprint(orders_df.info())"
  },
  {
   "cell_type": "code",
   "execution_count": null,
   "id": "166e5a86",
   "metadata": {
    "trusted": false
   },
   "outputs": [],
   "source": "# Are there any missing values where it's not a customer's first order?\nmissing_values_not_first_order = orders_df[(orders_df['user_id'].duplicated(keep='first')) & (orders_df.isnull().any(axis=1))]\nprint(\"Missing Values ofr Non-First Orders:\")\nprint(missing_values_not_first_order)"
  },
  {
   "cell_type": "markdown",
   "id": "4e23d089",
   "metadata": {},
   "source": ""
  },
  {
   "cell_type": "markdown",
   "id": "69dc9ca4",
   "metadata": {},
   "source": "### `order_products` data frame"
  },
  {
   "cell_type": "code",
   "execution_count": null,
   "id": "b8240253",
   "metadata": {
    "trusted": false
   },
   "outputs": [],
   "source": "print(order_products_df)\nprint(order_products_df.info())"
  },
  {
   "cell_type": "code",
   "execution_count": null,
   "id": "9a78e5ee",
   "metadata": {
    "trusted": false
   },
   "outputs": [],
   "source": "# What are the min and max values in this column?\nmin_add_to_cart_order = order_products_df['add_to_cart_order'].min()\nmax_add_to_cart_order = order_products_df['add_to_cart_order'].max()\nprint(\"Min add to cart order:\")\nprint(min_add_to_cart_order)\nprint(\"Max add to cart order:\")\nprint(max_add_to_cart_order)\n      "
  },
  {
   "cell_type": "code",
   "execution_count": null,
   "id": "ab9d0c2b",
   "metadata": {
    "trusted": false
   },
   "outputs": [],
   "source": "# Save all order IDs with at least one missing value in 'add_to_cart_order'\norder_id_with_missing_value = order_products_df[order_products_df['add_to_cart_order'].isnull()] ['order_id'].unique()\nprint(\"Order IDs with missing value\")\nprint(order_id_with_missing_value)"
  },
  {
   "cell_type": "code",
   "execution_count": null,
   "id": "54c31695",
   "metadata": {
    "trusted": false
   },
   "outputs": [],
   "source": "# Do all orders with missing values have more than 64 products?\nmissing_orders_check = order_products_df[order_products_df['add_to_cart_order'].isnull()] ['order_id'].value_counts() \nall_have_more_than_64 = (missing_orders_check > 64).all()\nprint(\"Orders with missing value more than 64 products\")\nprint(all_have_more_than_64)"
  },
  {
   "cell_type": "code",
   "execution_count": null,
   "id": "7a987d08",
   "metadata": {
    "trusted": false
   },
   "outputs": [],
   "source": "# Replace missing values with 999 and convert column to integer type\norder_products_df['add_to_cart_order'].fillna(999, inplace=True)\norder_products_df['add_to_cart_order'] = order_products_df['add_to_cart_order'].astype(int)\nprint(order_products_df['add_to_cart_order'])"
  },
  {
   "cell_type": "markdown",
   "id": "fea4bcc7",
   "metadata": {},
   "source": ""
  },
  {
   "cell_type": "markdown",
   "id": "turkish-kidney",
   "metadata": {},
   "source": "# [A] Easy (must complete all to pass)"
  },
  {
   "cell_type": "markdown",
   "id": "short-capability",
   "metadata": {},
   "source": "### [A1] Verify that the `'order_hour_of_day'` and `'order_dow'` values in the `orders` tables are sensible (i.e. `'order_hour_of_day'` ranges from 0 to 23 and `'order_dow'` ranges from 0 to 6)"
  },
  {
   "cell_type": "code",
   "execution_count": null,
   "id": "growing-fruit",
   "metadata": {
    "trusted": false
   },
   "outputs": [],
   "source": "valid_hour_range = orders_df['order_hour_of_day'].between(0, 23).all()\n\nprint(\"Are all order_hour_of_day values valid?\")\nprint(valid_hour_range)\n"
  },
  {
   "cell_type": "code",
   "execution_count": null,
   "id": "accessory-malaysia",
   "metadata": {
    "trusted": false
   },
   "outputs": [],
   "source": "valid_dow_range = orders_df['order_dow'].between(0, 6).all()\nprint(\"Are all order_dow values valid?\")\nprint(valid_dow_range)"
  },
  {
   "cell_type": "markdown",
   "id": "a6743a70",
   "metadata": {},
   "source": "### [A2] What time of day do people shop for groceries?"
  },
  {
   "cell_type": "code",
   "execution_count": null,
   "id": "a36cca27",
   "metadata": {
    "trusted": false
   },
   "outputs": [],
   "source": "import matplotlib.pyplot as plt\nplt.figure(figsize=(10,6))\norders_df['order_hour_of_day'].hist(bins=24)\nplt.title('Distribution of Orders by Hours of Day')\nplt.xlabel('Hours of Day')\nplt.ylabel('Number of Orders')\nplt.xticks(range(0, 24))\nplt.grid(axis='y')\nplt.show()\n\nprint(\"Most people shop for groceries between the hours of 9:30 AM and 10:30 AM\")"
  },
  {
   "cell_type": "markdown",
   "id": "55ecfc7b",
   "metadata": {},
   "source": "<span style=\"color:blue\">Most people shop for groceries between the hours of 9:30 AM and 10:30 AM</span>\n"
  },
  {
   "cell_type": "markdown",
   "id": "11270eed",
   "metadata": {},
   "source": ""
  },
  {
   "cell_type": "markdown",
   "id": "documented-command",
   "metadata": {},
   "source": "### [A3] What day of the week do people shop for groceries?"
  },
  {
   "cell_type": "code",
   "execution_count": null,
   "id": "chief-digit",
   "metadata": {
    "trusted": false
   },
   "outputs": [],
   "source": "plt.figure(figsize=(10,6))\norders_df['order_dow'].hist(bins=7)\nplt.title('Distribution of Orders by Day of Week')\nplt.xlabel('Day of Week(0=Sun, 6=Sat)')\nplt.ylabel('Number of Orders')\nplt.xticks(range(0, 7))\nplt.grid(axis='y')\nplt.show()\nprint(\"Most people shop for groceries on Sunday\")"
  },
  {
   "cell_type": "markdown",
   "id": "53e07c03",
   "metadata": {},
   "source": "<span style=\"color:blue\">Most people shop for groceries on Sunday</span>\n"
  },
  {
   "cell_type": "markdown",
   "id": "dominant-lightning",
   "metadata": {},
   "source": ""
  },
  {
   "cell_type": "markdown",
   "id": "cutting-concert",
   "metadata": {},
   "source": "### [A4] How long do people wait until placing another order?"
  },
  {
   "cell_type": "code",
   "execution_count": null,
   "id": "5fc2eb58",
   "metadata": {
    "trusted": false
   },
   "outputs": [],
   "source": "#calculate the time between orders\norders_df['days_since_prior_order'] = pd.to_numeric(orders_df['days_since_prior_order'], errors='coerce')\n\n\n#sort by user_id and order_time\norders_df.sort_values(by=['user_id', 'order_number'], inplace=True)\n\n#calculate the time difference between consecutive orders\norders_df['time_diff'] = orders_df['days_since_prior_order']\n\n# Remove NaN values for plotting\nfiltered_df = orders_df.dropna(subset=['time_diff'])\n\n#Plot histogram\nplt.figure(figsize=(10, 6))\nplt.hist(filtered_df['time_diff'], bins=30, alpha=0.7, color='blue', edgecolor='black')\nplt.xlabel('Time Between Orders (days)')\nplt.ylabel('Frequency')\nplt.title('Distribution of Time Between Orders')\nplt.grid(axis='y', linestyle='--', alpha=0.7)\nplt.show()\n\n# Conclusion\navg_time_between_orders = filtered_df['time_diff'].mean()\nprint(f\"On average, customers wait approximately {avg_time_between_orders:.2f} days before placing another order.\")\n\n\n\n\n"
  },
  {
   "cell_type": "markdown",
   "id": "discrete-vertex",
   "metadata": {},
   "source": ""
  },
  {
   "cell_type": "markdown",
   "id": "8d926614",
   "metadata": {},
   "source": ""
  },
  {
   "cell_type": "markdown",
   "id": "tight-staff",
   "metadata": {},
   "source": "# [B] Medium (must complete all to pass)"
  },
  {
   "cell_type": "markdown",
   "id": "packed-classic",
   "metadata": {},
   "source": "### [B1] Is there a difference in `'order_hour_of_day'` distributions on Wednesdays and Saturdays? Plot the histograms for both days and describe the differences that you see."
  },
  {
   "cell_type": "code",
   "execution_count": null,
   "id": "d89b8403",
   "metadata": {
    "trusted": false
   },
   "outputs": [],
   "source": "wednesday_orders = orders_df[orders_df['order_dow'] == 3]\nsaturday_orders = orders_df[orders_df['order_dow'] == 6]\n\nplt.hist(wednesday_orders['order_hour_of_day'], bins=24, alpha=0.5, label='Wednesday')\nplt.hist(saturday_orders['order_hour_of_day'], bins=24, alpha=0.5, label='Saturday')\n\nplt.title('Order Hour of Day Distribution: Wednesday vs Saturday')\nplt.xlabel('Hour of Day')\nplt.ylabel('Number of Orders')\nplt.xticks(range(0, 24))\nplt.legend()\nplt.grid(axis='y')\n\nplt.show()\n"
  },
  {
   "cell_type": "markdown",
   "id": "4c3ac2a4",
   "metadata": {},
   "source": "# conclusion\n<span style=\"color:blue\">Wednesdays Orders tend to peak around 10 AM - 12 PM.A gradual decline is observed after lunch hours, and the activity slows down significantly in the evening.Saturdays Orders are more evenly spread throughout the day, with higher order counts extending into the late afternoon.There is a stronger presence of evening orders compared to Wednesday, indicating that more people may be shopping later in the day on weekends</span>\n"
  },
  {
   "cell_type": "markdown",
   "id": "charitable-congo",
   "metadata": {},
   "source": ""
  },
  {
   "cell_type": "markdown",
   "id": "e3891143",
   "metadata": {},
   "source": "### [B2] What's the distribution for the number of orders per customer?"
  },
  {
   "cell_type": "code",
   "execution_count": null,
   "id": "d8c26c23",
   "metadata": {
    "trusted": false
   },
   "outputs": [],
   "source": "orders_per_customer = orders_df['user_id'].value_counts()\nprint(orders_per_customer)\n\n# Plot histogram\nplt.figure(figsize=(10, 5))\nplt.hist(orders_per_customer, bins=30, edgecolor='black', alpha=0.7)\n\n# Labels and title\nplt.title('Distribution of Number of Orders per Customer')\nplt.xlabel('Number of Orders')\nplt.ylabel('Number of Customers')\nplt.grid(axis='y')\nplt.show()\n\nprint(\"Most Customers Have a Low Number of Orders. The distribution is right-skewed, meaning the majority of customers place only a few orders, while a smaller group of frequent shoppers place a high number of orders. A Few Customers Are Highly ActiveSome customers place 20+ orders, indicating a loyal user base that regularly uses the service\")"
  },
  {
   "cell_type": "markdown",
   "id": "4a9590f2",
   "metadata": {},
   "source": "# conclusion\n<span style=\"color:blue\">Most Customers Have a Low Number of Orders. The distribution is right-skewed, meaning the majority of customers place only a few orders, while a smaller group of frequent shoppers place a high number of orders. A Few Customers Are Highly ActiveSome customers place 20+ orders, indicating a loyal user base that regularly uses the service</span>"
  },
  {
   "cell_type": "markdown",
   "id": "d2eff7d5",
   "metadata": {},
   "source": ""
  },
  {
   "cell_type": "markdown",
   "id": "54a0319c",
   "metadata": {},
   "source": "### [B3] What are the top 20 popular products (display their id and name)?"
  },
  {
   "cell_type": "code",
   "execution_count": null,
   "id": "exterior-arizona",
   "metadata": {
    "scrolled": true,
    "trusted": false
   },
   "outputs": [],
   "source": "top_products = order_products_df['product_id'].value_counts().head(20).reset_index()\ntop_products.columns = ['product_id', 'order_count']"
  },
  {
   "cell_type": "code",
   "execution_count": null,
   "id": "universal-facial",
   "metadata": {
    "trusted": false
   },
   "outputs": [],
   "source": "top_product_names = products_df[['product_id', 'product_name']].drop_duplicates()\ntop_products_info = top_products.merge(top_product_names, on='product_id', how='left')\n"
  },
  {
   "cell_type": "code",
   "execution_count": null,
   "id": "bbcdd20b",
   "metadata": {
    "trusted": false
   },
   "outputs": [],
   "source": "top_products_info = top_products_info[['product_id', 'product_name', 'order_count']]\nprint(\"Top 20 Popular Products\")\nprint(top_products_info)"
  },
  {
   "cell_type": "markdown",
   "id": "644e9e35",
   "metadata": {},
   "source": "<span style=\"color:blue\">Top 20 Popular products has been updated with correct order count</span>"
  },
  {
   "cell_type": "markdown",
   "id": "7df00f47",
   "metadata": {},
   "source": ""
  },
  {
   "cell_type": "markdown",
   "id": "gross-theme",
   "metadata": {},
   "source": "# [C] Hard (must complete at least two to pass)"
  },
  {
   "cell_type": "markdown",
   "id": "romantic-deposit",
   "metadata": {},
   "source": "### [C1] How many items do people typically buy in one order? What does the distribution look like?"
  },
  {
   "cell_type": "code",
   "execution_count": null,
   "id": "virtual-punch",
   "metadata": {
    "trusted": false
   },
   "outputs": [],
   "source": "items_per_order = order_products_df.groupby('order_id')['product_id'].count()\nprint(items_per_order)\n\nprint(\"The typical order size is {items_per_order.mean():.2f}\")"
  },
  {
   "cell_type": "code",
   "execution_count": null,
   "id": "sensitive-breathing",
   "metadata": {
    "trusted": false
   },
   "outputs": [],
   "source": "plt.figure(figsize=(10,6))\nitems_per_order.hist(bins=50)\nplt.title('Distribution of Number of Items per Order')\nplt.xlabel('Number of Items')\nplt.ylabel('Number of Orders')\nplt.grid(axis='y')\nplt.show()\n"
  },
  {
   "cell_type": "markdown",
   "id": "6368206c",
   "metadata": {},
   "source": "#Conclusion\n<span style=\"color:blue\">The distribution of the number of items per order shows that most orders contain a relatively small number of items, with a peak around a certain range. The histogram likely indicates a right-skewed distribution, meaning a majority of customers purchase only a few items per order, while a smaller number of orders contain a large number of items</span>\n"
  },
  {
   "cell_type": "markdown",
   "id": "designed-mortality",
   "metadata": {},
   "source": ""
  },
  {
   "cell_type": "markdown",
   "id": "5e6b5537",
   "metadata": {},
   "source": "### [C2] What are the top 20 items that are reordered most frequently (display their names and product IDs)?"
  },
  {
   "cell_type": "code",
   "execution_count": null,
   "id": "9374e55a",
   "metadata": {
    "trusted": false
   },
   "outputs": [],
   "source": "reordered_items = (order_products_df[order_products_df['reordered'] == 1]['product_id'].value_counts().head(20).reset_index())\nprint(reordered_items)"
  },
  {
   "cell_type": "code",
   "execution_count": null,
   "id": "possible-change",
   "metadata": {
    "scrolled": true,
    "trusted": false
   },
   "outputs": [],
   "source": "reordered_items.columns = ['product_id', 'reorder_count'] \nreordered_product_names = products_df[['product_id', 'product_name']].drop_duplicates()\n\nprint(reordered_product_names)"
  },
  {
   "cell_type": "code",
   "execution_count": null,
   "id": "professional-surfing",
   "metadata": {
    "scrolled": true,
    "trusted": false
   },
   "outputs": [],
   "source": "reordered_products_info = reordered_items.merge(reordered_product_names, on='product_id', how='left')\nreordered_products_info = reordered_products_info[['product_id', 'product_name', 'reorder_count']]\n\nprint(\"Top 20 Reordered Products:\")\nprint(reordered_products_info)"
  },
  {
   "cell_type": "markdown",
   "id": "80e70c74",
   "metadata": {},
   "source": ""
  },
  {
   "cell_type": "markdown",
   "id": "9d312b14",
   "metadata": {},
   "source": "### [C3] For each product, what proportion of its orders are reorders?"
  },
  {
   "cell_type": "code",
   "execution_count": null,
   "id": "8ae9f4b1",
   "metadata": {
    "trusted": false
   },
   "outputs": [],
   "source": "total_orders_per_product = order_products_df['product_id'].value_counts().reset_index()\ntotal_orders_per_product.columns = ['product_id', 'total_orders']\n\nprint(total_orders_per_product)"
  },
  {
   "cell_type": "code",
   "execution_count": null,
   "id": "103e7fe1",
   "metadata": {
    "trusted": false
   },
   "outputs": [],
   "source": "reordered_per_product = order_products_df[order_products_df['reordered'] == 1]['product_id'].value_counts().reset_index()\nreordered_per_product.columns = ['product_id', 'num_reordered']\n\nprint(reordered_per_product)"
  },
  {
   "cell_type": "code",
   "execution_count": null,
   "id": "social-individual",
   "metadata": {
    "trusted": false
   },
   "outputs": [],
   "source": "product_reorder_ratio = total_orders_per_product.merge(reordered_per_product, on='product_id', how='left')\nproduct_reorder_ratio['num_reordered'].fillna(0, inplace=True)\nproduct_reorder_ratio['reorder_proportion'] = product_reorder_ratio['num_reordered'] / product_reorder_ratio['total_orders']\nproduct_reorder_ratio = product_reorder_ratio.merge(products_df[['product_id', 'product_name']], on='product_id', how='left')\nproduct_reorder_ratio = product_reorder_ratio[['product_id', 'product_name', 'total_orders', 'num_reordered', 'reorder_proportion']]\n\nprint(\"Proportion of Orders That Are Reorders for Each Product:\")\nprint(product_reorder_ratio)"
  },
  {
   "cell_type": "markdown",
   "id": "40ac48ef",
   "metadata": {},
   "source": "# 2.14 [C4] For each customer, what proportion of their products ordered are reorders?"
  },
  {
   "cell_type": "code",
   "execution_count": null,
   "id": "medical-couple",
   "metadata": {
    "scrolled": true,
    "trusted": false
   },
   "outputs": [],
   "source": "order_products_df = order_products_df.merge(orders_df[['order_id', 'user_id']], on='order_id', how='left')\n\ntotal_products_per_customer = order_products_df.groupby('user_id')['product_id'].count().reset_index()\ntotal_products_per_customer.columns = ['user_id', 'total_products']\n\nreordered_per_customer = order_products_df[order_products_df['reordered'] == 1].groupby('user_id')['product_id'].count().reset_index()\nreordered_per_customer.columns = ['user_id', 'num_reordered']\n\ncustomer_reorder_ratio = total_products_per_customer.merge(reordered_per_customer, on='user_id', how='left')\ncustomer_reorder_ratio['num_reordered'].fillna(0, inplace=True)\n\ncustomer_reorder_ratio['reorder_proportion'] = customer_reorder_ratio['num_reordered'] / customer_reorder_ratio['total_products']\n\nprint(\"Proportion of Reordered Products for Each Customer:\")\nprint(customer_reorder_ratio.head())"
  },
  {
   "cell_type": "markdown",
   "id": "92d35137",
   "metadata": {},
   "source": "### [C5] What are the top 20 items that people put in their carts first? "
  },
  {
   "cell_type": "code",
   "execution_count": null,
   "id": "0ae57274",
   "metadata": {
    "scrolled": true,
    "trusted": false
   },
   "outputs": [],
   "source": "# Identify the first items added to the cart (order_id irrelevant now)\nfirst_items_count = order_products_df['product_id'].value_counts().reset_index()\nfirst_items_count.columns = ['product_id', 'first_item_count']\n\n# Get product names from products DataFrame\nfirst_items_product_names = products_df[['product_id', 'product_name']]\n\n# Merge counts with product names\nfirst_items_info = first_items_count.merge(first_items_product_names, on='product_id', how='left')\n\n# Ensure all product names are filled\nfirst_items_info['product_name'].fillna(\"Unknown Product\", inplace=True)\n\n# Define a function to clean and group similar product names\ndef standardize_product_name(name):\n    name = name.lower().strip()  # Convert to lowercase and strip spaces\n    \n    # Remove unnecessary words\n    remove_words = [\"organic\", \"bag of\", \"fat free\", \"reduced fat\", \"whole\", \"2%\", \"1%\", \"half & half\", \"skim\", \"low fat\"]\n    for word in remove_words:\n        name = name.replace(word, \"\")\n\n    # Singularize common plural words\n    singular_map = {\n        \"bananas\": \"banana\",\n        \"avocados\": \"avocado\",\n        \"grapefruits\": \"grapefruit\",\n        \"onions\": \"onion\",\n        \"strawberries\": \"strawberry\",\n        \"raspberries\": \"raspberry\",\n        \"blueberries\": \"blueberry\",\n        \"limes\": \"lime\",\n        \"lemons\": \"lemon\",\n        \"waters\": \"water\",\n        \"apples\": \"apple\",\n        \"tomatoes\": \"tomato\"\n    }\n    for plural, singular in singular_map.items():\n        name = name.replace(plural, singular)\n\n    # Clean extra spaces\n    name = \" \".join(name.split()).strip()\n    \n    return name\n\n# Apply standardization\nfirst_items_info['cleaned_product_name'] = first_items_info['product_name'].apply(standardize_product_name)\n\n# Group by standardized names and sum the counts\ngrouped_first_items = (\n    first_items_info.groupby(['cleaned_product_name'], as_index=False)\n    .agg({'first_item_count': 'sum'})\n    .sort_values(by='first_item_count', ascending=False)\n)\n\n# Ensure empty names are properly labeled\ngrouped_first_items = grouped_first_items[grouped_first_items['cleaned_product_name'] != \"\"]\n\n# Merge back with product_id (keeping the most popular one for reference)\nfirst_product_ids = first_items_info.groupby('cleaned_product_name')['product_id'].first().reset_index()\ntop_20_first_items = grouped_first_items.merge(first_product_ids, on='cleaned_product_name', how='left')\n\n# Select top 20 products\ntop_20_first_items = top_20_first_items[['product_id', 'cleaned_product_name', 'first_item_count']].head(20)\n\n# Add index column\ntop_20_first_items.reset_index(drop=True, inplace=True)\ntop_20_first_items.index += 1  # Start index from 1\n\n# Display the result\nprint(\"Top 20 Items That People Put in Their Carts First:\")\nprint(top_20_first_items)\n"
  },
  {
   "cell_type": "markdown",
   "id": "60da3b3a",
   "metadata": {},
   "source": "# Conclusion\n<span style=\"color:blue\">The listed Top 20 items is what people place in their cart first!</span>"
  },
  {
   "cell_type": "markdown",
   "id": "28ce9872",
   "metadata": {},
   "source": ""
  },
  {
   "cell_type": "markdown",
   "id": "22a9fa64",
   "metadata": {},
   "source": "# Instacart Customer Insight Conclusion\n \nThrough our analysis of Instacart customer shopping behavior, we uncovered key insights that highlight purchasing patterns and user preferences. The data revealed that customers frequently reorder specific products, with a tendency to place orders during peak times such as weekends and mornings. Additionally, loyal customers demonstrate consistent purchasing habits, favoring certain product categories repeatedly.\n\nThese insights can be leveraged to enhance Instacart’s user experience by optimizing product recommendations, improving inventory management, and personalizing marketing strategies. Understanding when and what customers are likely to purchase allows for better demand forecasting and targeted promotions, ultimately improving customer satisfaction and business efficiency.\n\nBy implementing these findings, Instacart can refine its recommendation algorithms and streamline order fulfillment, leading to a more seamless shopping experience for its users."
  },
  {
   "cell_type": "code",
   "execution_count": null,
   "id": "5c14855a",
   "metadata": {
    "trusted": false
   },
   "outputs": [],
   "source": ""
  }
 ],
 "metadata": {
  "ExecuteTimeLog": [
   {
    "duration": 3,
    "start_time": "2025-02-23T23:50:47.908Z"
   },
   {
    "duration": 244,
    "start_time": "2025-02-23T23:52:41.044Z"
   },
   {
    "duration": 22,
    "start_time": "2025-02-23T23:53:32.491Z"
   },
   {
    "duration": 33,
    "start_time": "2025-02-23T23:53:58.599Z"
   },
   {
    "duration": 13,
    "start_time": "2025-02-23T23:54:47.853Z"
   },
   {
    "duration": 41,
    "start_time": "2025-02-23T23:54:58.394Z"
   },
   {
    "duration": 3,
    "start_time": "2025-02-23T23:55:22.483Z"
   },
   {
    "duration": 242,
    "start_time": "2025-02-23T23:55:24.738Z"
   },
   {
    "duration": 32,
    "start_time": "2025-02-23T23:55:27.180Z"
   },
   {
    "duration": 15,
    "start_time": "2025-02-23T23:55:30.362Z"
   },
   {
    "duration": 7,
    "start_time": "2025-02-23T23:56:12.300Z"
   },
   {
    "duration": 8,
    "start_time": "2025-02-23T23:57:02.677Z"
   },
   {
    "duration": 361,
    "start_time": "2025-02-24T01:36:57.533Z"
   },
   {
    "duration": 254,
    "start_time": "2025-02-24T01:36:59.843Z"
   },
   {
    "duration": 51,
    "start_time": "2025-02-24T01:37:02.817Z"
   },
   {
    "duration": 8,
    "start_time": "2025-02-24T01:37:05.451Z"
   },
   {
    "duration": 10,
    "start_time": "2025-02-24T01:37:08.023Z"
   },
   {
    "duration": 3025,
    "start_time": "2025-02-24T01:37:22.742Z"
   },
   {
    "duration": 3332,
    "start_time": "2025-02-24T01:37:46.946Z"
   },
   {
    "duration": 273,
    "start_time": "2025-02-24T01:38:45.454Z"
   },
   {
    "duration": 49,
    "start_time": "2025-02-24T01:40:21.890Z"
   },
   {
    "duration": 14,
    "start_time": "2025-02-24T01:40:52.245Z"
   },
   {
    "duration": 11,
    "start_time": "2025-02-24T01:41:09.925Z"
   },
   {
    "duration": 5,
    "start_time": "2025-02-24T01:52:38.381Z"
   },
   {
    "duration": 7,
    "start_time": "2025-02-24T01:53:17.927Z"
   },
   {
    "duration": 4,
    "start_time": "2025-02-24T01:53:36.754Z"
   },
   {
    "duration": 5,
    "start_time": "2025-02-24T02:19:42.118Z"
   },
   {
    "duration": 9,
    "start_time": "2025-02-24T02:21:14.564Z"
   },
   {
    "duration": 2,
    "start_time": "2025-02-24T02:32:14.406Z"
   },
   {
    "duration": 155,
    "start_time": "2025-02-24T02:39:24.469Z"
   },
   {
    "duration": 42,
    "start_time": "2025-02-24T02:39:58.568Z"
   },
   {
    "duration": 12,
    "start_time": "2025-02-24T02:40:16.471Z"
   },
   {
    "duration": 12,
    "start_time": "2025-02-24T02:40:46.561Z"
   },
   {
    "duration": 947,
    "start_time": "2025-02-24T02:41:08.209Z"
   },
   {
    "duration": 5,
    "start_time": "2025-02-24T02:48:48.321Z"
   },
   {
    "duration": 192,
    "start_time": "2025-02-24T02:55:07.644Z"
   },
   {
    "duration": 23,
    "start_time": "2025-02-24T02:56:16.920Z"
   },
   {
    "duration": 107,
    "start_time": "2025-02-24T02:59:19.121Z"
   },
   {
    "duration": 91,
    "start_time": "2025-02-24T02:59:22.923Z"
   },
   {
    "duration": 902,
    "start_time": "2025-02-24T03:01:30.491Z"
   },
   {
    "duration": 73,
    "start_time": "2025-02-24T03:16:04.607Z"
   },
   {
    "duration": 17,
    "start_time": "2025-02-24T03:19:03.761Z"
   },
   {
    "duration": 150,
    "start_time": "2025-02-24T03:22:01.411Z"
   },
   {
    "duration": 70,
    "start_time": "2025-02-24T03:25:50.127Z"
   },
   {
    "duration": 39,
    "start_time": "2025-02-24T03:27:32.946Z"
   },
   {
    "duration": 14,
    "start_time": "2025-02-24T03:29:39.550Z"
   },
   {
    "duration": 6,
    "start_time": "2025-02-24T03:40:08.827Z"
   },
   {
    "duration": 14,
    "start_time": "2025-02-24T03:42:12.529Z"
   },
   {
    "duration": 14,
    "start_time": "2025-02-24T03:42:21.942Z"
   },
   {
    "duration": 28,
    "start_time": "2025-02-24T03:45:14.134Z"
   },
   {
    "duration": 14,
    "start_time": "2025-02-24T03:49:30.927Z"
   },
   {
    "duration": 17,
    "start_time": "2025-02-24T03:52:45.837Z"
   },
   {
    "duration": 5,
    "start_time": "2025-02-24T03:55:50.656Z"
   },
   {
    "duration": 4,
    "start_time": "2025-02-24T03:57:43.607Z"
   },
   {
    "duration": 4,
    "start_time": "2025-02-24T04:00:24.444Z"
   },
   {
    "duration": 5,
    "start_time": "2025-02-24T04:02:00.006Z"
   },
   {
    "duration": 747,
    "start_time": "2025-02-24T04:03:57.751Z"
   },
   {
    "duration": 669,
    "start_time": "2025-02-24T04:06:43.400Z"
   },
   {
    "duration": 6,
    "start_time": "2025-02-24T04:21:31.018Z"
   },
   {
    "duration": 4,
    "start_time": "2025-02-24T04:25:53.620Z"
   },
   {
    "duration": 3,
    "start_time": "2025-02-24T04:26:12.528Z"
   },
   {
    "duration": 377,
    "start_time": "2025-02-24T04:31:15.194Z"
   },
   {
    "duration": 4,
    "start_time": "2025-02-24T04:31:29.656Z"
   },
   {
    "duration": 4,
    "start_time": "2025-02-24T04:31:38.529Z"
   },
   {
    "duration": 4,
    "start_time": "2025-02-24T04:31:44.640Z"
   },
   {
    "duration": 4,
    "start_time": "2025-02-24T04:41:53.625Z"
   },
   {
    "duration": 5,
    "start_time": "2025-02-24T04:43:07.344Z"
   },
   {
    "duration": 5,
    "start_time": "2025-02-24T04:44:34.358Z"
   },
   {
    "duration": 12,
    "start_time": "2025-02-24T04:46:26.412Z"
   },
   {
    "duration": 376,
    "start_time": "2025-02-24T04:49:52.985Z"
   },
   {
    "duration": 13,
    "start_time": "2025-02-24T04:50:10.396Z"
   },
   {
    "duration": 10,
    "start_time": "2025-02-24T04:51:50.048Z"
   },
   {
    "duration": 5,
    "start_time": "2025-02-24T04:57:47.653Z"
   },
   {
    "duration": 314,
    "start_time": "2025-02-24T19:03:31.727Z"
   },
   {
    "duration": 165,
    "start_time": "2025-02-24T19:03:36.729Z"
   },
   {
    "duration": 59,
    "start_time": "2025-02-24T19:03:39.386Z"
   },
   {
    "duration": 13,
    "start_time": "2025-02-24T19:03:42.099Z"
   },
   {
    "duration": 14,
    "start_time": "2025-02-24T19:03:44.338Z"
   },
   {
    "duration": 1097,
    "start_time": "2025-02-24T19:03:47.134Z"
   },
   {
    "duration": 11,
    "start_time": "2025-02-24T19:04:05.263Z"
   },
   {
    "duration": 101,
    "start_time": "2025-02-24T19:04:08.322Z"
   },
   {
    "duration": 102,
    "start_time": "2025-02-24T19:04:42.260Z"
   },
   {
    "duration": 10,
    "start_time": "2025-02-24T19:04:51.139Z"
   },
   {
    "duration": 189,
    "start_time": "2025-02-24T19:04:58.348Z"
   },
   {
    "duration": 88,
    "start_time": "2025-02-24T19:05:02.606Z"
   },
   {
    "duration": 181,
    "start_time": "2025-02-24T19:05:27.961Z"
   },
   {
    "duration": 85,
    "start_time": "2025-02-24T19:05:32.343Z"
   },
   {
    "duration": 45,
    "start_time": "2025-02-24T19:05:35.033Z"
   },
   {
    "duration": 14,
    "start_time": "2025-02-24T19:05:37.919Z"
   },
   {
    "duration": 7,
    "start_time": "2025-02-24T19:05:41.850Z"
   },
   {
    "duration": 387,
    "start_time": "2025-02-24T19:06:00.079Z"
   },
   {
    "duration": 27,
    "start_time": "2025-02-24T19:06:47.635Z"
   },
   {
    "duration": 18,
    "start_time": "2025-02-24T19:06:51.788Z"
   },
   {
    "duration": 7,
    "start_time": "2025-02-24T19:07:03.104Z"
   },
   {
    "duration": 4,
    "start_time": "2025-02-24T19:07:08.281Z"
   },
   {
    "duration": 5,
    "start_time": "2025-02-24T19:07:12.340Z"
   },
   {
    "duration": 5,
    "start_time": "2025-02-24T19:07:14.920Z"
   },
   {
    "duration": 768,
    "start_time": "2025-02-24T19:07:18.189Z"
   },
   {
    "duration": 668,
    "start_time": "2025-02-24T19:07:19.592Z"
   },
   {
    "duration": 760,
    "start_time": "2025-02-24T19:07:22.584Z"
   },
   {
    "duration": 4,
    "start_time": "2025-02-24T19:07:27.135Z"
   },
   {
    "duration": 750,
    "start_time": "2025-02-24T19:07:30.134Z"
   },
   {
    "duration": 672,
    "start_time": "2025-02-24T19:07:33.848Z"
   },
   {
    "duration": 5,
    "start_time": "2025-02-24T19:07:38.315Z"
   },
   {
    "duration": 3,
    "start_time": "2025-02-24T19:07:41.647Z"
   },
   {
    "duration": 3,
    "start_time": "2025-02-24T19:07:44.947Z"
   },
   {
    "duration": 10,
    "start_time": "2025-02-24T19:08:45.512Z"
   },
   {
    "duration": 88,
    "start_time": "2025-02-24T19:08:47.640Z"
   },
   {
    "duration": 90,
    "start_time": "2025-02-24T19:09:01.755Z"
   },
   {
    "duration": 8,
    "start_time": "2025-02-24T19:09:17.242Z"
   },
   {
    "duration": 162,
    "start_time": "2025-02-24T19:09:22.420Z"
   },
   {
    "duration": 70,
    "start_time": "2025-02-24T19:09:24.763Z"
   },
   {
    "duration": 38,
    "start_time": "2025-02-24T19:09:26.994Z"
   },
   {
    "duration": 20,
    "start_time": "2025-02-24T19:09:30.796Z"
   },
   {
    "duration": 6,
    "start_time": "2025-02-24T19:09:38.806Z"
   },
   {
    "duration": 16,
    "start_time": "2025-02-24T19:10:00.332Z"
   },
   {
    "duration": 4,
    "start_time": "2025-02-24T19:10:04.268Z"
   },
   {
    "duration": 5,
    "start_time": "2025-02-24T19:10:11.866Z"
   },
   {
    "duration": 5,
    "start_time": "2025-02-24T19:10:15.213Z"
   },
   {
    "duration": 4,
    "start_time": "2025-02-24T19:10:18.223Z"
   },
   {
    "duration": 750,
    "start_time": "2025-02-24T19:10:21.566Z"
   },
   {
    "duration": 632,
    "start_time": "2025-02-24T19:10:25.494Z"
   },
   {
    "duration": 5,
    "start_time": "2025-02-24T19:10:30.288Z"
   },
   {
    "duration": 5,
    "start_time": "2025-02-24T19:10:33.892Z"
   },
   {
    "duration": 3,
    "start_time": "2025-02-24T19:10:39.059Z"
   },
   {
    "duration": 4,
    "start_time": "2025-02-24T19:10:42.151Z"
   },
   {
    "duration": 5,
    "start_time": "2025-02-24T19:10:49.439Z"
   },
   {
    "duration": 12,
    "start_time": "2025-02-24T19:11:09.325Z"
   },
   {
    "duration": 19,
    "start_time": "2025-02-24T19:11:13.587Z"
   },
   {
    "duration": 9,
    "start_time": "2025-02-24T19:11:17.067Z"
   },
   {
    "duration": 7,
    "start_time": "2025-02-24T19:11:20.842Z"
   },
   {
    "duration": 19,
    "start_time": "2025-02-24T19:12:48.102Z"
   },
   {
    "duration": 15,
    "start_time": "2025-02-24T19:13:09.971Z"
   },
   {
    "duration": 18,
    "start_time": "2025-02-24T19:13:34.096Z"
   },
   {
    "duration": 207,
    "start_time": "2025-02-24T19:37:18.719Z"
   },
   {
    "duration": 6,
    "start_time": "2025-02-24T19:37:36.619Z"
   },
   {
    "duration": 15,
    "start_time": "2025-02-24T19:42:22.446Z"
   },
   {
    "duration": 6,
    "start_time": "2025-02-24T19:42:41.839Z"
   },
   {
    "duration": 24,
    "start_time": "2025-02-24T19:45:11.962Z"
   },
   {
    "duration": 18,
    "start_time": "2025-02-24T19:45:35.682Z"
   },
   {
    "duration": 7,
    "start_time": "2025-02-24T19:50:38.283Z"
   },
   {
    "duration": 8,
    "start_time": "2025-02-24T19:51:32.867Z"
   },
   {
    "duration": 5,
    "start_time": "2025-02-24T19:51:36.211Z"
   },
   {
    "duration": 245,
    "start_time": "2025-02-24T20:45:51.341Z"
   },
   {
    "duration": 293,
    "start_time": "2025-02-24T20:45:56.308Z"
   },
   {
    "duration": 189,
    "start_time": "2025-02-24T20:45:57.391Z"
   },
   {
    "duration": 76,
    "start_time": "2025-02-24T20:45:58.499Z"
   },
   {
    "duration": 15,
    "start_time": "2025-02-24T20:45:59.329Z"
   },
   {
    "duration": 14,
    "start_time": "2025-02-24T20:46:00.280Z"
   },
   {
    "duration": 922,
    "start_time": "2025-02-24T20:46:01.107Z"
   },
   {
    "duration": 8,
    "start_time": "2025-02-24T20:46:02.032Z"
   },
   {
    "duration": 97,
    "start_time": "2025-02-24T20:46:04.309Z"
   },
   {
    "duration": 9,
    "start_time": "2025-02-24T20:46:05.047Z"
   },
   {
    "duration": 179,
    "start_time": "2025-02-24T20:46:05.794Z"
   },
   {
    "duration": 81,
    "start_time": "2025-02-24T20:46:06.484Z"
   },
   {
    "duration": 45,
    "start_time": "2025-02-24T20:46:07.189Z"
   },
   {
    "duration": 13,
    "start_time": "2025-02-24T20:46:09.636Z"
   },
   {
    "duration": 5,
    "start_time": "2025-02-24T20:46:10.283Z"
   },
   {
    "duration": 32,
    "start_time": "2025-02-24T20:46:11.283Z"
   },
   {
    "duration": 14,
    "start_time": "2025-02-24T20:46:11.823Z"
   },
   {
    "duration": 5,
    "start_time": "2025-02-24T20:46:13.565Z"
   },
   {
    "duration": 5,
    "start_time": "2025-02-24T20:46:14.178Z"
   },
   {
    "duration": 5,
    "start_time": "2025-02-24T20:46:15.890Z"
   },
   {
    "duration": 4,
    "start_time": "2025-02-24T20:46:16.359Z"
   },
   {
    "duration": 750,
    "start_time": "2025-02-24T20:46:17.762Z"
   },
   {
    "duration": 653,
    "start_time": "2025-02-24T20:46:18.514Z"
   },
   {
    "duration": 9,
    "start_time": "2025-02-24T20:46:20.321Z"
   },
   {
    "duration": 3,
    "start_time": "2025-02-24T20:46:20.818Z"
   },
   {
    "duration": 4,
    "start_time": "2025-02-24T20:46:21.277Z"
   },
   {
    "duration": 5,
    "start_time": "2025-02-24T20:46:22.058Z"
   },
   {
    "duration": 7,
    "start_time": "2025-02-24T20:46:22.544Z"
   },
   {
    "duration": 12,
    "start_time": "2025-02-24T20:46:24.038Z"
   },
   {
    "duration": 15,
    "start_time": "2025-02-24T20:46:24.664Z"
   },
   {
    "duration": 10,
    "start_time": "2025-02-24T20:46:26.809Z"
   },
   {
    "duration": 15,
    "start_time": "2025-02-24T20:46:27.430Z"
   },
   {
    "duration": 6,
    "start_time": "2025-02-24T20:46:28.341Z"
   },
   {
    "duration": 7,
    "start_time": "2025-02-24T20:46:29.172Z"
   },
   {
    "duration": 23,
    "start_time": "2025-02-24T20:46:29.638Z"
   },
   {
    "duration": 5,
    "start_time": "2025-02-24T20:46:33.836Z"
   },
   {
    "duration": 4,
    "start_time": "2025-02-24T20:46:38.604Z"
   },
   {
    "duration": 2117,
    "start_time": "2025-02-24T20:46:45.412Z"
   },
   {
    "duration": 8,
    "start_time": "2025-02-24T20:50:46.880Z"
   },
   {
    "duration": 136,
    "start_time": "2025-02-24T20:51:13.162Z"
   },
   {
    "duration": 434,
    "start_time": "2025-02-24T21:01:25.462Z"
   },
   {
    "duration": 141,
    "start_time": "2025-02-24T21:04:55.741Z"
   },
   {
    "duration": 1100,
    "start_time": "2025-02-24T21:05:14.878Z"
   },
   {
    "duration": 936,
    "start_time": "2025-02-24T21:06:16.106Z"
   },
   {
    "duration": 75,
    "start_time": "2025-02-24T21:08:42.428Z"
   },
   {
    "duration": 1095,
    "start_time": "2025-02-24T21:11:38.870Z"
   },
   {
    "duration": 6,
    "start_time": "2025-02-24T21:15:08.110Z"
   },
   {
    "duration": 788,
    "start_time": "2025-02-24T21:18:12.118Z"
   },
   {
    "duration": 996,
    "start_time": "2025-02-24T21:20:39.456Z"
   },
   {
    "duration": 5,
    "start_time": "2025-02-24T21:20:54.494Z"
   },
   {
    "duration": 6,
    "start_time": "2025-02-24T21:24:05.716Z"
   },
   {
    "duration": 5,
    "start_time": "2025-02-24T21:24:39.772Z"
   },
   {
    "duration": 0,
    "start_time": "2025-02-24T21:25:15.776Z"
   },
   {
    "duration": 0,
    "start_time": "2025-02-24T21:26:24.333Z"
   },
   {
    "duration": 21632,
    "start_time": "2025-02-24T21:26:34.248Z"
   },
   {
    "duration": 0,
    "start_time": "2025-02-24T21:26:55.882Z"
   },
   {
    "duration": 22321,
    "start_time": "2025-02-24T21:27:07.995Z"
   },
   {
    "duration": 0,
    "start_time": "2025-02-24T21:27:30.319Z"
   },
   {
    "duration": 159,
    "start_time": "2025-02-24T21:27:42.067Z"
   },
   {
    "duration": 21564,
    "start_time": "2025-02-24T21:27:47.284Z"
   },
   {
    "duration": 306,
    "start_time": "2025-02-25T15:00:35.669Z"
   },
   {
    "duration": 179,
    "start_time": "2025-02-25T15:00:38.672Z"
   },
   {
    "duration": 63,
    "start_time": "2025-02-25T15:00:44.656Z"
   },
   {
    "duration": 15,
    "start_time": "2025-02-25T15:00:46.807Z"
   },
   {
    "duration": 14,
    "start_time": "2025-02-25T15:00:47.598Z"
   },
   {
    "duration": 916,
    "start_time": "2025-02-25T15:00:48.145Z"
   },
   {
    "duration": 8,
    "start_time": "2025-02-25T15:00:49.063Z"
   },
   {
    "duration": 105,
    "start_time": "2025-02-25T15:00:49.733Z"
   },
   {
    "duration": 9,
    "start_time": "2025-02-25T15:00:50.128Z"
   },
   {
    "duration": 201,
    "start_time": "2025-02-25T15:00:50.647Z"
   },
   {
    "duration": 96,
    "start_time": "2025-02-25T15:00:51.151Z"
   },
   {
    "duration": 49,
    "start_time": "2025-02-25T15:00:51.812Z"
   },
   {
    "duration": 14,
    "start_time": "2025-02-25T15:00:53.658Z"
   },
   {
    "duration": 6,
    "start_time": "2025-02-25T15:00:54.111Z"
   },
   {
    "duration": 31,
    "start_time": "2025-02-25T15:00:54.597Z"
   },
   {
    "duration": 16,
    "start_time": "2025-02-25T15:00:55.059Z"
   },
   {
    "duration": 4,
    "start_time": "2025-02-25T15:00:56.609Z"
   },
   {
    "duration": 4,
    "start_time": "2025-02-25T15:00:57.026Z"
   },
   {
    "duration": 4,
    "start_time": "2025-02-25T15:00:58.400Z"
   },
   {
    "duration": 4,
    "start_time": "2025-02-25T15:00:58.712Z"
   },
   {
    "duration": 748,
    "start_time": "2025-02-25T15:01:01.253Z"
   },
   {
    "duration": 658,
    "start_time": "2025-02-25T15:01:02.088Z"
   },
   {
    "duration": 9,
    "start_time": "2025-02-25T15:01:04.725Z"
   },
   {
    "duration": 3,
    "start_time": "2025-02-25T15:01:05.279Z"
   },
   {
    "duration": 4,
    "start_time": "2025-02-25T15:01:05.891Z"
   },
   {
    "duration": 6,
    "start_time": "2025-02-25T15:01:06.380Z"
   },
   {
    "duration": 4,
    "start_time": "2025-02-25T15:01:06.886Z"
   },
   {
    "duration": 13,
    "start_time": "2025-02-25T15:01:08.404Z"
   },
   {
    "duration": 15,
    "start_time": "2025-02-25T15:01:08.946Z"
   },
   {
    "duration": 10,
    "start_time": "2025-02-25T15:01:10.507Z"
   },
   {
    "duration": 15,
    "start_time": "2025-02-25T15:01:11.004Z"
   },
   {
    "duration": 5,
    "start_time": "2025-02-25T15:01:11.844Z"
   },
   {
    "duration": 7,
    "start_time": "2025-02-25T15:01:12.439Z"
   },
   {
    "duration": 23,
    "start_time": "2025-02-25T15:01:13.122Z"
   },
   {
    "duration": 4,
    "start_time": "2025-02-25T15:01:16.585Z"
   },
   {
    "duration": 4,
    "start_time": "2025-02-25T15:01:17.216Z"
   },
   {
    "duration": 2027,
    "start_time": "2025-02-25T15:01:18.713Z"
   },
   {
    "duration": 143,
    "start_time": "2025-02-25T15:01:27.617Z"
   },
   {
    "duration": 0,
    "start_time": "2025-02-25T15:01:52.826Z"
   },
   {
    "duration": 2,
    "start_time": "2025-02-25T15:06:25.327Z"
   },
   {
    "duration": 133,
    "start_time": "2025-02-25T15:06:25.851Z"
   },
   {
    "duration": 43,
    "start_time": "2025-02-25T15:06:27.193Z"
   },
   {
    "duration": 12,
    "start_time": "2025-02-25T15:06:28.477Z"
   },
   {
    "duration": 11,
    "start_time": "2025-02-25T15:06:29.252Z"
   },
   {
    "duration": 849,
    "start_time": "2025-02-25T15:06:29.820Z"
   },
   {
    "duration": 9,
    "start_time": "2025-02-25T15:06:30.878Z"
   },
   {
    "duration": 73,
    "start_time": "2025-02-25T15:06:32.639Z"
   },
   {
    "duration": 8,
    "start_time": "2025-02-25T15:06:33.205Z"
   },
   {
    "duration": 144,
    "start_time": "2025-02-25T15:06:33.951Z"
   },
   {
    "duration": 73,
    "start_time": "2025-02-25T15:06:34.487Z"
   },
   {
    "duration": 41,
    "start_time": "2025-02-25T15:06:35.046Z"
   },
   {
    "duration": 15,
    "start_time": "2025-02-25T15:06:36.452Z"
   },
   {
    "duration": 6,
    "start_time": "2025-02-25T15:06:36.864Z"
   },
   {
    "duration": 27,
    "start_time": "2025-02-25T15:06:37.272Z"
   },
   {
    "duration": 15,
    "start_time": "2025-02-25T15:06:37.679Z"
   },
   {
    "duration": 5,
    "start_time": "2025-02-25T15:06:38.455Z"
   },
   {
    "duration": 5,
    "start_time": "2025-02-25T15:06:38.731Z"
   },
   {
    "duration": 5,
    "start_time": "2025-02-25T15:06:39.585Z"
   },
   {
    "duration": 5,
    "start_time": "2025-02-25T15:06:39.834Z"
   },
   {
    "duration": 727,
    "start_time": "2025-02-25T15:06:40.634Z"
   },
   {
    "duration": 616,
    "start_time": "2025-02-25T15:06:41.363Z"
   },
   {
    "duration": 12,
    "start_time": "2025-02-25T15:06:42.975Z"
   },
   {
    "duration": 4,
    "start_time": "2025-02-25T15:06:43.503Z"
   },
   {
    "duration": 4,
    "start_time": "2025-02-25T15:06:44.458Z"
   },
   {
    "duration": 7,
    "start_time": "2025-02-25T15:06:45.512Z"
   },
   {
    "duration": 6,
    "start_time": "2025-02-25T15:06:46.462Z"
   },
   {
    "duration": 14,
    "start_time": "2025-02-25T15:06:48.320Z"
   },
   {
    "duration": 13,
    "start_time": "2025-02-25T15:06:48.717Z"
   },
   {
    "duration": 9,
    "start_time": "2025-02-25T15:06:50.250Z"
   },
   {
    "duration": 21,
    "start_time": "2025-02-25T15:06:50.708Z"
   },
   {
    "duration": 6,
    "start_time": "2025-02-25T15:06:51.320Z"
   },
   {
    "duration": 7,
    "start_time": "2025-02-25T15:06:51.918Z"
   },
   {
    "duration": 23,
    "start_time": "2025-02-25T15:06:52.594Z"
   },
   {
    "duration": 5,
    "start_time": "2025-02-25T15:06:55.435Z"
   },
   {
    "duration": 5,
    "start_time": "2025-02-25T15:06:56.422Z"
   },
   {
    "duration": 198,
    "start_time": "2025-02-25T15:06:58.226Z"
   },
   {
    "duration": 135,
    "start_time": "2025-02-25T15:07:00.641Z"
   },
   {
    "duration": 0,
    "start_time": "2025-02-25T15:07:24.999Z"
   },
   {
    "duration": 21768,
    "start_time": "2025-02-25T15:07:55.182Z"
   },
   {
    "duration": 21583,
    "start_time": "2025-02-25T15:08:18.010Z"
   },
   {
    "duration": 21670,
    "start_time": "2025-02-25T15:16:16.012Z"
   },
   {
    "duration": 21344,
    "start_time": "2025-02-25T15:20:50.294Z"
   },
   {
    "duration": 21822,
    "start_time": "2025-02-25T15:22:03.803Z"
   },
   {
    "duration": 6,
    "start_time": "2025-02-25T15:24:01.948Z"
   },
   {
    "duration": 10,
    "start_time": "2025-02-25T15:25:44.374Z"
   },
   {
    "duration": 11,
    "start_time": "2025-02-25T15:26:51.011Z"
   },
   {
    "duration": 17,
    "start_time": "2025-02-25T15:29:03.607Z"
   },
   {
    "duration": 7,
    "start_time": "2025-02-25T15:30:46.395Z"
   },
   {
    "duration": 102,
    "start_time": "2025-02-25T15:32:05.011Z"
   },
   {
    "duration": 116,
    "start_time": "2025-02-25T15:32:52.667Z"
   },
   {
    "duration": 141,
    "start_time": "2025-02-25T15:34:51.360Z"
   },
   {
    "duration": 152,
    "start_time": "2025-02-25T15:35:27.567Z"
   },
   {
    "duration": 220,
    "start_time": "2025-02-25T15:38:55.098Z"
   },
   {
    "duration": 13,
    "start_time": "2025-02-25T15:40:44.525Z"
   },
   {
    "duration": 14,
    "start_time": "2025-02-25T15:40:52.314Z"
   },
   {
    "duration": 15,
    "start_time": "2025-02-25T15:40:54.607Z"
   },
   {
    "duration": 15,
    "start_time": "2025-02-25T15:41:27.897Z"
   },
   {
    "duration": 84,
    "start_time": "2025-02-25T15:42:54.321Z"
   },
   {
    "duration": 6,
    "start_time": "2025-02-25T15:45:08.864Z"
   },
   {
    "duration": 9,
    "start_time": "2025-02-25T15:48:07.939Z"
   },
   {
    "duration": 8,
    "start_time": "2025-02-25T15:49:14.279Z"
   },
   {
    "duration": 13,
    "start_time": "2025-02-25T15:50:44.001Z"
   },
   {
    "duration": 8,
    "start_time": "2025-02-25T15:51:06.634Z"
   },
   {
    "duration": 4,
    "start_time": "2025-02-25T15:56:38.321Z"
   },
   {
    "duration": 6,
    "start_time": "2025-02-25T15:57:33.733Z"
   },
   {
    "duration": 8,
    "start_time": "2025-02-25T15:57:52.868Z"
   },
   {
    "duration": 385,
    "start_time": "2025-02-25T15:58:28.129Z"
   },
   {
    "duration": 88,
    "start_time": "2025-02-25T16:05:15.704Z"
   },
   {
    "duration": 9,
    "start_time": "2025-02-25T16:08:11.505Z"
   },
   {
    "duration": 220,
    "start_time": "2025-02-25T16:19:03.132Z"
   },
   {
    "duration": 91,
    "start_time": "2025-02-25T16:19:26.817Z"
   },
   {
    "duration": 8,
    "start_time": "2025-02-25T16:20:52.741Z"
   },
   {
    "duration": 4,
    "start_time": "2025-02-25T16:24:03.761Z"
   },
   {
    "duration": 8,
    "start_time": "2025-02-25T16:27:02.534Z"
   },
   {
    "duration": 7,
    "start_time": "2025-02-25T16:27:30.895Z"
   },
   {
    "duration": 5,
    "start_time": "2025-02-25T16:31:57.344Z"
   },
   {
    "duration": 6,
    "start_time": "2025-02-25T16:33:11.050Z"
   },
   {
    "duration": 21,
    "start_time": "2025-02-25T16:33:14.469Z"
   },
   {
    "duration": 6,
    "start_time": "2025-02-25T16:33:17.440Z"
   },
   {
    "duration": 249,
    "start_time": "2025-02-25T16:58:16.650Z"
   },
   {
    "duration": 154,
    "start_time": "2025-02-25T16:58:24.636Z"
   },
   {
    "duration": 5,
    "start_time": "2025-02-25T17:00:59.961Z"
   },
   {
    "duration": 307,
    "start_time": "2025-02-25T17:01:37.666Z"
   },
   {
    "duration": 71,
    "start_time": "2025-02-25T17:01:53.208Z"
   },
   {
    "duration": 121,
    "start_time": "2025-02-25T17:02:05.716Z"
   },
   {
    "duration": 104,
    "start_time": "2025-02-25T17:02:24.714Z"
   },
   {
    "duration": 5,
    "start_time": "2025-02-25T17:04:42.423Z"
   },
   {
    "duration": 15,
    "start_time": "2025-02-25T17:04:51.844Z"
   },
   {
    "duration": 7,
    "start_time": "2025-02-25T17:04:59.389Z"
   },
   {
    "duration": 10,
    "start_time": "2025-02-25T17:08:35.655Z"
   },
   {
    "duration": 112,
    "start_time": "2025-02-25T17:11:13.483Z"
   },
   {
    "duration": 17,
    "start_time": "2025-02-25T17:12:25.427Z"
   },
   {
    "duration": 8,
    "start_time": "2025-02-25T17:13:24.803Z"
   },
   {
    "duration": 85,
    "start_time": "2025-02-25T17:17:08.973Z"
   },
   {
    "duration": 100,
    "start_time": "2025-02-25T17:17:12.285Z"
   },
   {
    "duration": 26,
    "start_time": "2025-02-25T17:17:14.605Z"
   },
   {
    "duration": 94,
    "start_time": "2025-02-25T17:17:33.924Z"
   },
   {
    "duration": 83,
    "start_time": "2025-02-25T17:17:54.574Z"
   },
   {
    "duration": 99,
    "start_time": "2025-02-25T17:17:57.222Z"
   },
   {
    "duration": 25,
    "start_time": "2025-02-25T17:18:06.237Z"
   },
   {
    "duration": 167,
    "start_time": "2025-02-25T17:24:48.068Z"
   },
   {
    "duration": 502,
    "start_time": "2025-02-25T17:27:33.070Z"
   },
   {
    "duration": 559,
    "start_time": "2025-02-25T17:28:05.269Z"
   },
   {
    "duration": 35,
    "start_time": "2025-02-25T17:31:26.264Z"
   },
   {
    "duration": 120,
    "start_time": "2025-02-25T17:33:13.301Z"
   },
   {
    "duration": 34,
    "start_time": "2025-02-25T17:33:57.754Z"
   },
   {
    "duration": 37,
    "start_time": "2025-02-25T17:35:46.836Z"
   },
   {
    "duration": 4,
    "start_time": "2025-02-25T17:40:04.628Z"
   },
   {
    "duration": 5,
    "start_time": "2025-02-25T17:40:54.461Z"
   },
   {
    "duration": 789,
    "start_time": "2025-02-25T17:42:54.097Z"
   },
   {
    "duration": 839,
    "start_time": "2025-02-25T17:43:20.919Z"
   },
   {
    "duration": 856,
    "start_time": "2025-02-25T17:44:45.962Z"
   },
   {
    "duration": 17,
    "start_time": "2025-02-25T17:47:41.806Z"
   },
   {
    "duration": 840,
    "start_time": "2025-02-25T17:50:08.625Z"
   },
   {
    "duration": 849,
    "start_time": "2025-02-25T17:50:32.978Z"
   },
   {
    "duration": 924,
    "start_time": "2025-02-25T17:53:15.042Z"
   },
   {
    "duration": 350,
    "start_time": "2025-02-26T12:14:00.161Z"
   },
   {
    "duration": 175,
    "start_time": "2025-02-26T12:14:00.513Z"
   },
   {
    "duration": 61,
    "start_time": "2025-02-26T12:14:00.690Z"
   },
   {
    "duration": 14,
    "start_time": "2025-02-26T12:14:00.753Z"
   },
   {
    "duration": 14,
    "start_time": "2025-02-26T12:14:00.770Z"
   },
   {
    "duration": 903,
    "start_time": "2025-02-26T12:14:00.785Z"
   },
   {
    "duration": 8,
    "start_time": "2025-02-26T12:14:01.690Z"
   },
   {
    "duration": 116,
    "start_time": "2025-02-26T12:14:01.701Z"
   },
   {
    "duration": 8,
    "start_time": "2025-02-26T12:14:01.819Z"
   },
   {
    "duration": 205,
    "start_time": "2025-02-26T12:14:01.828Z"
   },
   {
    "duration": 94,
    "start_time": "2025-02-26T12:14:02.035Z"
   },
   {
    "duration": 49,
    "start_time": "2025-02-26T12:14:02.132Z"
   },
   {
    "duration": 13,
    "start_time": "2025-02-26T12:14:02.183Z"
   },
   {
    "duration": 4,
    "start_time": "2025-02-26T12:14:02.201Z"
   },
   {
    "duration": 25,
    "start_time": "2025-02-26T12:14:02.207Z"
   },
   {
    "duration": 44,
    "start_time": "2025-02-26T12:14:02.234Z"
   },
   {
    "duration": 4,
    "start_time": "2025-02-26T12:14:02.280Z"
   },
   {
    "duration": 5,
    "start_time": "2025-02-26T12:14:02.286Z"
   },
   {
    "duration": 4,
    "start_time": "2025-02-26T12:14:02.293Z"
   },
   {
    "duration": 5,
    "start_time": "2025-02-26T12:14:02.298Z"
   },
   {
    "duration": 803,
    "start_time": "2025-02-26T12:14:02.305Z"
   },
   {
    "duration": 681,
    "start_time": "2025-02-26T12:14:03.110Z"
   },
   {
    "duration": 9,
    "start_time": "2025-02-26T12:14:03.792Z"
   },
   {
    "duration": 3,
    "start_time": "2025-02-26T12:14:03.803Z"
   },
   {
    "duration": 3,
    "start_time": "2025-02-26T12:14:03.808Z"
   },
   {
    "duration": 5,
    "start_time": "2025-02-26T12:14:03.813Z"
   },
   {
    "duration": 5,
    "start_time": "2025-02-26T12:14:03.819Z"
   },
   {
    "duration": 45,
    "start_time": "2025-02-26T12:14:03.826Z"
   },
   {
    "duration": 14,
    "start_time": "2025-02-26T12:14:03.872Z"
   },
   {
    "duration": 9,
    "start_time": "2025-02-26T12:14:03.888Z"
   },
   {
    "duration": 18,
    "start_time": "2025-02-26T12:14:03.899Z"
   },
   {
    "duration": 6,
    "start_time": "2025-02-26T12:14:03.918Z"
   },
   {
    "duration": 6,
    "start_time": "2025-02-26T12:14:03.927Z"
   },
   {
    "duration": 52,
    "start_time": "2025-02-26T12:14:03.935Z"
   },
   {
    "duration": 4,
    "start_time": "2025-02-26T12:14:03.989Z"
   },
   {
    "duration": 4,
    "start_time": "2025-02-26T12:14:03.995Z"
   },
   {
    "duration": 399,
    "start_time": "2025-02-26T12:14:04.000Z"
   },
   {
    "duration": 147,
    "start_time": "2025-02-26T12:14:04.401Z"
   },
   {
    "duration": 22294,
    "start_time": "2025-02-26T12:14:04.552Z"
   },
   {
    "duration": 26,
    "start_time": "2025-02-26T12:14:26.847Z"
   },
   {
    "duration": 234,
    "start_time": "2025-02-26T12:14:26.879Z"
   },
   {
    "duration": 15,
    "start_time": "2025-02-26T12:14:27.114Z"
   },
   {
    "duration": 5,
    "start_time": "2025-02-26T12:14:27.131Z"
   },
   {
    "duration": 42,
    "start_time": "2025-02-26T12:14:27.137Z"
   },
   {
    "duration": 11,
    "start_time": "2025-02-26T12:14:27.181Z"
   },
   {
    "duration": 263,
    "start_time": "2025-02-26T12:14:27.194Z"
   },
   {
    "duration": 165,
    "start_time": "2025-02-26T12:14:27.459Z"
   },
   {
    "duration": 159,
    "start_time": "2025-02-26T12:14:27.626Z"
   },
   {
    "duration": 204,
    "start_time": "2025-02-26T12:14:27.787Z"
   },
   {
    "duration": 0,
    "start_time": "2025-02-26T12:14:27.992Z"
   },
   {
    "duration": 0,
    "start_time": "2025-02-26T12:14:27.994Z"
   },
   {
    "duration": 0,
    "start_time": "2025-02-26T12:14:27.995Z"
   },
   {
    "duration": 0,
    "start_time": "2025-02-26T12:14:27.996Z"
   },
   {
    "duration": 0,
    "start_time": "2025-02-26T12:14:27.997Z"
   },
   {
    "duration": 0,
    "start_time": "2025-02-26T12:14:27.998Z"
   },
   {
    "duration": 157,
    "start_time": "2025-02-27T04:18:50.333Z"
   },
   {
    "duration": 310,
    "start_time": "2025-02-27T04:19:06.360Z"
   },
   {
    "duration": 190,
    "start_time": "2025-02-27T04:19:07.585Z"
   },
   {
    "duration": 62,
    "start_time": "2025-02-27T04:19:08.049Z"
   },
   {
    "duration": 15,
    "start_time": "2025-02-27T04:19:08.612Z"
   },
   {
    "duration": 14,
    "start_time": "2025-02-27T04:19:09.062Z"
   },
   {
    "duration": 917,
    "start_time": "2025-02-27T04:19:09.517Z"
   },
   {
    "duration": 9,
    "start_time": "2025-02-27T04:19:11.515Z"
   },
   {
    "duration": 99,
    "start_time": "2025-02-27T04:19:15.591Z"
   },
   {
    "duration": 9,
    "start_time": "2025-02-27T04:19:16.563Z"
   },
   {
    "duration": 184,
    "start_time": "2025-02-27T04:19:17.711Z"
   },
   {
    "duration": 84,
    "start_time": "2025-02-27T04:19:19.172Z"
   },
   {
    "duration": 46,
    "start_time": "2025-02-27T04:19:21.201Z"
   },
   {
    "duration": 13,
    "start_time": "2025-02-27T04:19:22.977Z"
   },
   {
    "duration": 6,
    "start_time": "2025-02-27T04:19:23.522Z"
   },
   {
    "duration": 26,
    "start_time": "2025-02-27T04:19:24.044Z"
   },
   {
    "duration": 14,
    "start_time": "2025-02-27T04:19:24.659Z"
   },
   {
    "duration": 4,
    "start_time": "2025-02-27T04:19:26.417Z"
   },
   {
    "duration": 5,
    "start_time": "2025-02-27T04:19:26.963Z"
   },
   {
    "duration": 5,
    "start_time": "2025-02-27T04:19:28.568Z"
   },
   {
    "duration": 4,
    "start_time": "2025-02-27T04:19:29.044Z"
   },
   {
    "duration": 738,
    "start_time": "2025-02-27T04:19:30.459Z"
   },
   {
    "duration": 665,
    "start_time": "2025-02-27T04:19:31.199Z"
   },
   {
    "duration": 9,
    "start_time": "2025-02-27T04:19:32.992Z"
   },
   {
    "duration": 4,
    "start_time": "2025-02-27T04:19:33.654Z"
   },
   {
    "duration": 3,
    "start_time": "2025-02-27T04:19:34.152Z"
   },
   {
    "duration": 6,
    "start_time": "2025-02-27T04:19:34.677Z"
   },
   {
    "duration": 5,
    "start_time": "2025-02-27T04:19:35.162Z"
   },
   {
    "duration": 12,
    "start_time": "2025-02-27T04:19:37.108Z"
   },
   {
    "duration": 16,
    "start_time": "2025-02-27T04:19:37.627Z"
   },
   {
    "duration": 11,
    "start_time": "2025-02-27T04:19:41.040Z"
   },
   {
    "duration": 15,
    "start_time": "2025-02-27T04:19:41.669Z"
   },
   {
    "duration": 6,
    "start_time": "2025-02-27T04:19:43.820Z"
   },
   {
    "duration": 6,
    "start_time": "2025-02-27T04:19:44.916Z"
   },
   {
    "duration": 23,
    "start_time": "2025-02-27T04:19:45.897Z"
   },
   {
    "duration": 5,
    "start_time": "2025-02-27T04:19:49.644Z"
   },
   {
    "duration": 4,
    "start_time": "2025-02-27T04:19:50.763Z"
   },
   {
    "duration": 2162,
    "start_time": "2025-02-27T04:19:52.301Z"
   },
   {
    "duration": 142,
    "start_time": "2025-02-27T04:19:54.466Z"
   },
   {
    "duration": 22344,
    "start_time": "2025-02-27T04:19:56.537Z"
   },
   {
    "duration": 16,
    "start_time": "2025-02-27T04:20:18.883Z"
   },
   {
    "duration": 230,
    "start_time": "2025-02-27T04:20:18.901Z"
   },
   {
    "duration": 15,
    "start_time": "2025-02-27T04:20:19.133Z"
   },
   {
    "duration": 5,
    "start_time": "2025-02-27T04:20:19.150Z"
   },
   {
    "duration": 18,
    "start_time": "2025-02-27T04:20:19.157Z"
   },
   {
    "duration": 5,
    "start_time": "2025-02-27T04:20:19.176Z"
   },
   {
    "duration": 275,
    "start_time": "2025-02-27T04:20:19.183Z"
   },
   {
    "duration": 166,
    "start_time": "2025-02-27T04:20:19.460Z"
   },
   {
    "duration": 147,
    "start_time": "2025-02-27T04:20:22.445Z"
   },
   {
    "duration": 15,
    "start_time": "2025-02-27T04:20:29.054Z"
   },
   {
    "duration": 11,
    "start_time": "2025-02-27T04:20:32.931Z"
   },
   {
    "duration": 94,
    "start_time": "2025-02-27T04:20:42.915Z"
   },
   {
    "duration": 109,
    "start_time": "2025-02-27T04:20:46.443Z"
   },
   {
    "duration": 25,
    "start_time": "2025-02-27T04:20:49.589Z"
   },
   {
    "duration": 567,
    "start_time": "2025-02-27T04:20:52.454Z"
   },
   {
    "duration": 859,
    "start_time": "2025-02-27T04:20:54.716Z"
   },
   {
    "duration": 316,
    "start_time": "2025-02-28T00:29:15.386Z"
   },
   {
    "duration": 167,
    "start_time": "2025-02-28T00:29:15.705Z"
   },
   {
    "duration": 61,
    "start_time": "2025-02-28T00:29:15.874Z"
   },
   {
    "duration": 13,
    "start_time": "2025-02-28T00:29:15.936Z"
   },
   {
    "duration": 12,
    "start_time": "2025-02-28T00:29:15.952Z"
   },
   {
    "duration": 902,
    "start_time": "2025-02-28T00:29:15.965Z"
   },
   {
    "duration": 8,
    "start_time": "2025-02-28T00:29:16.869Z"
   },
   {
    "duration": 102,
    "start_time": "2025-02-28T00:29:16.886Z"
   },
   {
    "duration": 8,
    "start_time": "2025-02-28T00:29:16.990Z"
   },
   {
    "duration": 196,
    "start_time": "2025-02-28T00:29:17.000Z"
   },
   {
    "duration": 92,
    "start_time": "2025-02-28T00:29:17.198Z"
   },
   {
    "duration": 41,
    "start_time": "2025-02-28T00:29:17.292Z"
   },
   {
    "duration": 12,
    "start_time": "2025-02-28T00:29:17.335Z"
   },
   {
    "duration": 6,
    "start_time": "2025-02-28T00:29:17.351Z"
   },
   {
    "duration": 48,
    "start_time": "2025-02-28T00:29:17.358Z"
   },
   {
    "duration": 13,
    "start_time": "2025-02-28T00:29:17.407Z"
   },
   {
    "duration": 3,
    "start_time": "2025-02-28T00:29:17.422Z"
   },
   {
    "duration": 5,
    "start_time": "2025-02-28T00:29:17.427Z"
   },
   {
    "duration": 5,
    "start_time": "2025-02-28T00:29:17.433Z"
   },
   {
    "duration": 5,
    "start_time": "2025-02-28T00:29:17.439Z"
   },
   {
    "duration": 771,
    "start_time": "2025-02-28T00:29:17.445Z"
   },
   {
    "duration": 629,
    "start_time": "2025-02-28T00:29:18.217Z"
   },
   {
    "duration": 9,
    "start_time": "2025-02-28T00:29:18.847Z"
   },
   {
    "duration": 3,
    "start_time": "2025-02-28T00:29:18.860Z"
   },
   {
    "duration": 22,
    "start_time": "2025-02-28T00:29:18.865Z"
   },
   {
    "duration": 6,
    "start_time": "2025-02-28T00:29:18.889Z"
   },
   {
    "duration": 5,
    "start_time": "2025-02-28T00:29:18.896Z"
   },
   {
    "duration": 11,
    "start_time": "2025-02-28T00:29:18.903Z"
   },
   {
    "duration": 13,
    "start_time": "2025-02-28T00:29:18.916Z"
   },
   {
    "duration": 9,
    "start_time": "2025-02-28T00:29:18.931Z"
   },
   {
    "duration": 51,
    "start_time": "2025-02-28T00:29:18.942Z"
   },
   {
    "duration": 6,
    "start_time": "2025-02-28T00:29:18.995Z"
   },
   {
    "duration": 6,
    "start_time": "2025-02-28T00:29:19.003Z"
   },
   {
    "duration": 24,
    "start_time": "2025-02-28T00:29:19.012Z"
   },
   {
    "duration": 4,
    "start_time": "2025-02-28T00:29:19.038Z"
   },
   {
    "duration": 4,
    "start_time": "2025-02-28T00:29:19.044Z"
   },
   {
    "duration": 2077,
    "start_time": "2025-02-28T00:29:19.050Z"
   },
   {
    "duration": 163,
    "start_time": "2025-02-28T00:29:21.130Z"
   },
   {
    "duration": 22978,
    "start_time": "2025-02-28T00:29:21.295Z"
   },
   {
    "duration": 26,
    "start_time": "2025-02-28T00:29:44.275Z"
   },
   {
    "duration": 230,
    "start_time": "2025-02-28T00:29:44.306Z"
   },
   {
    "duration": 15,
    "start_time": "2025-02-28T00:29:44.537Z"
   },
   {
    "duration": 5,
    "start_time": "2025-02-28T00:29:44.554Z"
   },
   {
    "duration": 39,
    "start_time": "2025-02-28T00:29:44.560Z"
   },
   {
    "duration": 6,
    "start_time": "2025-02-28T00:29:44.601Z"
   },
   {
    "duration": 236,
    "start_time": "2025-02-28T00:29:44.608Z"
   },
   {
    "duration": 167,
    "start_time": "2025-02-28T00:29:44.846Z"
   },
   {
    "duration": 153,
    "start_time": "2025-02-28T00:29:45.015Z"
   },
   {
    "duration": 24,
    "start_time": "2025-02-28T00:29:45.170Z"
   },
   {
    "duration": 10,
    "start_time": "2025-02-28T00:29:45.195Z"
   },
   {
    "duration": 96,
    "start_time": "2025-02-28T00:29:45.207Z"
   },
   {
    "duration": 126,
    "start_time": "2025-02-28T00:29:45.305Z"
   },
   {
    "duration": 29,
    "start_time": "2025-02-28T00:29:45.433Z"
   },
   {
    "duration": 553,
    "start_time": "2025-02-28T00:29:45.464Z"
   },
   {
    "duration": 862,
    "start_time": "2025-02-28T00:29:46.019Z"
   },
   {
    "duration": 3,
    "start_time": "2025-02-28T00:40:07.091Z"
   },
   {
    "duration": 179,
    "start_time": "2025-02-28T00:40:07.096Z"
   },
   {
    "duration": 46,
    "start_time": "2025-02-28T00:40:07.276Z"
   },
   {
    "duration": 12,
    "start_time": "2025-02-28T00:40:07.324Z"
   },
   {
    "duration": 11,
    "start_time": "2025-02-28T00:40:07.338Z"
   },
   {
    "duration": 933,
    "start_time": "2025-02-28T00:40:07.351Z"
   },
   {
    "duration": 9,
    "start_time": "2025-02-28T00:40:08.287Z"
   },
   {
    "duration": 69,
    "start_time": "2025-02-28T00:40:08.298Z"
   },
   {
    "duration": 22,
    "start_time": "2025-02-28T00:40:08.369Z"
   },
   {
    "duration": 171,
    "start_time": "2025-02-28T00:40:08.393Z"
   },
   {
    "duration": 103,
    "start_time": "2025-02-28T00:40:08.566Z"
   },
   {
    "duration": 52,
    "start_time": "2025-02-28T00:40:08.670Z"
   },
   {
    "duration": 13,
    "start_time": "2025-02-28T00:40:08.725Z"
   },
   {
    "duration": 5,
    "start_time": "2025-02-28T00:40:08.742Z"
   },
   {
    "duration": 50,
    "start_time": "2025-02-28T00:40:08.749Z"
   },
   {
    "duration": 17,
    "start_time": "2025-02-28T00:40:08.801Z"
   },
   {
    "duration": 8,
    "start_time": "2025-02-28T00:40:08.819Z"
   },
   {
    "duration": 3,
    "start_time": "2025-02-28T00:40:08.829Z"
   },
   {
    "duration": 5,
    "start_time": "2025-02-28T00:40:08.834Z"
   },
   {
    "duration": 4,
    "start_time": "2025-02-28T00:40:08.840Z"
   },
   {
    "duration": 873,
    "start_time": "2025-02-28T00:40:08.846Z"
   },
   {
    "duration": 730,
    "start_time": "2025-02-28T00:40:09.721Z"
   },
   {
    "duration": 10,
    "start_time": "2025-02-28T00:40:10.453Z"
   },
   {
    "duration": 3,
    "start_time": "2025-02-28T00:40:10.465Z"
   },
   {
    "duration": 20,
    "start_time": "2025-02-28T00:40:10.470Z"
   },
   {
    "duration": 5,
    "start_time": "2025-02-28T00:40:10.492Z"
   },
   {
    "duration": 5,
    "start_time": "2025-02-28T00:40:10.499Z"
   },
   {
    "duration": 12,
    "start_time": "2025-02-28T00:40:10.506Z"
   },
   {
    "duration": 14,
    "start_time": "2025-02-28T00:40:10.520Z"
   },
   {
    "duration": 9,
    "start_time": "2025-02-28T00:40:10.536Z"
   },
   {
    "duration": 52,
    "start_time": "2025-02-28T00:40:10.547Z"
   },
   {
    "duration": 6,
    "start_time": "2025-02-28T00:40:10.601Z"
   },
   {
    "duration": 6,
    "start_time": "2025-02-28T00:40:10.609Z"
   },
   {
    "duration": 25,
    "start_time": "2025-02-28T00:40:10.617Z"
   },
   {
    "duration": 4,
    "start_time": "2025-02-28T00:40:10.644Z"
   },
   {
    "duration": 4,
    "start_time": "2025-02-28T00:40:10.649Z"
   },
   {
    "duration": 214,
    "start_time": "2025-02-28T00:40:10.687Z"
   },
   {
    "duration": 145,
    "start_time": "2025-02-28T00:40:10.903Z"
   },
   {
    "duration": 23511,
    "start_time": "2025-02-28T00:40:11.050Z"
   },
   {
    "duration": 42,
    "start_time": "2025-02-28T00:40:34.563Z"
   },
   {
    "duration": 398,
    "start_time": "2025-02-28T00:40:34.622Z"
   },
   {
    "duration": 16,
    "start_time": "2025-02-28T00:40:35.023Z"
   },
   {
    "duration": 6,
    "start_time": "2025-02-28T00:40:35.040Z"
   },
   {
    "duration": 24,
    "start_time": "2025-02-28T00:40:35.047Z"
   },
   {
    "duration": 6,
    "start_time": "2025-02-28T00:40:35.074Z"
   },
   {
    "duration": 435,
    "start_time": "2025-02-28T00:40:35.082Z"
   },
   {
    "duration": 224,
    "start_time": "2025-02-28T00:40:35.527Z"
   },
   {
    "duration": 201,
    "start_time": "2025-02-28T00:40:35.753Z"
   },
   {
    "duration": 19,
    "start_time": "2025-02-28T00:40:35.956Z"
   },
   {
    "duration": 25,
    "start_time": "2025-02-28T00:40:35.988Z"
   },
   {
    "duration": 117,
    "start_time": "2025-02-28T00:40:36.027Z"
   },
   {
    "duration": 113,
    "start_time": "2025-02-28T00:40:36.146Z"
   },
   {
    "duration": 29,
    "start_time": "2025-02-28T00:40:36.262Z"
   },
   {
    "duration": 618,
    "start_time": "2025-02-28T00:40:36.295Z"
   },
   {
    "duration": 925,
    "start_time": "2025-02-28T00:40:36.915Z"
   },
   {
    "duration": 5,
    "start_time": "2025-02-28T00:43:51.069Z"
   },
   {
    "duration": 309,
    "start_time": "2025-02-28T04:21:51.305Z"
   },
   {
    "duration": 3,
    "start_time": "2025-02-28T04:33:04.148Z"
   },
   {
    "duration": 3,
    "start_time": "2025-02-28T04:33:23.295Z"
   },
   {
    "duration": 3,
    "start_time": "2025-02-28T04:34:06.242Z"
   },
   {
    "duration": 2,
    "start_time": "2025-02-28T04:34:17.758Z"
   },
   {
    "duration": 3,
    "start_time": "2025-02-28T04:34:18.402Z"
   },
   {
    "duration": 4,
    "start_time": "2025-02-28T04:35:27.287Z"
   },
   {
    "duration": 3,
    "start_time": "2025-02-28T04:35:29.340Z"
   },
   {
    "duration": 168,
    "start_time": "2025-02-28T04:35:32.924Z"
   },
   {
    "duration": 58,
    "start_time": "2025-02-28T04:35:33.603Z"
   },
   {
    "duration": 12,
    "start_time": "2025-02-28T04:35:34.631Z"
   },
   {
    "duration": 12,
    "start_time": "2025-02-28T04:35:35.165Z"
   },
   {
    "duration": 895,
    "start_time": "2025-02-28T04:35:35.912Z"
   },
   {
    "duration": 11,
    "start_time": "2025-02-28T04:35:37.454Z"
   },
   {
    "duration": 106,
    "start_time": "2025-02-28T04:35:41.788Z"
   },
   {
    "duration": 14,
    "start_time": "2025-02-28T04:35:42.716Z"
   },
   {
    "duration": 177,
    "start_time": "2025-02-28T04:35:43.555Z"
   },
   {
    "duration": 90,
    "start_time": "2025-02-28T04:35:45.113Z"
   },
   {
    "duration": 41,
    "start_time": "2025-02-28T04:35:45.769Z"
   },
   {
    "duration": 12,
    "start_time": "2025-02-28T04:35:47.910Z"
   },
   {
    "duration": 5,
    "start_time": "2025-02-28T04:35:50.549Z"
   },
   {
    "duration": 25,
    "start_time": "2025-02-28T04:35:51.302Z"
   },
   {
    "duration": 15,
    "start_time": "2025-02-28T04:35:52.399Z"
   },
   {
    "duration": 4,
    "start_time": "2025-02-28T04:35:56.993Z"
   },
   {
    "duration": 5,
    "start_time": "2025-02-28T04:35:57.834Z"
   },
   {
    "duration": 4,
    "start_time": "2025-02-28T04:36:03.626Z"
   },
   {
    "duration": 4,
    "start_time": "2025-02-28T04:36:06.553Z"
   },
   {
    "duration": 726,
    "start_time": "2025-02-28T04:36:08.406Z"
   },
   {
    "duration": 9,
    "start_time": "2025-02-28T04:38:23.668Z"
   },
   {
    "duration": 3,
    "start_time": "2025-02-28T04:38:25.955Z"
   },
   {
    "duration": 3,
    "start_time": "2025-02-28T04:38:26.418Z"
   },
   {
    "duration": 5,
    "start_time": "2025-02-28T04:38:28.579Z"
   },
   {
    "duration": 5,
    "start_time": "2025-02-28T04:38:29.270Z"
   },
   {
    "duration": 12,
    "start_time": "2025-02-28T04:38:32.381Z"
   },
   {
    "duration": 15,
    "start_time": "2025-02-28T04:38:34.502Z"
   },
   {
    "duration": 9,
    "start_time": "2025-02-28T04:38:37.928Z"
   },
   {
    "duration": 14,
    "start_time": "2025-02-28T04:38:39.718Z"
   },
   {
    "duration": 7,
    "start_time": "2025-02-28T04:38:40.266Z"
   },
   {
    "duration": 7,
    "start_time": "2025-02-28T04:38:42.929Z"
   },
   {
    "duration": 5,
    "start_time": "2025-02-28T04:38:47.638Z"
   },
   {
    "duration": 5,
    "start_time": "2025-02-28T04:38:49.488Z"
   },
   {
    "duration": 2000,
    "start_time": "2025-02-28T04:41:00.560Z"
   },
   {
    "duration": 135,
    "start_time": "2025-02-28T04:42:28.394Z"
   },
   {
    "duration": 8,
    "start_time": "2025-02-28T16:37:24.169Z"
   },
   {
    "duration": 284,
    "start_time": "2025-02-28T16:37:36.236Z"
   },
   {
    "duration": 171,
    "start_time": "2025-02-28T16:37:37.398Z"
   },
   {
    "duration": 61,
    "start_time": "2025-02-28T16:37:37.922Z"
   },
   {
    "duration": 15,
    "start_time": "2025-02-28T16:37:38.423Z"
   },
   {
    "duration": 15,
    "start_time": "2025-02-28T16:37:38.910Z"
   },
   {
    "duration": 954,
    "start_time": "2025-02-28T16:37:39.398Z"
   },
   {
    "duration": 8,
    "start_time": "2025-02-28T16:37:40.355Z"
   },
   {
    "duration": 98,
    "start_time": "2025-02-28T16:37:46.189Z"
   },
   {
    "duration": 8,
    "start_time": "2025-02-28T16:37:46.615Z"
   },
   {
    "duration": 186,
    "start_time": "2025-02-28T16:37:47.022Z"
   },
   {
    "duration": 83,
    "start_time": "2025-02-28T16:37:47.485Z"
   },
   {
    "duration": 43,
    "start_time": "2025-02-28T16:37:48.194Z"
   },
   {
    "duration": 16,
    "start_time": "2025-02-28T16:37:49.083Z"
   },
   {
    "duration": 7,
    "start_time": "2025-02-28T16:37:49.550Z"
   },
   {
    "duration": 26,
    "start_time": "2025-02-28T16:37:49.993Z"
   },
   {
    "duration": 15,
    "start_time": "2025-02-28T16:37:50.439Z"
   },
   {
    "duration": 4,
    "start_time": "2025-02-28T16:37:51.363Z"
   },
   {
    "duration": 4,
    "start_time": "2025-02-28T16:37:51.769Z"
   },
   {
    "duration": 5,
    "start_time": "2025-02-28T16:37:52.859Z"
   },
   {
    "duration": 5,
    "start_time": "2025-02-28T16:37:53.152Z"
   },
   {
    "duration": 752,
    "start_time": "2025-02-28T16:37:54.373Z"
   },
   {
    "duration": 688,
    "start_time": "2025-02-28T16:37:55.127Z"
   },
   {
    "duration": 9,
    "start_time": "2025-02-28T16:37:55.994Z"
   },
   {
    "duration": 3,
    "start_time": "2025-02-28T16:37:56.334Z"
   },
   {
    "duration": 3,
    "start_time": "2025-02-28T16:37:56.712Z"
   },
   {
    "duration": 5,
    "start_time": "2025-02-28T16:37:56.819Z"
   },
   {
    "duration": 5,
    "start_time": "2025-02-28T16:37:57.135Z"
   },
   {
    "duration": 13,
    "start_time": "2025-02-28T16:37:57.867Z"
   },
   {
    "duration": 13,
    "start_time": "2025-02-28T16:37:57.973Z"
   },
   {
    "duration": 10,
    "start_time": "2025-02-28T16:37:58.710Z"
   },
   {
    "duration": 14,
    "start_time": "2025-02-28T16:37:59.162Z"
   },
   {
    "duration": 6,
    "start_time": "2025-02-28T16:37:59.792Z"
   },
   {
    "duration": 6,
    "start_time": "2025-02-28T16:37:59.884Z"
   },
   {
    "duration": 26,
    "start_time": "2025-02-28T16:38:00.460Z"
   },
   {
    "duration": 5,
    "start_time": "2025-02-28T16:38:04.371Z"
   },
   {
    "duration": 4,
    "start_time": "2025-02-28T16:38:04.859Z"
   },
   {
    "duration": 2106,
    "start_time": "2025-02-28T16:38:06.798Z"
   },
   {
    "duration": 137,
    "start_time": "2025-02-28T16:38:12.363Z"
   },
   {
    "duration": 0,
    "start_time": "2025-02-28T16:39:36.612Z"
   },
   {
    "duration": 135,
    "start_time": "2025-02-28T16:39:46.573Z"
   },
   {
    "duration": 21403,
    "start_time": "2025-02-28T16:40:10.240Z"
   },
   {
    "duration": 22678,
    "start_time": "2025-02-28T16:42:24.649Z"
   },
   {
    "duration": 0,
    "start_time": "2025-02-28T16:42:47.328Z"
   },
   {
    "duration": 22263,
    "start_time": "2025-02-28T16:44:41.499Z"
   },
   {
    "duration": 22032,
    "start_time": "2025-02-28T16:48:01.683Z"
   },
   {
    "duration": 21981,
    "start_time": "2025-02-28T16:51:36.836Z"
   },
   {
    "duration": 24553,
    "start_time": "2025-02-28T16:53:30.022Z"
   },
   {
    "duration": 23374,
    "start_time": "2025-02-28T16:58:28.640Z"
   },
   {
    "duration": 26062,
    "start_time": "2025-02-28T17:01:00.076Z"
   },
   {
    "duration": 8,
    "start_time": "2025-02-28T17:08:27.648Z"
   },
   {
    "duration": 4,
    "start_time": "2025-02-28T17:09:20.433Z"
   },
   {
    "duration": 6,
    "start_time": "2025-02-28T17:10:06.559Z"
   },
   {
    "duration": 14,
    "start_time": "2025-02-28T17:10:53.228Z"
   },
   {
    "duration": 3,
    "start_time": "2025-02-28T17:11:04.339Z"
   },
   {
    "duration": 21810,
    "start_time": "2025-02-28T17:16:57.355Z"
   },
   {
    "duration": 21808,
    "start_time": "2025-02-28T17:18:11.361Z"
   },
   {
    "duration": 149,
    "start_time": "2025-02-28T17:22:09.649Z"
   },
   {
    "duration": 6,
    "start_time": "2025-02-28T17:24:15.257Z"
   },
   {
    "duration": 149,
    "start_time": "2025-02-28T17:24:33.006Z"
   },
   {
    "duration": 146,
    "start_time": "2025-02-28T17:24:59.079Z"
   },
   {
    "duration": 153,
    "start_time": "2025-02-28T17:25:39.238Z"
   },
   {
    "duration": 191,
    "start_time": "2025-02-28T17:28:37.646Z"
   },
   {
    "duration": 89,
    "start_time": "2025-02-28T17:28:47.666Z"
   },
   {
    "duration": 19,
    "start_time": "2025-02-28T17:28:48.165Z"
   },
   {
    "duration": 11,
    "start_time": "2025-02-28T17:28:50.473Z"
   },
   {
    "duration": 15,
    "start_time": "2025-02-28T17:35:35.361Z"
   },
   {
    "duration": 17,
    "start_time": "2025-02-28T17:36:05.290Z"
   },
   {
    "duration": 230,
    "start_time": "2025-02-28T17:37:00.506Z"
   },
   {
    "duration": 159,
    "start_time": "2025-02-28T17:37:02.787Z"
   },
   {
    "duration": 234,
    "start_time": "2025-02-28T17:37:29.350Z"
   },
   {
    "duration": 191,
    "start_time": "2025-02-28T17:37:44.375Z"
   },
   {
    "duration": 5,
    "start_time": "2025-02-28T17:38:54.924Z"
   },
   {
    "duration": 4,
    "start_time": "2025-02-28T17:39:12.818Z"
   },
   {
    "duration": 3,
    "start_time": "2025-02-28T17:39:47.130Z"
   },
   {
    "duration": 5,
    "start_time": "2025-02-28T17:41:01.074Z"
   },
   {
    "duration": 197,
    "start_time": "2025-02-28T17:41:15.511Z"
   },
   {
    "duration": 163,
    "start_time": "2025-02-28T17:42:59.134Z"
   },
   {
    "duration": 160,
    "start_time": "2025-02-28T17:43:16.337Z"
   },
   {
    "duration": 3,
    "start_time": "2025-02-28T17:44:27.521Z"
   },
   {
    "duration": 158,
    "start_time": "2025-02-28T17:44:53.635Z"
   },
   {
    "duration": 152,
    "start_time": "2025-02-28T18:41:46.904Z"
   },
   {
    "duration": 455,
    "start_time": "2025-02-28T18:42:37.110Z"
   },
   {
    "duration": 2,
    "start_time": "2025-02-28T18:43:00.209Z"
   },
   {
    "duration": 3,
    "start_time": "2025-02-28T18:43:00.699Z"
   },
   {
    "duration": 148,
    "start_time": "2025-02-28T18:43:01.275Z"
   },
   {
    "duration": 43,
    "start_time": "2025-02-28T18:43:01.426Z"
   },
   {
    "duration": 14,
    "start_time": "2025-02-28T18:43:01.737Z"
   },
   {
    "duration": 12,
    "start_time": "2025-02-28T18:43:01.840Z"
   },
   {
    "duration": 864,
    "start_time": "2025-02-28T18:43:02.458Z"
   },
   {
    "duration": 17,
    "start_time": "2025-02-28T18:43:03.325Z"
   },
   {
    "duration": 66,
    "start_time": "2025-02-28T18:43:06.094Z"
   },
   {
    "duration": 7,
    "start_time": "2025-02-28T18:43:06.543Z"
   },
   {
    "duration": 150,
    "start_time": "2025-02-28T18:43:06.862Z"
   },
   {
    "duration": 84,
    "start_time": "2025-02-28T18:43:07.015Z"
   },
   {
    "duration": 36,
    "start_time": "2025-02-28T18:43:07.242Z"
   },
   {
    "duration": 13,
    "start_time": "2025-02-28T18:43:08.023Z"
   },
   {
    "duration": 8,
    "start_time": "2025-02-28T18:43:08.121Z"
   },
   {
    "duration": 25,
    "start_time": "2025-02-28T18:43:08.359Z"
   },
   {
    "duration": 16,
    "start_time": "2025-02-28T18:43:08.582Z"
   },
   {
    "duration": 5,
    "start_time": "2025-02-28T18:43:09.384Z"
   },
   {
    "duration": 5,
    "start_time": "2025-02-28T18:43:09.695Z"
   },
   {
    "duration": 5,
    "start_time": "2025-02-28T18:43:10.435Z"
   },
   {
    "duration": 4,
    "start_time": "2025-02-28T18:43:10.528Z"
   },
   {
    "duration": 721,
    "start_time": "2025-02-28T18:43:10.986Z"
   },
   {
    "duration": 637,
    "start_time": "2025-02-28T18:43:11.709Z"
   },
   {
    "duration": 9,
    "start_time": "2025-02-28T18:43:14.687Z"
   },
   {
    "duration": 3,
    "start_time": "2025-02-28T18:43:14.799Z"
   },
   {
    "duration": 3,
    "start_time": "2025-02-28T18:43:14.969Z"
   },
   {
    "duration": 5,
    "start_time": "2025-02-28T18:43:15.065Z"
   },
   {
    "duration": 5,
    "start_time": "2025-02-28T18:43:15.237Z"
   },
   {
    "duration": 12,
    "start_time": "2025-02-28T18:43:15.907Z"
   },
   {
    "duration": 14,
    "start_time": "2025-02-28T18:43:16.176Z"
   },
   {
    "duration": 11,
    "start_time": "2025-02-28T18:43:16.855Z"
   },
   {
    "duration": 15,
    "start_time": "2025-02-28T18:43:17.196Z"
   },
   {
    "duration": 5,
    "start_time": "2025-02-28T18:43:17.490Z"
   },
   {
    "duration": 7,
    "start_time": "2025-02-28T18:43:19.568Z"
   },
   {
    "duration": 24,
    "start_time": "2025-02-28T18:43:19.983Z"
   },
   {
    "duration": 6,
    "start_time": "2025-02-28T18:43:21.733Z"
   },
   {
    "duration": 4,
    "start_time": "2025-02-28T18:43:21.896Z"
   },
   {
    "duration": 205,
    "start_time": "2025-02-28T18:43:22.496Z"
   },
   {
    "duration": 149,
    "start_time": "2025-02-28T18:43:24.011Z"
   },
   {
    "duration": 22554,
    "start_time": "2025-02-28T18:43:26.914Z"
   },
   {
    "duration": 15,
    "start_time": "2025-02-28T18:43:49.470Z"
   },
   {
    "duration": 5,
    "start_time": "2025-02-28T18:43:49.488Z"
   },
   {
    "duration": 0,
    "start_time": "2025-02-28T18:43:49.494Z"
   },
   {
    "duration": 88,
    "start_time": "2025-02-28T18:44:08.377Z"
   },
   {
    "duration": 16,
    "start_time": "2025-02-28T18:44:15.878Z"
   },
   {
    "duration": 6,
    "start_time": "2025-02-28T18:44:20.561Z"
   },
   {
    "duration": 235,
    "start_time": "2025-02-28T18:47:17.766Z"
   },
   {
    "duration": 5,
    "start_time": "2025-02-28T18:48:35.789Z"
   },
   {
    "duration": 5,
    "start_time": "2025-02-28T18:49:30.531Z"
   },
   {
    "duration": 5,
    "start_time": "2025-02-28T18:49:53.701Z"
   },
   {
    "duration": 5,
    "start_time": "2025-02-28T18:50:54.615Z"
   },
   {
    "duration": 214,
    "start_time": "2025-02-28T18:53:57.790Z"
   },
   {
    "duration": 226,
    "start_time": "2025-02-28T18:53:58.006Z"
   },
   {
    "duration": 217,
    "start_time": "2025-02-28T18:54:19.973Z"
   },
   {
    "duration": 215,
    "start_time": "2025-02-28T18:56:28.870Z"
   },
   {
    "duration": 149,
    "start_time": "2025-02-28T18:56:37.180Z"
   },
   {
    "duration": 4,
    "start_time": "2025-02-28T18:59:34.239Z"
   },
   {
    "duration": 5,
    "start_time": "2025-02-28T19:00:17.354Z"
   },
   {
    "duration": 152,
    "start_time": "2025-02-28T19:00:30.247Z"
   },
   {
    "duration": 5,
    "start_time": "2025-02-28T19:00:44.046Z"
   },
   {
    "duration": 83,
    "start_time": "2025-02-28T19:01:16.404Z"
   },
   {
    "duration": 20,
    "start_time": "2025-02-28T19:01:16.846Z"
   },
   {
    "duration": 5,
    "start_time": "2025-02-28T19:01:16.942Z"
   },
   {
    "duration": 233,
    "start_time": "2025-02-28T19:03:16.895Z"
   },
   {
    "duration": 155,
    "start_time": "2025-02-28T19:03:19.209Z"
   },
   {
    "duration": 144,
    "start_time": "2025-02-28T19:03:31.693Z"
   },
   {
    "duration": 17,
    "start_time": "2025-02-28T19:03:42.356Z"
   },
   {
    "duration": 11,
    "start_time": "2025-02-28T19:03:42.483Z"
   },
   {
    "duration": 105,
    "start_time": "2025-02-28T19:04:00.468Z"
   },
   {
    "duration": 100,
    "start_time": "2025-02-28T19:04:02.086Z"
   },
   {
    "duration": 25,
    "start_time": "2025-02-28T19:04:04.935Z"
   },
   {
    "duration": 446,
    "start_time": "2025-02-28T19:04:10.814Z"
   },
   {
    "duration": 44,
    "start_time": "2025-02-28T19:04:55.805Z"
   },
   {
    "duration": 951,
    "start_time": "2025-02-28T19:09:52.362Z"
   },
   {
    "duration": 1026,
    "start_time": "2025-02-28T19:10:49.939Z"
   },
   {
    "duration": 19506,
    "start_time": "2025-02-28T19:16:33.167Z"
   },
   {
    "duration": 735,
    "start_time": "2025-02-28T19:16:52.675Z"
   },
   {
    "duration": 4,
    "start_time": "2025-02-28T19:16:56.660Z"
   },
   {
    "duration": 5,
    "start_time": "2025-02-28T19:16:57.228Z"
   },
   {
    "duration": 140,
    "start_time": "2025-02-28T19:16:57.825Z"
   },
   {
    "duration": 40,
    "start_time": "2025-02-28T19:16:58.423Z"
   },
   {
    "duration": 12,
    "start_time": "2025-02-28T19:16:59.024Z"
   },
   {
    "duration": 13,
    "start_time": "2025-02-28T19:16:59.707Z"
   },
   {
    "duration": 887,
    "start_time": "2025-02-28T19:17:00.253Z"
   },
   {
    "duration": 7,
    "start_time": "2025-02-28T19:17:01.145Z"
   },
   {
    "duration": 66,
    "start_time": "2025-02-28T19:17:04.111Z"
   },
   {
    "duration": 6,
    "start_time": "2025-02-28T19:17:04.715Z"
   },
   {
    "duration": 137,
    "start_time": "2025-02-28T19:17:06.860Z"
   },
   {
    "duration": 65,
    "start_time": "2025-02-28T19:17:07.404Z"
   },
   {
    "duration": 37,
    "start_time": "2025-02-28T19:17:07.979Z"
   },
   {
    "duration": 15,
    "start_time": "2025-02-28T19:17:09.527Z"
   },
   {
    "duration": 5,
    "start_time": "2025-02-28T19:17:10.052Z"
   },
   {
    "duration": 26,
    "start_time": "2025-02-28T19:17:10.545Z"
   },
   {
    "duration": 36,
    "start_time": "2025-02-28T19:17:12.873Z"
   },
   {
    "duration": 5,
    "start_time": "2025-02-28T19:17:15.405Z"
   },
   {
    "duration": 4,
    "start_time": "2025-02-28T19:17:15.897Z"
   },
   {
    "duration": 5,
    "start_time": "2025-02-28T19:17:17.188Z"
   },
   {
    "duration": 4,
    "start_time": "2025-02-28T19:17:17.424Z"
   },
   {
    "duration": 664,
    "start_time": "2025-02-28T19:17:18.121Z"
   },
   {
    "duration": 639,
    "start_time": "2025-02-28T19:17:18.788Z"
   },
   {
    "duration": 9,
    "start_time": "2025-02-28T19:17:20.955Z"
   },
   {
    "duration": 4,
    "start_time": "2025-02-28T19:17:21.393Z"
   },
   {
    "duration": 4,
    "start_time": "2025-02-28T19:17:21.753Z"
   },
   {
    "duration": 6,
    "start_time": "2025-02-28T19:17:22.105Z"
   },
   {
    "duration": 5,
    "start_time": "2025-02-28T19:17:22.498Z"
   },
   {
    "duration": 12,
    "start_time": "2025-02-28T19:17:23.717Z"
   },
   {
    "duration": 13,
    "start_time": "2025-02-28T19:17:24.520Z"
   },
   {
    "duration": 10,
    "start_time": "2025-02-28T19:17:26.556Z"
   },
   {
    "duration": 15,
    "start_time": "2025-02-28T19:17:27.182Z"
   },
   {
    "duration": 6,
    "start_time": "2025-02-28T19:17:27.889Z"
   },
   {
    "duration": 7,
    "start_time": "2025-02-28T19:17:28.430Z"
   },
   {
    "duration": 24,
    "start_time": "2025-02-28T19:17:28.958Z"
   },
   {
    "duration": 5,
    "start_time": "2025-02-28T19:17:31.564Z"
   },
   {
    "duration": 4,
    "start_time": "2025-02-28T19:17:32.179Z"
   },
   {
    "duration": 207,
    "start_time": "2025-02-28T19:17:33.896Z"
   },
   {
    "duration": 135,
    "start_time": "2025-02-28T19:17:37.634Z"
   },
   {
    "duration": 22512,
    "start_time": "2025-02-28T19:18:04.914Z"
   },
   {
    "duration": 230,
    "start_time": "2025-02-28T19:18:27.428Z"
   },
   {
    "duration": 156,
    "start_time": "2025-02-28T19:18:27.661Z"
   },
   {
    "duration": 21426,
    "start_time": "2025-02-28T19:20:08.252Z"
   },
   {
    "duration": 7,
    "start_time": "2025-03-01T03:54:43.967Z"
   },
   {
    "duration": 294,
    "start_time": "2025-03-01T03:54:45.546Z"
   },
   {
    "duration": 188,
    "start_time": "2025-03-01T03:54:46.210Z"
   },
   {
    "duration": 63,
    "start_time": "2025-03-01T03:54:46.708Z"
   },
   {
    "duration": 14,
    "start_time": "2025-03-01T03:54:47.290Z"
   },
   {
    "duration": 14,
    "start_time": "2025-03-01T03:54:47.888Z"
   },
   {
    "duration": 1030,
    "start_time": "2025-03-01T03:54:48.450Z"
   },
   {
    "duration": 11,
    "start_time": "2025-03-01T03:54:49.482Z"
   },
   {
    "duration": 138,
    "start_time": "2025-03-01T03:54:51.015Z"
   },
   {
    "duration": 9,
    "start_time": "2025-03-01T03:54:51.722Z"
   },
   {
    "duration": 206,
    "start_time": "2025-03-01T03:54:52.229Z"
   },
   {
    "duration": 91,
    "start_time": "2025-03-01T03:54:52.740Z"
   },
   {
    "duration": 47,
    "start_time": "2025-03-01T03:54:53.250Z"
   },
   {
    "duration": 17,
    "start_time": "2025-03-01T03:54:54.729Z"
   },
   {
    "duration": 7,
    "start_time": "2025-03-01T03:54:55.193Z"
   },
   {
    "duration": 29,
    "start_time": "2025-03-01T03:54:55.674Z"
   },
   {
    "duration": 20,
    "start_time": "2025-03-01T03:54:56.408Z"
   },
   {
    "duration": 4,
    "start_time": "2025-03-01T03:54:57.977Z"
   },
   {
    "duration": 5,
    "start_time": "2025-03-01T03:54:58.416Z"
   },
   {
    "duration": 5,
    "start_time": "2025-03-01T03:54:59.747Z"
   },
   {
    "duration": 5,
    "start_time": "2025-03-01T03:55:00.044Z"
   },
   {
    "duration": 850,
    "start_time": "2025-03-01T03:55:01.006Z"
   },
   {
    "duration": 750,
    "start_time": "2025-03-01T03:55:01.858Z"
   },
   {
    "duration": 10,
    "start_time": "2025-03-01T03:55:04.224Z"
   },
   {
    "duration": 5,
    "start_time": "2025-03-01T03:55:04.833Z"
   },
   {
    "duration": 4,
    "start_time": "2025-03-01T03:55:05.468Z"
   },
   {
    "duration": 6,
    "start_time": "2025-03-01T03:55:05.962Z"
   },
   {
    "duration": 7,
    "start_time": "2025-03-01T03:55:06.492Z"
   },
   {
    "duration": 18,
    "start_time": "2025-03-01T03:55:08.196Z"
   },
   {
    "duration": 16,
    "start_time": "2025-03-01T03:55:08.719Z"
   },
   {
    "duration": 13,
    "start_time": "2025-03-01T03:55:10.291Z"
   },
   {
    "duration": 21,
    "start_time": "2025-03-01T03:55:10.778Z"
   },
   {
    "duration": 8,
    "start_time": "2025-03-01T03:55:11.284Z"
   },
   {
    "duration": 7,
    "start_time": "2025-03-01T03:55:11.840Z"
   },
   {
    "duration": 32,
    "start_time": "2025-03-01T03:55:12.405Z"
   },
   {
    "duration": 5,
    "start_time": "2025-03-01T03:55:16.697Z"
   },
   {
    "duration": 5,
    "start_time": "2025-03-01T03:55:17.453Z"
   },
   {
    "duration": 2049,
    "start_time": "2025-03-01T03:55:19.120Z"
   },
   {
    "duration": 139,
    "start_time": "2025-03-01T03:55:22.875Z"
   },
   {
    "duration": 303,
    "start_time": "2025-03-01T03:55:28.729Z"
   },
   {
    "duration": 353,
    "start_time": "2025-03-01T03:56:07.670Z"
   },
   {
    "duration": 174,
    "start_time": "2025-03-01T03:56:15.346Z"
   },
   {
    "duration": 87,
    "start_time": "2025-03-01T03:56:32.175Z"
   },
   {
    "duration": 20,
    "start_time": "2025-03-01T03:56:32.615Z"
   },
   {
    "duration": 6,
    "start_time": "2025-03-01T03:56:33.514Z"
   },
   {
    "duration": 296,
    "start_time": "2025-03-01T03:56:46.238Z"
   },
   {
    "duration": 203,
    "start_time": "2025-03-01T03:56:46.783Z"
   },
   {
    "duration": 173,
    "start_time": "2025-03-01T03:57:08.015Z"
   },
   {
    "duration": 21,
    "start_time": "2025-03-01T03:57:08.827Z"
   },
   {
    "duration": 13,
    "start_time": "2025-03-01T03:57:09.530Z"
   },
   {
    "duration": 87,
    "start_time": "2025-03-01T03:57:11.765Z"
   },
   {
    "duration": 138,
    "start_time": "2025-03-01T03:57:12.293Z"
   },
   {
    "duration": 28,
    "start_time": "2025-03-01T03:57:12.830Z"
   },
   {
    "duration": 1138,
    "start_time": "2025-03-01T03:57:14.658Z"
   },
   {
    "duration": 6,
    "start_time": "2025-03-02T03:22:32.244Z"
   },
   {
    "duration": 276,
    "start_time": "2025-03-02T03:22:33.176Z"
   },
   {
    "duration": 181,
    "start_time": "2025-03-02T03:22:33.619Z"
   },
   {
    "duration": 67,
    "start_time": "2025-03-02T03:22:34.075Z"
   },
   {
    "duration": 15,
    "start_time": "2025-03-02T03:22:34.453Z"
   },
   {
    "duration": 15,
    "start_time": "2025-03-02T03:22:34.830Z"
   },
   {
    "duration": 948,
    "start_time": "2025-03-02T03:22:35.178Z"
   },
   {
    "duration": 9,
    "start_time": "2025-03-02T03:22:36.128Z"
   },
   {
    "duration": 103,
    "start_time": "2025-03-02T03:22:36.916Z"
   },
   {
    "duration": 8,
    "start_time": "2025-03-02T03:22:37.499Z"
   },
   {
    "duration": 199,
    "start_time": "2025-03-02T03:22:37.898Z"
   },
   {
    "duration": 92,
    "start_time": "2025-03-02T03:22:38.287Z"
   },
   {
    "duration": 45,
    "start_time": "2025-03-02T03:22:38.735Z"
   },
   {
    "duration": 13,
    "start_time": "2025-03-02T03:22:39.769Z"
   },
   {
    "duration": 6,
    "start_time": "2025-03-02T03:22:40.139Z"
   },
   {
    "duration": 29,
    "start_time": "2025-03-02T03:22:40.458Z"
   },
   {
    "duration": 15,
    "start_time": "2025-03-02T03:22:40.796Z"
   },
   {
    "duration": 4,
    "start_time": "2025-03-02T03:22:41.854Z"
   },
   {
    "duration": 4,
    "start_time": "2025-03-02T03:22:42.150Z"
   },
   {
    "duration": 5,
    "start_time": "2025-03-02T03:22:42.900Z"
   },
   {
    "duration": 4,
    "start_time": "2025-03-02T03:22:43.202Z"
   },
   {
    "duration": 778,
    "start_time": "2025-03-02T03:22:44.104Z"
   },
   {
    "duration": 707,
    "start_time": "2025-03-02T03:22:44.888Z"
   },
   {
    "duration": 9,
    "start_time": "2025-03-02T03:22:46.051Z"
   },
   {
    "duration": 3,
    "start_time": "2025-03-02T03:22:46.339Z"
   },
   {
    "duration": 4,
    "start_time": "2025-03-02T03:22:46.743Z"
   },
   {
    "duration": 6,
    "start_time": "2025-03-02T03:22:47.152Z"
   },
   {
    "duration": 4,
    "start_time": "2025-03-02T03:22:47.520Z"
   },
   {
    "duration": 13,
    "start_time": "2025-03-02T03:22:48.663Z"
   },
   {
    "duration": 14,
    "start_time": "2025-03-02T03:22:49.165Z"
   },
   {
    "duration": 10,
    "start_time": "2025-03-02T03:22:50.391Z"
   },
   {
    "duration": 16,
    "start_time": "2025-03-02T03:22:50.787Z"
   },
   {
    "duration": 6,
    "start_time": "2025-03-02T03:22:51.179Z"
   },
   {
    "duration": 6,
    "start_time": "2025-03-02T03:22:51.551Z"
   },
   {
    "duration": 23,
    "start_time": "2025-03-02T03:22:52.005Z"
   },
   {
    "duration": 4,
    "start_time": "2025-03-02T03:22:53.891Z"
   },
   {
    "duration": 5,
    "start_time": "2025-03-02T03:22:54.311Z"
   },
   {
    "duration": 2120,
    "start_time": "2025-03-02T03:22:55.568Z"
   },
   {
    "duration": 145,
    "start_time": "2025-03-02T03:22:58.066Z"
   },
   {
    "duration": 368,
    "start_time": "2025-03-02T03:23:00.001Z"
   },
   {
    "duration": 256,
    "start_time": "2025-03-02T03:23:02.684Z"
   },
   {
    "duration": 153,
    "start_time": "2025-03-02T03:23:05.071Z"
   },
   {
    "duration": 86,
    "start_time": "2025-03-02T03:23:07.376Z"
   },
   {
    "duration": 21,
    "start_time": "2025-03-02T03:23:07.807Z"
   },
   {
    "duration": 6,
    "start_time": "2025-03-02T03:23:08.213Z"
   },
   {
    "duration": 263,
    "start_time": "2025-03-02T03:23:13.636Z"
   },
   {
    "duration": 160,
    "start_time": "2025-03-02T03:23:14.173Z"
   },
   {
    "duration": 149,
    "start_time": "2025-03-02T03:23:16.536Z"
   },
   {
    "duration": 17,
    "start_time": "2025-03-02T03:23:19.115Z"
   },
   {
    "duration": 11,
    "start_time": "2025-03-02T03:23:21.211Z"
   },
   {
    "duration": 91,
    "start_time": "2025-03-02T03:23:24.132Z"
   },
   {
    "duration": 112,
    "start_time": "2025-03-02T03:23:28.048Z"
   },
   {
    "duration": 28,
    "start_time": "2025-03-02T03:23:28.800Z"
   },
   {
    "duration": 1087,
    "start_time": "2025-03-02T03:23:30.024Z"
   },
   {
    "duration": 19696,
    "start_time": "2025-03-02T03:24:00.766Z"
   },
   {
    "duration": 20276,
    "start_time": "2025-03-02T03:38:22.291Z"
   },
   {
    "duration": 223,
    "start_time": "2025-03-02T03:45:25.787Z"
   },
   {
    "duration": 314,
    "start_time": "2025-03-02T03:50:39.654Z"
   },
   {
    "duration": 5,
    "start_time": "2025-03-02T05:07:30.010Z"
   },
   {
    "duration": 317,
    "start_time": "2025-03-02T05:07:30.017Z"
   },
   {
    "duration": 154,
    "start_time": "2025-03-02T05:07:30.336Z"
   },
   {
    "duration": 47,
    "start_time": "2025-03-02T05:07:30.491Z"
   },
   {
    "duration": 11,
    "start_time": "2025-03-02T05:07:30.541Z"
   },
   {
    "duration": 10,
    "start_time": "2025-03-02T05:07:30.554Z"
   },
   {
    "duration": 860,
    "start_time": "2025-03-02T05:07:30.566Z"
   },
   {
    "duration": 9,
    "start_time": "2025-03-02T05:07:31.427Z"
   },
   {
    "duration": 108,
    "start_time": "2025-03-02T05:07:31.437Z"
   },
   {
    "duration": 7,
    "start_time": "2025-03-02T05:07:31.548Z"
   },
   {
    "duration": 218,
    "start_time": "2025-03-02T05:07:31.557Z"
   },
   {
    "duration": 97,
    "start_time": "2025-03-02T05:07:31.777Z"
   },
   {
    "duration": 50,
    "start_time": "2025-03-02T05:07:31.876Z"
   },
   {
    "duration": 12,
    "start_time": "2025-03-02T05:07:31.930Z"
   },
   {
    "duration": 6,
    "start_time": "2025-03-02T05:07:31.943Z"
   },
   {
    "duration": 26,
    "start_time": "2025-03-02T05:07:31.950Z"
   },
   {
    "duration": 39,
    "start_time": "2025-03-02T05:07:31.978Z"
   },
   {
    "duration": 4,
    "start_time": "2025-03-02T05:07:32.019Z"
   },
   {
    "duration": 4,
    "start_time": "2025-03-02T05:07:32.025Z"
   },
   {
    "duration": 4,
    "start_time": "2025-03-02T05:07:32.030Z"
   },
   {
    "duration": 4,
    "start_time": "2025-03-02T05:07:32.036Z"
   },
   {
    "duration": 817,
    "start_time": "2025-03-02T05:07:32.041Z"
   },
   {
    "duration": 693,
    "start_time": "2025-03-02T05:07:32.859Z"
   },
   {
    "duration": 9,
    "start_time": "2025-03-02T05:07:33.554Z"
   },
   {
    "duration": 4,
    "start_time": "2025-03-02T05:07:33.565Z"
   },
   {
    "duration": 4,
    "start_time": "2025-03-02T05:07:33.570Z"
   },
   {
    "duration": 6,
    "start_time": "2025-03-02T05:07:33.576Z"
   },
   {
    "duration": 26,
    "start_time": "2025-03-02T05:07:33.583Z"
   },
   {
    "duration": 12,
    "start_time": "2025-03-02T05:07:33.611Z"
   },
   {
    "duration": 13,
    "start_time": "2025-03-02T05:07:33.624Z"
   },
   {
    "duration": 9,
    "start_time": "2025-03-02T05:07:33.639Z"
   },
   {
    "duration": 15,
    "start_time": "2025-03-02T05:07:33.649Z"
   },
   {
    "duration": 44,
    "start_time": "2025-03-02T05:07:33.666Z"
   },
   {
    "duration": 8,
    "start_time": "2025-03-02T05:07:33.712Z"
   },
   {
    "duration": 24,
    "start_time": "2025-03-02T05:07:33.721Z"
   },
   {
    "duration": 5,
    "start_time": "2025-03-02T05:07:33.747Z"
   },
   {
    "duration": 5,
    "start_time": "2025-03-02T05:07:33.754Z"
   },
   {
    "duration": 397,
    "start_time": "2025-03-02T05:07:33.761Z"
   },
   {
    "duration": 151,
    "start_time": "2025-03-02T05:07:34.160Z"
   },
   {
    "duration": 300,
    "start_time": "2025-03-02T05:07:34.313Z"
   },
   {
    "duration": 230,
    "start_time": "2025-03-02T05:07:34.618Z"
   },
   {
    "duration": 161,
    "start_time": "2025-03-02T05:07:34.850Z"
   },
   {
    "duration": 81,
    "start_time": "2025-03-02T05:07:35.013Z"
   },
   {
    "duration": 30,
    "start_time": "2025-03-02T05:07:35.096Z"
   },
   {
    "duration": 6,
    "start_time": "2025-03-02T05:07:35.127Z"
   },
   {
    "duration": 293,
    "start_time": "2025-03-02T05:07:35.135Z"
   },
   {
    "duration": 165,
    "start_time": "2025-03-02T05:07:35.429Z"
   },
   {
    "duration": 164,
    "start_time": "2025-03-02T05:07:35.595Z"
   },
   {
    "duration": 17,
    "start_time": "2025-03-02T05:07:35.761Z"
   },
   {
    "duration": 9,
    "start_time": "2025-03-02T05:07:35.780Z"
   },
   {
    "duration": 103,
    "start_time": "2025-03-02T05:07:35.791Z"
   },
   {
    "duration": 114,
    "start_time": "2025-03-02T05:07:35.897Z"
   },
   {
    "duration": 26,
    "start_time": "2025-03-02T05:07:36.013Z"
   },
   {
    "duration": 1028,
    "start_time": "2025-03-02T05:07:36.040Z"
   },
   {
    "duration": 350,
    "start_time": "2025-03-02T05:07:37.071Z"
   }
  ],
  "kernelspec": {
   "display_name": "Python 3 (ipykernel)",
   "language": "python",
   "name": "python3"
  },
  "language_info": {
   "codemirror_mode": {
    "name": "ipython",
    "version": 3
   },
   "file_extension": ".py",
   "mimetype": "text/x-python",
   "name": "python",
   "nbconvert_exporter": "python",
   "pygments_lexer": "ipython3",
   "version": "3.9.19"
  },
  "toc": {
   "base_numbering": 1,
   "nav_menu": {},
   "number_sections": true,
   "sideBar": true,
   "skip_h1_title": true,
   "title_cell": "Table of Contents",
   "title_sidebar": "Contents",
   "toc_cell": false,
   "toc_position": {},
   "toc_section_display": true,
   "toc_window_display": false
  },
  "vscode": {
   "interpreter": {
    "hash": "01a7be9ec63e704a62cefc5fe7a4756944464ee731be31632bdf42a4cb4688cf"
   }
  }
 },
 "nbformat": 4,
 "nbformat_minor": 5
}
