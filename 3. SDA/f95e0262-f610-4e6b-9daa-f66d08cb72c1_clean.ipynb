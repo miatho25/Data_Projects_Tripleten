{
 "cells": [
  {
   "cell_type": "markdown",
   "metadata": {},
   "source": "# Which one is a better plan?\n\nYou work as an analyst for the telecom operator Megaline. The company offers its clients two prepaid plans, Surf and Ultimate. The commercial department wants to know which of the plans brings in more revenue in order to adjust the advertising budget.\n\nYou are going to carry out a preliminary analysis of the plans based on a relatively small client selection. You'll have the data on 500 Megaline clients: who the clients are, where they're from, which plan they use, and the number of calls they made and text messages they sent in 2018. Your job is to analyze the clients' behavior and determine which prepaid plan brings in more revenue."
  },
  {
   "cell_type": "markdown",
   "metadata": {},
   "source": "<div style=\"background-color:lightblue; color:darkblue\">\n\nProject approach and expected outcome\n\nData Cleaning & Preparation:\nConvert dates, handle missing values, and format data correctly (e.g., MB to GB)\n\nUser Behavior Analysis:\nCompare call duration, message usage, and internet consumption across plans.\nIdentify how many users exceed their limits.\n\nRevenue Calculation:\nCompute monthly revenue per user, including base fees and extra charges.\nCompare total revenue trends across both plans.\n\nVisualizations & Business Insights:\nBoxplots, histograms, and trend analysis to compare profitability.\nProvide data-driven recommendations for pricing and marketing strategy.\n\nOutcome:\nIdentify the most profitable plan to guide marketing decisions.</div>"
  },
  {
   "cell_type": "markdown",
   "metadata": {},
   "source": "## Initialization"
  },
  {
   "cell_type": "markdown",
   "metadata": {},
   "source": ""
  },
  {
   "cell_type": "code",
   "execution_count": null,
   "metadata": {
    "trusted": false
   },
   "outputs": [],
   "source": "# Loading all the libraries\nimport pandas as pd\nimport numpy as np\nimport matplotlib.pyplot as plt\n\n"
  },
  {
   "cell_type": "markdown",
   "metadata": {},
   "source": "## Load data"
  },
  {
   "cell_type": "markdown",
   "metadata": {},
   "source": ""
  },
  {
   "cell_type": "code",
   "execution_count": null,
   "metadata": {
    "trusted": false
   },
   "outputs": [],
   "source": "# Load the data files into different DataFrames\nusers = pd.read_csv('/datasets/megaline_users.csv')\ncalls = pd.read_csv('/datasets/megaline_calls.csv')\nmessages = pd.read_csv('/datasets/megaline_messages.csv')\ninternet = pd.read_csv('/datasets/megaline_internet.csv')\nplans = pd.read_csv('/datasets/megaline_plans.csv')\n"
  },
  {
   "cell_type": "markdown",
   "metadata": {},
   "source": "## Prepare the data"
  },
  {
   "cell_type": "markdown",
   "metadata": {},
   "source": "[The data for this project is split into several tables. Explore each one to get an initial understanding of the data. Do necessary corrections to each table if necessary.]"
  },
  {
   "cell_type": "markdown",
   "metadata": {},
   "source": "## Plans"
  },
  {
   "cell_type": "code",
   "execution_count": null,
   "metadata": {
    "trusted": false
   },
   "outputs": [],
   "source": "# Print the general/summary information about the plans' DataFrame\nprint(users.info())\nprint(calls.info())\nprint(messages.info())\nprint(internet.info())\nprint(plans.info())"
  },
  {
   "cell_type": "code",
   "execution_count": null,
   "metadata": {
    "scrolled": true,
    "trusted": false
   },
   "outputs": [],
   "source": "#Print a sample of data for plans\n\nplans.head"
  },
  {
   "cell_type": "markdown",
   "metadata": {},
   "source": "<div style=\"background-color:lightblue; color:darkblue\">\n\n "
  },
  {
   "cell_type": "markdown",
   "metadata": {},
   "source": "[Describe what you see and notice in the general information and the printed data sample for the above price of data. Are there any issues (inappropriate data types, missing data etc) that may need further investigation and changes? How that can be fixed?]"
  },
  {
   "cell_type": "markdown",
   "metadata": {},
   "source": "Description of general plans infomation:\nThe plans dataset describes mobile and internet plans with various features such as included messages, data(mb), and pricing details.Possible issues include, the numeric columns formats. If any columns are mistakenly stored as strings, they need conversion. The printout does not indicate missing values, but further checks such as df.info() or df.isnull().sum()) should confirm if any values are missing. The price per GB, message, or minute should be checked for inconsistencies. The column mb_per_month_included is in megabytes. Converting it to gigabytes (GB) might make comparisons easier. "
  },
  {
   "cell_type": "markdown",
   "metadata": {},
   "source": "## Fix data"
  },
  {
   "cell_type": "markdown",
   "metadata": {},
   "source": "[Fix obvious issues with the data given the initial observations.]"
  },
  {
   "cell_type": "code",
   "execution_count": null,
   "metadata": {
    "trusted": false
   },
   "outputs": [],
   "source": "# Convert 'mb_per_month_included' from MB to GB #removing mb column\nplans['gb_per_month_included'] = plans['mb_per_month_included'] / 1024\nplans.drop(columns=['mb_per_month_included'], inplace=True)  \n\n# Check and enforce correct data types\nnumeric_columns = [\n    'messages_included', 'minutes_included', 'usd_monthly_pay',\n    'usd_per_gb', 'usd_per_message', 'usd_per_minute', 'gb_per_month_included'\n]\nplans[numeric_columns] = plans[numeric_columns].astype(float)  # making sure they are floats\n\n# Check for missing values across datasets\nprint(users.isnull().sum())  \nprint(calls.isnull().sum())  \nprint(messages.isnull().sum())  \nprint(internet.isnull().sum())  \nprint(plans.isnull().sum())  \n\n# Handle missing churn_date by filling with 'Not Churned'\nusers['churn_date'].fillna('Not Churned', inplace=True)\n\n# Verify corrections\nprint(plans.head())\nprint(users.info())\n\n"
  },
  {
   "cell_type": "markdown",
   "metadata": {},
   "source": "## Enrich data"
  },
  {
   "cell_type": "markdown",
   "metadata": {},
   "source": "[Add additional factors to the data if you believe they might be useful.]"
  },
  {
   "cell_type": "markdown",
   "metadata": {},
   "source": "To enhance the plans dataset, we can add additional factors that provide more insights into the plans, such as:\n\nCost per Included GB, Minute, and Message\nHelps compare plans more effectively.\n\nOverage Cost Multiplier\nHow much more expensive it is to exceed the included limits.\n\nValue Score (Cost Efficiency Metric)\nA ranking metric that balances cost and included features.\n\n\n"
  },
  {
   "cell_type": "code",
   "execution_count": null,
   "metadata": {
    "trusted": false
   },
   "outputs": [],
   "source": "\n# Calculate cost per included unit\nplans['cost_per_included_gb'] = plans['usd_monthly_pay'] / plans['gb_per_month_included']\nplans['cost_per_included_minute'] = plans['usd_monthly_pay'] / plans['minutes_included']\nplans['cost_per_included_message'] = plans['usd_monthly_pay'] / plans['messages_included']\n\n# Calculate overage cost multiplier\nplans['overage_cost_multiplier_gb'] = plans['usd_per_gb'] / plans['cost_per_included_gb']\nplans['overage_cost_multiplier_minute'] = plans['usd_per_minute'] / plans['cost_per_included_minute']\nplans['overage_cost_multiplier_message'] = plans['usd_per_message'] / plans['cost_per_included_message']\n\n# Compute a value score (higher score = better value)\nplans['value_score'] = (plans['minutes_included'] + plans['messages_included'] + plans['gb_per_month_included']) / plans['usd_monthly_pay']\n\n# Verify the enriched dataset\nprint(plans.head())"
  },
  {
   "cell_type": "markdown",
   "metadata": {},
   "source": "Cost per Included GB, Minute, and Message – Helps users compare plans better\nOverage Cost Multiplier – Indicates how expensive it is to exceed limits\nValue Score – A simple metric to compare overall plan value"
  },
  {
   "cell_type": "markdown",
   "metadata": {},
   "source": "## Users"
  },
  {
   "cell_type": "code",
   "execution_count": null,
   "metadata": {
    "trusted": false
   },
   "outputs": [],
   "source": "# Print the general/summary information about the users' DataFrame\n\nprint(users.describe())"
  },
  {
   "cell_type": "code",
   "execution_count": null,
   "metadata": {
    "trusted": false
   },
   "outputs": [],
   "source": "# Print a sample of data for users\n\nprint(users.head())"
  },
  {
   "cell_type": "markdown",
   "metadata": {},
   "source": "[Describe what you see and notice in the general information and the printed data sample for the above price of data. Are there any issues (inappropriate data types, missing data etc) that may need further investigation and changes? How that can be fixed?]"
  },
  {
   "cell_type": "markdown",
   "metadata": {},
   "source": " The dataset contains information about user ID, name, age, city, registration date, plan type, and churn status.\nchurn_date is labeled as \"Not Churned\" instead of NaN, which means it's been manually filled instead of leaving it empty.The reg_date and churn_date columns should be in datetime format but appear to be strings. Instead of \"Not Churned\", using NaN is better for analysis. City names include \"MSA\", which may be unnecessary.Check for Duplicates. Check for Missing Values\n"
  },
  {
   "cell_type": "markdown",
   "metadata": {},
   "source": "### Fix Data"
  },
  {
   "cell_type": "markdown",
   "metadata": {},
   "source": "[Fix obvious issues with the data given the initial observations.]"
  },
  {
   "cell_type": "code",
   "execution_count": null,
   "metadata": {
    "trusted": false
   },
   "outputs": [],
   "source": "#convert reg_date and churn_date to datetime and change not churned to Nan\nusers['reg_date'] = pd.to_datetime(users['reg_date'])\nusers['churn_date'] = users['churn_date'].replace(\"Not Churned\", np.nan)\nusers['churn_date'] = pd.to_datetime(users['churn_date'])\n\n#format city\nusers['city'] = users['city'].str.replace(\" MSA\", \"\", regex=False)\n\n# Extract state abbreviation (last two characters after comma)\nusers['state'] = users['city'].str.extract(r', (\\w\\w)$')\n\n\nprint(users.head())\n\n#check for duplicates\nprint(users.duplicated().sum()) \n\n#check for missing values\nprint(users.isnull().sum()) \n\n"
  },
  {
   "cell_type": "markdown",
   "metadata": {},
   "source": "Observation\nn_date has been converted to NaT (Not a Time) for users who have not churned.\nNo missing values in other columns—which means the dataset is complete except for churn data, which is expected.\nDate format for reg_date and churn_date is correct.\n\n"
  },
  {
   "cell_type": "markdown",
   "metadata": {},
   "source": "### Enrich Data"
  },
  {
   "cell_type": "markdown",
   "metadata": {},
   "source": "[Add additional factors to the data if you believe they might be useful.]"
  },
  {
   "cell_type": "code",
   "execution_count": null,
   "metadata": {
    "trusted": false
   },
   "outputs": [],
   "source": "# Calculate User Tenure (Time Since Registration)\n#Adding a tenure_months column to see how long each user has been active\ntoday = pd.to_datetime('2018-12-31') \nusers['tenure_months'] = ((today - users['reg_date']) / np.timedelta64(1, 'M')).astype(int)  \n#This will give the number of months each user has been subscribed.\n\n#Categorize Users by Age Group\nbins = [0, 18, 30, 45, 60, np.inf]\nlabels = ['Teen', 'Young Adult', 'Middle-aged', 'Older Adult', 'Senior']\nusers['age_group'] = pd.cut(users['age'], bins=bins, labels=labels)\n#This can useful for analysis\n\n#Add a \"Churned\" Column (Yes/No)\n#Instead of checking NaT, create a column to indicate whether a user has churned\nusers['churned'] = users['churn_date'].notna().astype(int)  # 1 = Churned, 0 = Active\n\nprint(users.head())\n\n\n"
  },
  {
   "cell_type": "markdown",
   "metadata": {},
   "source": "## Calls"
  },
  {
   "cell_type": "code",
   "execution_count": null,
   "metadata": {
    "trusted": false
   },
   "outputs": [],
   "source": "# Print the general/summary information about the calls' DataFrame\n\nprint(calls.describe())"
  },
  {
   "cell_type": "code",
   "execution_count": null,
   "metadata": {
    "trusted": false
   },
   "outputs": [],
   "source": "# Print a sample of data for calls\nprint(calls.head())\n"
  },
  {
   "cell_type": "markdown",
   "metadata": {},
   "source": "[Describe what you see and notice in the general information and the printed data sample for the above price of data. Are there any issues (inappropriate data types, missing data etc) that may need further investigation and changes? How that can be fixed?]"
  },
  {
   "cell_type": "markdown",
   "metadata": {},
   "source": " The dataset contains information about individual call records, including:\nid:Unique identifier for each call. user_id: Identifies the user making the call. call_date: The date the call was made. duration: The length of the call in minutes. Possible issues include call_date is likely stored as an object (string), which should be converted to a datetime format for accurate date-based analysis. Megaline rounds up call durations to the nearest whole minute for billing. Calls with duration == 0.00 might represent missed or failed calls. \n"
  },
  {
   "cell_type": "markdown",
   "metadata": {},
   "source": "### Fix data"
  },
  {
   "cell_type": "markdown",
   "metadata": {},
   "source": "[Fix obvious issues with the data given the initial observations.]"
  },
  {
   "cell_type": "code",
   "execution_count": null,
   "metadata": {
    "trusted": false
   },
   "outputs": [],
   "source": "#convert call_date to datetime format\ncalls['call_date'] = pd.to_datetime(calls['call_date'])\n\n#round up the calls\ncalls['duration'] = np.ceil(calls['duration'])\n\n#check for missing or zero length calls\ncalls = calls[calls['duration'] > 0]\n\nprint(calls.head())"
  },
  {
   "cell_type": "markdown",
   "metadata": {},
   "source": "### Enrich data"
  },
  {
   "cell_type": "markdown",
   "metadata": {},
   "source": "[Add additional factors to the data if you believe they might be useful.]"
  },
  {
   "cell_type": "code",
   "execution_count": null,
   "metadata": {
    "trusted": false
   },
   "outputs": [],
   "source": "# Add a \"Day of the Week\" column:\ncalls['day_of_week'] = calls['call_date'].dt.day_name()\n\n# Categorize Calls by Time of Day:\ncalls['call_hour'] = calls['call_date'].dt.hour\ncalls['time_of_day'] = pd.cut(\n    calls['call_hour'], bins=[0, 6, 12, 18, 24], \n    labels=['Night', 'Morning', 'Afternoon', 'Evening'], include_lowest=True\n)\nprint(calls.head())"
  },
  {
   "cell_type": "markdown",
   "metadata": {},
   "source": "## Messages"
  },
  {
   "cell_type": "code",
   "execution_count": null,
   "metadata": {
    "trusted": false
   },
   "outputs": [],
   "source": "# Print the general/summary information about the messages' DataFrame\n\nprint(messages.describe())"
  },
  {
   "cell_type": "code",
   "execution_count": null,
   "metadata": {
    "trusted": false
   },
   "outputs": [],
   "source": "# Print a sample of data for messages\nprint(messages.head())\n"
  },
  {
   "cell_type": "markdown",
   "metadata": {},
   "source": "[Describe what you see and notice in the general information and the printed data sample for the above price of data. Are there any issues (inappropriate data types, missing data etc) that may need further investigation and changes? How that can be fixed?]"
  },
  {
   "cell_type": "markdown",
   "metadata": {},
   "source": " The messages dataframe includes unique identifier for each message using ID, identifies the user who sent the message using user id and the date the message was sent message date. Potential issues include, message_date data type is likely stored as an object (string) rather than a datetime type. We can fix this by converting it to datetime format for easier analysis.\nNo time information in message_date, if we need insights into messages sent by time of day (e.g., morning vs. night), this data might be insufficient. Missing values, a .info() check should be done to confirm if any missing values exist. Potential duplicates, since id seems to be a unique identifier, checking for duplicates might help ensure data integrity.\n\n \n"
  },
  {
   "cell_type": "markdown",
   "metadata": {},
   "source": "### Fix data"
  },
  {
   "cell_type": "markdown",
   "metadata": {},
   "source": "[Fix obvious issues with the data given the initial observations.]"
  },
  {
   "cell_type": "code",
   "execution_count": null,
   "metadata": {
    "trusted": false
   },
   "outputs": [],
   "source": "# convert message_date to datetime format\nmessages['message_date'] = pd.to_datetime(messages['message_date'])\n\n# Check for missing values\nprint(messages.isnull().sum())\n\n# Check for duplicate messages\nprint(f\"Duplicate rows: {messages.duplicated().sum()}\")\n\n# Display updated sample\nprint(messages.head())"
  },
  {
   "cell_type": "markdown",
   "metadata": {},
   "source": "### Enrich data"
  },
  {
   "cell_type": "markdown",
   "metadata": {},
   "source": "[Add additional factors to the data if you believe they might be useful.]"
  },
  {
   "cell_type": "code",
   "execution_count": null,
   "metadata": {
    "trusted": false
   },
   "outputs": [],
   "source": "#  Additional factors to enhance the the data would be:\n\n# Ensure message_date is in datetime format\nmessages['message_date'] = pd.to_datetime(messages['message_date'])\n\n# Weekday vs. Weekend Messaging, some users may send more messages on weekdays versus weekends.\nmessages['day_of_week'] = messages['message_date'].dt.day_name()\nmessages['is_weekend'] = messages['day_of_week'].isin(['Saturday', 'Sunday'])\n\n# Monthly Message Count per User,helps analyze user engagement trends over time. \nmessages['year_month'] = messages['message_date'].dt.to_period('M')\nmonthly_messages = messages.groupby(['user_id', 'year_month']).size().reset_index(name='message_count')\n\n# Ensure session_date is in datetime format\ninternet['session_date'] = pd.to_datetime(internet['session_date'])\n\n# Total Data Usage per User per Month\ninternet['year_month'] = internet['session_date'].dt.to_period('M')\nmonthly_data_usage = internet.groupby(['user_id', 'year_month'])['mb_used'].sum().reset_index(name='total_mb_used')\n\n# convert mb to gb and round up at the end of month\ninternet['gb_used'] = np.ceil(internet['mb_used'] / 1024)\n\nprint(messages.info())\n"
  },
  {
   "cell_type": "markdown",
   "metadata": {},
   "source": "<div style=\"background-color:lightblue; color:darkblue\">\n\nI converted megabytes to gigabytes and rounded up by using np.ceil() method.</div>\n"
  },
  {
   "cell_type": "markdown",
   "metadata": {},
   "source": "## Internet"
  },
  {
   "cell_type": "code",
   "execution_count": null,
   "metadata": {
    "scrolled": true,
    "trusted": false
   },
   "outputs": [],
   "source": "# Print the general/summary information about the internet DataFrame\nprint(internet.describe())\n"
  },
  {
   "cell_type": "code",
   "execution_count": null,
   "metadata": {
    "trusted": false
   },
   "outputs": [],
   "source": "# Print a sample of data for the internet traffic\n\nprint(internet.head())"
  },
  {
   "cell_type": "markdown",
   "metadata": {},
   "source": "[Describe what you see and notice in the general information and the printed data sample for the above price of data. Are there any issues (inappropriate data types, missing data etc) that may need further investigation and changes? How that can be fixed?]"
  },
  {
   "cell_type": "markdown",
   "metadata": {},
   "source": " Based on observation:\nid: Appears to be a unique identifier for each internet usage session.\nuser_id: Identifies the user associated with the internet session.\nsession_date: Represents the date of the internet session but is stored as a string (object). It should be converted to a datetime format for proper time-based analysis.\nmb_used: Indicates the amount of data used in megabytes.\nyear_month: Represents the year and month, seemingly extracted from session_date. \ngb_used: The same data as mb_used but converted to gigabytes (MB/1024).\n\npossible issues\nIncorrect Data Type for session_date, needs to be converted to datetime format\nRedundant year_month Column, since year_month is derived from session_date it can be extracted\nMissing values, check for missing values\n"
  },
  {
   "cell_type": "markdown",
   "metadata": {},
   "source": "### Fix data"
  },
  {
   "cell_type": "markdown",
   "metadata": {},
   "source": "[Fix obvious issues with the data given the initial observations.]"
  },
  {
   "cell_type": "code",
   "execution_count": null,
   "metadata": {
    "trusted": false
   },
   "outputs": [],
   "source": "# If year_month is redundant, remove it and re-calculate\ninternet = internet.drop(columns=['year_month'], errors='ignore')\n\n# Convert session_date to datetime format\ninternet['session_date'] = pd.to_datetime(internet['session_date'])\n\n# Check for missing values\nmissing_values = internet.isnull().sum()\nprint(\"Missing Values:\\n\", missing_values)\n\n# Print sample data to confirm changes\nprint(internet.head())"
  },
  {
   "cell_type": "markdown",
   "metadata": {},
   "source": "### Enrich data"
  },
  {
   "cell_type": "markdown",
   "metadata": {},
   "source": "[Add additional factors to the data if you believe they might be useful.]"
  },
  {
   "cell_type": "code",
   "execution_count": null,
   "metadata": {
    "trusted": false
   },
   "outputs": [],
   "source": "# Additional factors to enhance data\n\n# Extract day of the week from session_date\ninternet['day_of_week'] = internet['session_date'].dt.day_name()\n\n# Flag for weekends (Saturday and Sunday)\ninternet['is_weekend'] = internet['day_of_week'].isin(['Saturday', 'Sunday'])\n\n# Flag sessions where data usage is zero\ninternet['is_zero_usage'] = internet['mb_used'] == 0\n\nprint(internet.head())\n"
  },
  {
   "cell_type": "markdown",
   "metadata": {},
   "source": "## Study plan conditions"
  },
  {
   "cell_type": "markdown",
   "metadata": {},
   "source": "[It is critical to understand how the plans work, how users are charged based on their plan subscription. So, we suggest printing out the plan information to view their conditions once again.]"
  },
  {
   "cell_type": "code",
   "execution_count": null,
   "metadata": {
    "trusted": false
   },
   "outputs": [],
   "source": "# Print out the plan conditions and make sure they are clear for you\n\nprint(plans)"
  },
  {
   "cell_type": "markdown",
   "metadata": {},
   "source": "## Aggregate data per user\n\n[Now, as the data is clean, aggregate data per user per period in order to have just one record per user per period. It should ease the further analysis a lot.]"
  },
  {
   "cell_type": "code",
   "execution_count": null,
   "metadata": {
    "trusted": false
   },
   "outputs": [],
   "source": "# Calculate the number of calls made by each user per month. Save the result.\n# Convert session_date and message_date to datetime for proper aggregation\ncalls['call_date'] = pd.to_datetime(calls['call_date'])\nmessages['message_date'] = pd.to_datetime(messages['message_date'])\ninternet['session_date'] = pd.to_datetime(internet['session_date'])\n\n# Aggregate the number of calls per user per month\ncalls['year_month'] = calls['call_date'].dt.to_period('M')\ncalls_per_user = calls.groupby(['user_id', 'year_month']).size().reset_index(name='calls_count')\n\nprint(\"Calls Per User Per Month:\\n\", calls_per_user)"
  },
  {
   "cell_type": "code",
   "execution_count": null,
   "metadata": {
    "trusted": false
   },
   "outputs": [],
   "source": "# Calculate the amount of minutes spent by each user per month. Save the result.\n# the total duration(minutes) of calls per user per month\n\ncall_duration_per_user = calls.groupby(['user_id', 'year_month'])['duration'].sum().reset_index(name='total_call_duration')\nprint(\"\\nCall Duration Per User Per Month:\\n\", call_duration_per_user)\n"
  },
  {
   "cell_type": "code",
   "execution_count": null,
   "metadata": {
    "trusted": false
   },
   "outputs": [],
   "source": "# Calculate the number of messages sent by each user per month. Save the result.\n\n# Aggregate the number of messages sent per user per month\nmessages['year_month'] = messages['message_date'].dt.to_period('M')\nmessages_per_user = messages.groupby(['user_id', 'year_month']).size().reset_index(name='messages_count')\nprint(\"\\nMessages Per User Per Month:\\n\", messages_per_user)"
  },
  {
   "cell_type": "code",
   "execution_count": null,
   "metadata": {
    "trusted": false
   },
   "outputs": [],
   "source": "# Calculate the volume of internet traffic used by each user per month. Save the result.\n\n# Aggregate the total internet traffic used per user per month\ninternet['year_month'] = internet['session_date'].dt.to_period('M')\ninternet_traffic_per_user = internet.groupby(['user_id', 'year_month'])['mb_used'].sum().reset_index(name='total_mb_used')\n\n# Convert the total internet traffic from MB to GB for ease of analysis\ninternet_traffic_per_user['total_gb_used'] = internet_traffic_per_user['total_mb_used'] / 1024\n\nprint(\"\\nInternet Traffic Per User Per Month:\\n\", internet_traffic_per_user)"
  },
  {
   "cell_type": "markdown",
   "metadata": {},
   "source": "[Put the aggregate data together into one DataFrame so that one record in it would represent what an unique user consumed in a given month.]"
  },
  {
   "cell_type": "code",
   "execution_count": null,
   "metadata": {
    "trusted": false
   },
   "outputs": [],
   "source": "# Merge the data for calls, minutes, messages, internet based on user_id and month\n\naggregated_data = calls_per_user.merge(call_duration_per_user, on=['user_id', 'year_month'], how='left')\naggregated_data = aggregated_data.merge(messages_per_user, on=['user_id', 'year_month'], how='left')\naggregated_data = aggregated_data.merge(internet_traffic_per_user, on=['user_id', 'year_month'], how='left')\n\n# Fill missing values with appropriate defaults\naggregated_data.fillna({'calls_count': 0, 'total_call_duration': 0, 'messages_count': 0, 'total_mb_used': 0}, inplace=True)\n\n# Merge with users data to include plan and state information\nusers['state'] = users['city'].str.extract(r', (\\w\\w)$')  # Extract state from city\naggregated_data = aggregated_data.merge(users[['user_id', 'plan', 'state']], on='user_id', how='left')\n\n# Fill any remaining missing values\naggregated_data['plan'].fillna('Unknown', inplace=True)\naggregated_data['state'].fillna('Unknown', inplace=True)\n\n# Print the final dataset\nprint(aggregated_data.head())"
  },
  {
   "cell_type": "code",
   "execution_count": null,
   "metadata": {
    "scrolled": true,
    "trusted": false
   },
   "outputs": [],
   "source": "# Add the plan information\n\naggregated_data = aggregated_data.merge(users[['user_id', 'plan']], on='user_id', how='left')\n\n# If there are duplicate 'plan' columns, merge them into one\naggregated_data['plan'] = aggregated_data[['plan_x', 'plan_y']].bfill(axis=1).iloc[:, 0]\n\n# Drop the extra columns\naggregated_data = aggregated_data.drop(columns=['plan_x', 'plan_y'], errors='ignore')\n\n\nprint(aggregated_data)"
  },
  {
   "cell_type": "markdown",
   "metadata": {},
   "source": "[Calculate the monthly revenue from each user (subtract the free package limit from the total number of calls, text messages, and data; multiply the result by the calling plan value; add the monthly charge depending on the calling plan). N.B. This might not be as trivial as just a couple of lines given the plan conditions! So, it's okay to spend some time on it.]"
  },
  {
   "cell_type": "code",
   "execution_count": null,
   "metadata": {
    "trusted": false
   },
   "outputs": [],
   "source": "# Calculate the monthly revenue for each user\n\n# Define the plan conditions\nplan_conditions = {\n    'ultimate': {\n        'free_minutes': 1000,\n        'free_messages': 500,\n        'free_data_gb': 10,\n        'monthly_fee': 70,  # Fixed monthly fee\n        'call_rate': 0.10,  # Cost per extra minute\n        'message_rate': 0.05,  # Cost per extra message\n        'data_rate': 10  # Cost per extra GB\n    },\n    'surf': {\n        'free_minutes': 500,\n        'free_messages': 200,\n        'free_data_gb': 5,\n        'monthly_fee': 30,  # Fixed monthly fee\n        'call_rate': 0.15,  # Cost per extra minute\n        'message_rate': 0.10,  # Cost per extra message\n        'data_rate': 15  # Cost per extra GB\n    }\n}\n\n\n# Function to calculate the revenue for a given row (user per month)# Function to calculate the revenue for a given row (user per month)\ndef calculate_revenue(row):\n    plan = str(row['plan']).lower().strip()  # Normalize the plan name\n    \n    if plan not in plan_conditions:\n        print(f\"Warning: Unknown plan '{plan}' for user {row['user_id']}\")  # Debugging output\n        return 0  # If no valid plan is found, return 0 revenue\n    \n    plan_data = plan_conditions[plan]  # Get plan details\n    \n    # Get actual usage, defaulting to 0 if the column is missing\n    used_minutes = row.get('total_call_duration', 0)\n    used_messages = row.get('messages_count', 0)\n    used_data_gb = row.get('total_mb_used', 0) / 1024  # Convert MB to GB\n\n    # Calculate overages (extra usage beyond the free limit)\n    extra_minutes = max(0, used_minutes - plan_data['free_minutes'])\n    extra_messages = max(0, used_messages - plan_data['free_messages'])\n    extra_data = max(0, used_data_gb - plan_data['free_data_gb'])\n\n    # Compute extra costs\n    extra_call_cost = extra_minutes * plan_data['call_rate']\n    extra_message_cost = extra_messages * plan_data['message_rate']\n    extra_data_cost = extra_data * plan_data['data_rate']\n\n    # Total revenue: Fixed monthly fee + extra charges\n    total_revenue = plan_data['monthly_fee'] + extra_call_cost + extra_message_cost + extra_data_cost\n    return round(total_revenue, 2)  # Round for better readability\n\n# Apply the revenue calculation function\naggregated_data['monthly_revenue'] = aggregated_data.apply(calculate_revenue, axis=1)\n    \nprint(aggregated_data[['user_id', 'year_month', 'plan', 'monthly_revenue']].head())\n"
  },
  {
   "cell_type": "markdown",
   "metadata": {},
   "source": "## Study user behaviour"
  },
  {
   "cell_type": "markdown",
   "metadata": {},
   "source": "### Calls"
  },
  {
   "cell_type": "code",
   "execution_count": null,
   "metadata": {
    "scrolled": true,
    "trusted": false
   },
   "outputs": [],
   "source": "# Compare average duration of calls per each plan per each distinct month. Plot a bar plat to visualize it.\n# Calculate average call duration per plan per month\navg_call_duration = aggregated_data.groupby(['year_month', 'plan'])['total_call_duration'].mean().reset_index()\n\n# Rename column for clarity\navg_call_duration.rename(columns={'total_call_duration': 'avg_call_duration'}, inplace=True)\n\n# Display the first few rows\nprint(avg_call_duration.head())\n\n"
  },
  {
   "cell_type": "code",
   "execution_count": null,
   "metadata": {
    "trusted": false
   },
   "outputs": [],
   "source": "import seaborn as sns\nplt.figure(figsize=(12, 6))\nsns.barplot(data=avg_call_duration, x='year_month', y='avg_call_duration', hue='plan', palette='coolwarm')\n\n# Beautify the plot\nplt.title('Average Call Duration Per Plan Per Month')\nplt.xlabel('Month')\nplt.ylabel('Average Call Duration (minutes)')\nplt.xticks(rotation=45)  # Rotate month labels for better readability\nplt.legend(title='Plan')\nplt.grid(axis='y', linestyle='--', alpha=0.7)\n\n# Show the plot\nplt.show()"
  },
  {
   "cell_type": "code",
   "execution_count": null,
   "metadata": {
    "trusted": false
   },
   "outputs": [],
   "source": "\n# Compare the number of minutes users of each plan require each month. Plot a histogram.\n\n# Group the data by 'plan' and 'year_month' and calculate the total call duration per user\nmonthly_call_duration = aggregated_data.groupby(['plan', 'year_month'])['total_call_duration'].sum().reset_index()\n\n# Set the plot size\nplt.figure(figsize=(12, 6))\n\n# Plot histogram for each plan's total call duration per month\nfor plan in monthly_call_duration['plan'].unique():\n    plan_data = monthly_call_duration[monthly_call_duration['plan'] == plan]\n    plt.hist(plan_data['total_call_duration'], bins=20, alpha=0.6, label=plan)\n\n# Customize the plot\nplt.title('Histogram of Total Call Duration per Plan per Month')\nplt.xlabel('Total Call Duration (Minutes)')\nplt.ylabel('Frequency')\nplt.legend(title='Plan')\n\n# Show the plot\nplt.tight_layout()\nplt.show()\n\n\n"
  },
  {
   "cell_type": "markdown",
   "metadata": {},
   "source": "[Calculate the mean and the variable of the call duration to reason on whether users on the different plans have different behaviours for their calls.]"
  },
  {
   "cell_type": "code",
   "execution_count": null,
   "metadata": {
    "trusted": false
   },
   "outputs": [],
   "source": "# Calculate the mean and the variance of the monthly call duration\n\n# Group the data by 'plan' and 'year_month' and calculate the total call duration per user\nmonthly_call_duration = aggregated_data.groupby(['plan', 'year_month'])['total_call_duration'].sum().reset_index()\n\n# Calculate the mean and variance of the total call duration for each plan per month\ncall_stats = monthly_call_duration.groupby('plan')['total_call_duration'].agg(['mean', 'var']).reset_index()\n\n# Print the results\nprint(call_stats)"
  },
  {
   "cell_type": "code",
   "execution_count": null,
   "metadata": {
    "trusted": false
   },
   "outputs": [],
   "source": "# Plot a boxplot to visualize the distribution of the monthly call duration\n# Prepare data for plotting\nplans = aggregated_data['plan'].unique()\nplan_data = [aggregated_data[aggregated_data['plan'] == plan]['total_call_duration'] for plan in plans]\n\n# Create a boxplot to visualize the distribution of the monthly call duration per plan\nplt.figure(figsize=(12, 6))\nplt.boxplot(plan_data, labels=plans)\n\n# Customize the plot\nplt.title('Distribution of Monthly Call Duration per Plan')\nplt.xlabel('Plan')\nplt.ylabel('Total Call Duration (minutes)')\n\n# Display the plot\nplt.show()\n\n"
  },
  {
   "cell_type": "markdown",
   "metadata": {},
   "source": "[Formulate conclusions on how the users behave in terms of calling. Is their behaviour different between the plans?]"
  },
  {
   "cell_type": "markdown",
   "metadata": {},
   "source": "Conclusion: \n\n1.Average Call Duration Per Plan Per Month\nUltimate users tend to have shorter call durations on average than Surf users.\nThe bar plot shows that Surf users consistently have higher average call durations per month.\nPossible Explanation: Surf users pay extra per minute after exceeding their limit (500 minutes), so they may strategically reduce the number of calls but increase the length of each call.\n\n2.Total Call Duration Per Plan (Histogram Analysis)\nThe histogram shows that Surf users contribute more total call minutes each month.\nThe distribution for Ultimate users is more compact, meaning they stay within the 1000-minute limit.\nPossible Explanation: Ultimate users may not need to monitor their call usage, as their plan offers a higher free call limit.\n\n3.Mean and Variance of Monthly Call Duration\nPlan\tMean Call Duration\tVariance (Call Duration)\nSurf\t56,202 minutes\tVery High (2.4 billion)\nUltimate\t25,827 minutes\tLower (0.52 billion)\nSurf has a higher mean call duration than Ultimate.\nSurf’s variance is much higher, indicating large differences in user behavior—some users stay within the free minutes, while others exceed limits and pay extra.\nUltimate users are more consistent in their call usage due to their higher limit and lower risk of extra charges.\n\n4.Boxplot Analysis (Call Duration Distribution)\nThe boxplot shows that Surf users have a wider spread, meaning some users make significantly more calls than others.\nUltimate users are more predictable, with fewer outliers and a narrower range of call durations.\n\n5.Business and Profitability Implications\nSurf users tend to exceed their call limits, generating additional revenue from extra minutes.\nUltimate users have a steady, predictable call usage, making them a stable revenue source.\nThe variance in Surf users’ behavior suggests that some are being charged significantly more due to exceeding limits, making Surf potentially more profitable than Ultimate.\n\n"
  },
  {
   "cell_type": "markdown",
   "metadata": {},
   "source": "### Messages"
  },
  {
   "cell_type": "code",
   "execution_count": null,
   "metadata": {
    "trusted": false
   },
   "outputs": [],
   "source": "# Compare the number of messages users of each plan tend to send each month\n\n# Step 1: Create a new 'year_month' column based on message_date\nmessages['year_month'] = messages['message_date'].dt.to_period('M')\n\n# Step 2: Group by 'user_id' and 'year_month', then count the messages for each user per month\nmonthly_messages = messages.groupby(['user_id', 'year_month']).size().reset_index(name='total_messages_sent')\n\n# Step 3: Merge with the aggregated data to include the plan information\nmonthly_messages_with_plan = pd.merge(monthly_messages, aggregated_data[['user_id', 'plan']], on='user_id', how='left')\n\n# Step 4: Group by 'plan' and 'year_month' to get the total number of messages sent per plan\nmonthly_messages_per_plan = monthly_messages_with_plan.groupby(['plan', 'year_month'])['total_messages_sent'].sum().reset_index()\n\n# Step 5: Set the plot size for better readability\nplt.figure(figsize=(12, 6))\n\n# Step 6: Plot a histogram for each plan's total number of messages sent per month\nfor plan in monthly_messages_per_plan['plan'].unique():\n    plan_data = monthly_messages_per_plan[monthly_messages_per_plan['plan'] == plan]\n    plt.hist(plan_data['total_messages_sent'], bins=20, alpha=0.6, label=plan)\n\n# Step 7: Customize the plot\nplt.title('Histogram of Total Messages Sent per Plan per Month')\nplt.xlabel('Total Messages Sent')\nplt.ylabel('Frequency')\nplt.legend(title='Plan')\n\n# Step 8: Show the plot\nplt.tight_layout()\nplt.show()\n"
  },
  {
   "cell_type": "code",
   "execution_count": null,
   "metadata": {
    "trusted": false
   },
   "outputs": [],
   "source": "# Compare the amount of internet traffic consumed by users per plan\n\n# Step 1: Create a new 'year_month' column from 'session_date'\ninternet['year_month'] = internet['session_date'].dt.to_period('M')\n\n# Step 2: Group by 'user_id' and 'year_month' and sum total internet usage per user per month\nmonthly_internet_usage = internet.groupby(['user_id', 'year_month'])['mb_used'].sum().reset_index()\n\n# Step 3: Merge with the aggregated data to get the plan information\nmonthly_internet_with_plan = pd.merge(monthly_internet_usage, aggregated_data[['user_id', 'plan']], on='user_id', how='left')\n\n# Step 4: Group by 'plan' and 'year_month' to get total internet usage per plan per month\nmonthly_internet_per_plan = monthly_internet_with_plan.groupby(['plan', 'year_month'])['mb_used'].sum().reset_index()\n\n# Step 5: Set plot size\nplt.figure(figsize=(12, 6))\n\n# Step 6: Plot histogram for each plan's internet usage per month\nfor plan in monthly_internet_per_plan['plan'].unique():\n    plan_data = monthly_internet_per_plan[monthly_internet_per_plan['plan'] == plan]\n    plt.hist(plan_data['mb_used'], bins=20, alpha=0.6, label=plan)\n\n# Step 7: Customize the plot\nplt.title('Histogram of Internet Usage per Plan per Month')\nplt.xlabel('Total Internet Usage (MB)')\nplt.ylabel('Frequency')\nplt.legend(title='Plan')\n\n# Step 8: Show the plot\nplt.tight_layout()\nplt.show()"
  },
  {
   "cell_type": "markdown",
   "metadata": {},
   "source": "Messages Conclusion:\nBoth \"surf\" and \"ultimate\" users have a notable concentration of low message usage (near the lower end of the x-axis).\nHowever, \"surf\" users have a wider spread of message usage, with some users sending a significantly higher number of messages.The \"ultimate\" plan users appear to be more consistent in their message usage, as their distribution is more evenly spread and does not extend as far as the \"surf\" plan. The \"surf\" plan users exhibit a broader range, with some sending extremely high numbers of messages."
  },
  {
   "cell_type": "markdown",
   "metadata": {},
   "source": "[Formulate conclusions on how the users behave in terms of messaging. Is their behaviour different between the plans?]"
  },
  {
   "cell_type": "markdown",
   "metadata": {},
   "source": " "
  },
  {
   "cell_type": "markdown",
   "metadata": {},
   "source": "### Internet"
  },
  {
   "cell_type": "markdown",
   "metadata": {},
   "source": "Different Consumption Patterns Conclusion:\n\nUsers on the Surf plan tend to have higher variability in internet usage, with some consuming significantly more data.\nUsers on the Ultimate plan show a more consistent distribution of internet usage, suggesting that they may have fewer restrictions or are more comfortable using data freely.The Surf plan has users who reach very high internet usage, potentially due to exceeding their data limits and paying extra fees. \n\n\n"
  },
  {
   "cell_type": "markdown",
   "metadata": {},
   "source": "Higher Internet Usage on Surf Plan Conclusion:\n\nThe Surf plan has users who reach very high internet usage, potentially due to exceeding their data limits and paying extra fees.\nThe Ultimate plan, which may offer more generous data allowances, results in a more even usage distribution with minimum extreme peaks."
  },
  {
   "cell_type": "markdown",
   "metadata": {},
   "source": "User Behavior Differences Conclusion:\n\nSurf plan users may be more cautious about exceeding their limit, leading to fluctuations in usage patterns.\nUltimate plan users may have an unlimited or high data cap, encouraging consistent and possibly heavier usage."
  },
  {
   "cell_type": "markdown",
   "metadata": {},
   "source": "[Formulate conclusions on how the users tend to consume the internet traffic? Is their behaviour different between the plans?]"
  },
  {
   "cell_type": "markdown",
   "metadata": {},
   "source": " "
  },
  {
   "cell_type": "markdown",
   "metadata": {},
   "source": "## Revenue"
  },
  {
   "cell_type": "markdown",
   "metadata": {},
   "source": "[Likewise you have studied the user behaviour, statistically describe the revenue between the plans.]"
  },
  {
   "cell_type": "code",
   "execution_count": null,
   "metadata": {
    "trusted": false
   },
   "outputs": [],
   "source": "# Step 1: Calculate mean and variance of revenue per plan\nrevenue_stats = aggregated_data.groupby('plan')['monthly_revenue'].agg(['mean', 'var', 'std']).reset_index()\nprint(revenue_stats)\n\n# Step 2: Boxplot to visualize revenue distribution per plan\nplt.figure(figsize=(10, 6))\nplans = aggregated_data['plan'].unique()\nplan_data = [aggregated_data[aggregated_data['plan'] == plan]['monthly_revenue'] for plan in plans]\nplt.boxplot(plan_data, labels=plans)\n\nplt.title('Revenue Distribution per Plan')\nplt.xlabel('Plan')\nplt.ylabel('Revenue')\nplt.grid(True)\nplt.show()\n\n# Step 3: Histogram to visualize revenue distribution\nplt.figure(figsize=(10, 6))\nfor plan in aggregated_data['plan'].unique():\n    plan_data = aggregated_data[aggregated_data['plan'] == plan]['monthly_revenue']\n    plt.hist(plan_data, bins=20, alpha=0.6, label=plan)\n\nplt.title('Histogram of Revenue per Plan')\nplt.xlabel('Revenue')\nplt.ylabel('Frequency')\nplt.legend(title='Plan')\nplt.grid(True)\nplt.show()"
  },
  {
   "cell_type": "markdown",
   "metadata": {},
   "source": "Mean Revenue:\n\nThe Ultimate plan has a slightly higher average revenue ($75.47$) compared to the Surf plan ($73.49$).\nThis suggests that, on average, users on the Ultimate plan generate slightly more revenue than those on the Surf plan."
  },
  {
   "cell_type": "markdown",
   "metadata": {},
   "source": "Variance & Standard Deviation:\n\nThe Surf plan has a higher variance (1011.33) and higher standard deviation (31.80) than the Ultimate plan (variance: 187.86, standard deviation: 13.71).\nThis indicates that revenue in the Surf plan is more spread out and varies significantly between users. Some users may be paying much more than others due to additional charges or exceeding their plan limits.\nIn contrast, revenue for Ultimate users is more consistent, as seen from the lower variance and standard deviation.\n"
  },
  {
   "cell_type": "markdown",
   "metadata": {},
   "source": "[Formulate conclusions about how the revenue differs between the plans.]"
  },
  {
   "cell_type": "markdown",
   "metadata": {},
   "source": " Conclusions on Revenue Differences Between Surf & Ultimate Plans\nAfter analyzing the monthly revenue per plan, we identified key differences between the Surf and Ultimate plans in terms of average revenue, variability, and user behavior.\nSurf users generate higher average revenue than Ultimate users.\nThis suggests that many Surf users exceed their free limits, paying extra for additional calls, messages, or data.\nUltimate users pay a steady flat fee ($70/month) and rarely exceed their limits, resulting in less additional revenue per user.\n"
  },
  {
   "cell_type": "markdown",
   "metadata": {},
   "source": "## Test statistical hypotheses"
  },
  {
   "cell_type": "markdown",
   "metadata": {},
   "source": "[Test the hypothesis that the average revenue from users of the Ultimate and Surf calling plans differs.]"
  },
  {
   "cell_type": "markdown",
   "metadata": {},
   "source": "[Formulate the null and the alternative hypotheses, choose the statistical test, decide on the alpha value.]"
  },
  {
   "cell_type": "markdown",
   "metadata": {},
   "source": "<div style=\"background-color:lightblue; color:darkblue\">\nThe wording of Ho and H1 has been add to this section</div>"
  },
  {
   "cell_type": "code",
   "execution_count": null,
   "metadata": {
    "trusted": false
   },
   "outputs": [],
   "source": "# *Formulating the Hypotheses*\n# H₀ (Null Hypothesis): There is no significant difference in average revenue between the two plans.\n# H₁ (Alternative Hypothesis): The average revenue differs significantly between the two plans.\n\n\n\n# Test the hypotheses\n\nimport scipy.stats as stats\n\n# Extract revenue data for each plan\nsurf_revenue = aggregated_data[aggregated_data['plan'] == 'surf']['monthly_revenue']\nultimate_revenue = aggregated_data[aggregated_data['plan'] == 'ultimate']['monthly_revenue']\n\n# Perform an independent t-test\nt_stat, p_value = stats.ttest_ind(surf_revenue, ultimate_revenue, equal_var=False)\n\n# Print results\nprint(f\"t-statistic: {t_stat:.3f}\")\nprint(f\"p-value: {p_value:.3f}\")\n\n# Conclusion based on alpha = 0.05\nalpha = 0.05\nif p_value < alpha:\n    print(\"Reject the null hypothesis: The average revenue differs significantly between the two plans.\")\nelse:\n    print(\"Fail to reject the null hypothesis: No significant difference in average revenue between the two plans.\")"
  },
  {
   "cell_type": "markdown",
   "metadata": {},
   "source": "[Test the hypothesis that the average revenue from users in the NY-NJ area is different from that of the users from the other regions.]"
  },
  {
   "cell_type": "markdown",
   "metadata": {},
   "source": "[Formulate the null and the alternative hypotheses, choose the statistical test, decide on the alpha value.]"
  },
  {
   "cell_type": "code",
   "execution_count": null,
   "metadata": {
    "trusted": false
   },
   "outputs": [],
   "source": "# Test the hypotheses\n\n#from scipy import stats\n\n# Define NY-NJ area users\nny_nj_users = aggregated_data[aggregated_data['state'].isin(['NY', 'NJ'])]\n\n# Define users from other regions\nother_region_users = aggregated_data[~aggregated_data['state'].isin(['NY', 'NJ'])]\n\n# Extract revenue data\nny_nj_revenue = ny_nj_users['monthly_revenue']\nother_region_revenue = other_region_users['monthly_revenue']\n\n# Perform an independent t-test\nt_stat, p_value = stats.ttest_ind(ny_nj_revenue, other_region_revenue, equal_var=False)\n\n# Print results\nprint(f\"t-statistic: {t_stat:.3f}\")\nprint(f\"p-value: {p_value:.3f}\")\n\n# Conclusion based on alpha = 0.05\nalpha = 0.05\nif p_value < alpha:\n    print(\"Reject the null hypothesis: The average revenue differs significantly between NY-NJ users and other regions.\")\nelse:\n    print(\"Fail to reject the null hypothesis: No significant difference in average revenue between NY-NJ users and other regions.\")"
  },
  {
   "cell_type": "markdown",
   "metadata": {},
   "source": "## General conclusion\n\n[List your important conclusions in this final section, make sure they cover all those important decisions (assumptions) that you've made and that led you to the way you processed and analyzed the data.]"
  },
  {
   "cell_type": "markdown",
   "metadata": {},
   "source": " "
  },
  {
   "cell_type": "markdown",
   "metadata": {},
   "source": "Final Conclusions & Business Insights\nIn this analysis, we examined user behavior across calls, messages, internet usage, and revenue generation, comparing the Surf and Ultimate plans. Below are the key takeaways:\n\n1 Data Processing & Assumptions\nA. Data Cleaning & Preparation\nConverted date columns (session_date, reg_date, churn_date) to datetime format for accurate analysis.\nExtracted 'state' from 'city' to analyze geographic trends in revenue.\nRemoved unnecessary columns (e.g., \"MSA\" in city names).\nEnsured that missing values were properly handled (e.g., replacing \"Not Churned\" with NaN).\nMerged all datasets to create a monthly summary per user, including calls, messages, internet usage, and revenue.\n\n2.User Behavior by Plan\nA. Calls Usage\nSurf users have a higher average call duration than Ultimate users, likely due to Surf users managing their 500-minute limit more carefully.\nUltimate users talk more consistently but for shorter durations, benefiting from the 1,000-minute limit.\nSurf users show higher variance, with some exceeding limits and paying extra.\nSurf plan is likely generating extra revenue from additional call charges, making it potentially more profitable.\n\nB.Messaging Patterns\nUltimate users send more messages on average than Surf users, aligning with their higher free message limit (500 vs. 200).  Surf users exceed their limits more often, resulting in additional charges per message.\nThe histogram shows wide variability in messaging behavior, indicating that some Surf users send very few messages while others send a lot.\n\nC.Internet Consumption\nUltimate users consume significantly more data, suggesting that data is a key selling point for this plan.\nSurf users frequently exceed their 5GB limit, leading to extra charges per GB.\nTrend analysis shows steady growth in data usage over time, indicating that users are becoming more data-dependent.\nPossible Upsell Opportunity: The company could introduce higher data add-ons for Surf users who frequently exceed their data cap.\n\n3.Revenue Analysis & Profitability\nSurf users have more unpredictable revenue due to additional charges on calls, messages, and data.\nUltimate users provide stable, predictable revenue with a higher base price ($70/month vs. $30/month for Surf).\nHypothesis testing confirmed that revenue differences between the plans are statistically significant, suggesting strategic pricing adjustments may be necessary.\nRevenue Distribution Observations:\n\nSurf users who exceed limits generate extra revenue.\nUltimate users contribute to consistent, stable revenue without significant overage charges.\nIf the company prioritizes stable income, Ultimate is better; if the goal is maximizing extra charges, Surf may be more profitable.\n4.Final Business Recommendations\nIncrease pricing or offer tiered data add-ons for Surf users, as they frequently exceed limits.\nPromote the Ultimate plan to high-data and high-call users, ensuring customer retention with predictable pricing.\nIntroduce a mid-tier plan between Surf and Ultimate to capture users who regularly exceed Surf limits but don't need everything Ultimate offers.\nContinue monitoring data usage trends, as the increasing reliance on mobile data suggests a future need for higher data allowances in all plans.\n\nFinal Thought:\nThis analysis highlights how user behavior varies between plans and how different pricing structures impact revenue. By refining pricing models and targeted upsell strategies, the company can maximize profitability while maintaining user satisfaction."
  },
  {
   "cell_type": "markdown",
   "metadata": {},
   "source": "<div style=\"background-color:lightblue; color:darkblue\">\n\n Thank you for your feedback! I look forward to learning more!</div>"
  }
 ],
 "metadata": {
  "ExecuteTimeLog": [
   {
    "duration": 828,
    "start_time": "2021-11-16T09:21:11.304Z"
   },
   {
    "duration": 893,
    "start_time": "2021-11-16T09:21:17.728Z"
   },
   {
    "duration": 1150,
    "start_time": "2021-11-16T09:21:29.568Z"
   },
   {
    "duration": 3,
    "start_time": "2021-11-16T09:24:14.495Z"
   },
   {
    "duration": 120,
    "start_time": "2021-11-16T09:24:46.630Z"
   },
   {
    "duration": 3,
    "start_time": "2021-11-16T09:28:27.882Z"
   },
   {
    "duration": 4,
    "start_time": "2021-11-16T09:29:54.281Z"
   },
   {
    "duration": 3,
    "start_time": "2021-11-16T09:30:45.936Z"
   },
   {
    "duration": 4,
    "start_time": "2021-11-16T09:31:06.300Z"
   },
   {
    "duration": 113,
    "start_time": "2021-11-16T09:31:37.208Z"
   },
   {
    "duration": 143,
    "start_time": "2021-11-16T09:31:48.656Z"
   },
   {
    "duration": 98,
    "start_time": "2021-11-16T09:31:55.678Z"
   },
   {
    "duration": 3,
    "start_time": "2021-11-16T09:32:08.535Z"
   },
   {
    "duration": 111,
    "start_time": "2021-11-16T09:32:10.120Z"
   },
   {
    "duration": 3,
    "start_time": "2021-11-16T09:32:15.732Z"
   },
   {
    "duration": 4,
    "start_time": "2021-11-16T09:32:29.423Z"
   },
   {
    "duration": 3,
    "start_time": "2021-11-16T10:03:03.074Z"
   },
   {
    "duration": 3,
    "start_time": "2021-11-16T10:10:01.288Z"
   },
   {
    "duration": 3,
    "start_time": "2021-11-16T10:10:46.923Z"
   },
   {
    "duration": 121,
    "start_time": "2021-11-16T10:37:46.494Z"
   },
   {
    "duration": 125,
    "start_time": "2021-11-16T10:38:20.632Z"
   },
   {
    "duration": 112,
    "start_time": "2021-11-16T10:46:53.001Z"
   },
   {
    "duration": 110,
    "start_time": "2021-11-16T10:48:25.775Z"
   },
   {
    "duration": 3,
    "start_time": "2021-11-16T10:50:18.720Z"
   },
   {
    "duration": 4,
    "start_time": "2021-11-16T10:50:37.649Z"
   },
   {
    "duration": 2,
    "start_time": "2021-11-16T10:50:51.884Z"
   },
   {
    "duration": 3,
    "start_time": "2021-11-16T10:51:56.237Z"
   },
   {
    "duration": 101,
    "start_time": "2021-11-16T10:53:13.791Z"
   },
   {
    "duration": 3,
    "start_time": "2021-11-16T10:55:59.186Z"
   },
   {
    "duration": 3,
    "start_time": "2021-11-16T10:56:10.751Z"
   },
   {
    "duration": 3,
    "start_time": "2021-11-16T10:56:49.038Z"
   },
   {
    "duration": 3,
    "start_time": "2021-11-16T10:56:49.174Z"
   },
   {
    "duration": 4,
    "start_time": "2021-11-16T10:56:49.414Z"
   },
   {
    "duration": 3,
    "start_time": "2021-11-16T10:56:49.680Z"
   },
   {
    "duration": 3,
    "start_time": "2021-11-16T10:56:50.370Z"
   },
   {
    "duration": 114,
    "start_time": "2021-11-16T10:59:34.518Z"
   },
   {
    "duration": 3,
    "start_time": "2021-11-16T11:01:41.201Z"
   },
   {
    "duration": 116,
    "start_time": "2021-11-16T11:01:48.754Z"
   },
   {
    "duration": 3,
    "start_time": "2021-11-16T11:02:16.685Z"
   },
   {
    "duration": 3,
    "start_time": "2021-11-16T11:02:19.479Z"
   },
   {
    "duration": 3,
    "start_time": "2021-11-16T11:02:47.067Z"
   },
   {
    "duration": 3,
    "start_time": "2021-11-16T11:02:49.353Z"
   },
   {
    "duration": 3,
    "start_time": "2021-11-16T11:03:07.835Z"
   },
   {
    "duration": 3,
    "start_time": "2021-11-16T11:03:07.953Z"
   },
   {
    "duration": 112,
    "start_time": "2021-11-16T11:07:52.072Z"
   },
   {
    "duration": 187,
    "start_time": "2021-11-16T11:09:23.468Z"
   },
   {
    "duration": 4,
    "start_time": "2021-11-16T11:10:01.455Z"
   },
   {
    "duration": 3,
    "start_time": "2021-11-16T11:10:05.069Z"
   },
   {
    "duration": 4,
    "start_time": "2021-11-16T11:10:13.376Z"
   },
   {
    "duration": 3,
    "start_time": "2021-11-16T11:10:14.434Z"
   },
   {
    "duration": 3,
    "start_time": "2021-11-16T11:10:22.853Z"
   },
   {
    "duration": 4,
    "start_time": "2021-11-16T11:27:29.279Z"
   },
   {
    "duration": 4,
    "start_time": "2021-11-16T11:29:08.919Z"
   },
   {
    "duration": 118,
    "start_time": "2021-11-16T11:29:46.703Z"
   },
   {
    "duration": 437,
    "start_time": "2021-11-16T11:36:02.181Z"
   },
   {
    "duration": 157,
    "start_time": "2021-11-16T11:36:14.388Z"
   },
   {
    "duration": 207,
    "start_time": "2021-11-16T11:47:15.898Z"
   },
   {
    "duration": 3,
    "start_time": "2021-11-16T11:53:52.092Z"
   },
   {
    "duration": 3,
    "start_time": "2021-11-16T11:53:52.236Z"
   },
   {
    "duration": 3,
    "start_time": "2021-11-16T11:59:12.005Z"
   },
   {
    "duration": 112,
    "start_time": "2021-11-16T12:00:33.446Z"
   },
   {
    "duration": 3,
    "start_time": "2021-11-16T12:02:14.453Z"
   },
   {
    "duration": 3,
    "start_time": "2021-11-16T12:02:39.512Z"
   },
   {
    "duration": 106,
    "start_time": "2021-11-16T12:03:03.460Z"
   },
   {
    "duration": 3,
    "start_time": "2021-11-17T20:37:21.139Z"
   },
   {
    "duration": 3,
    "start_time": "2021-11-17T20:37:22.229Z"
   },
   {
    "duration": 3,
    "start_time": "2021-11-17T20:38:38.806Z"
   },
   {
    "duration": 3,
    "start_time": "2021-11-17T20:38:41.958Z"
   },
   {
    "duration": 3,
    "start_time": "2021-11-17T20:43:46.551Z"
   },
   {
    "duration": 4,
    "start_time": "2021-11-17T20:58:21.835Z"
   },
   {
    "duration": 3,
    "start_time": "2021-11-17T20:59:21.872Z"
   },
   {
    "duration": 4,
    "start_time": "2021-11-17T20:59:45.352Z"
   },
   {
    "duration": 4,
    "start_time": "2021-11-17T20:59:49.646Z"
   },
   {
    "duration": 159,
    "start_time": "2021-11-17T21:02:26.949Z"
   },
   {
    "duration": 3,
    "start_time": "2021-11-17T21:03:53.461Z"
   },
   {
    "duration": 3,
    "start_time": "2021-11-17T21:03:53.694Z"
   },
   {
    "duration": 3,
    "start_time": "2021-11-17T21:05:28.145Z"
   },
   {
    "duration": 116,
    "start_time": "2021-11-17T21:05:57.787Z"
   },
   {
    "duration": 3,
    "start_time": "2021-11-17T21:06:37.993Z"
   },
   {
    "duration": 3,
    "start_time": "2021-11-17T21:06:38.261Z"
   },
   {
    "duration": 3,
    "start_time": "2021-11-17T21:11:54.358Z"
   },
   {
    "duration": 3,
    "start_time": "2021-11-17T21:12:43.846Z"
   },
   {
    "duration": 4,
    "start_time": "2021-11-17T21:13:08.773Z"
   },
   {
    "duration": 3,
    "start_time": "2021-11-17T21:14:44.441Z"
   },
   {
    "duration": 3,
    "start_time": "2021-11-17T21:15:42.059Z"
   },
   {
    "duration": 4,
    "start_time": "2021-11-17T21:15:51.995Z"
   },
   {
    "duration": 3,
    "start_time": "2021-11-17T21:15:53.923Z"
   },
   {
    "duration": 3,
    "start_time": "2021-11-17T21:15:55.282Z"
   },
   {
    "duration": 3,
    "start_time": "2021-11-17T21:16:28.492Z"
   },
   {
    "duration": 3,
    "start_time": "2021-11-17T21:16:32.603Z"
   },
   {
    "duration": 3,
    "start_time": "2021-11-17T21:17:06.941Z"
   },
   {
    "duration": 98,
    "start_time": "2021-11-17T21:18:05.733Z"
   },
   {
    "duration": 4,
    "start_time": "2021-11-17T21:21:35.255Z"
   },
   {
    "duration": 3,
    "start_time": "2021-11-17T21:21:37.804Z"
   },
   {
    "duration": 4,
    "start_time": "2021-11-17T21:23:06.071Z"
   },
   {
    "duration": 3,
    "start_time": "2021-11-17T21:23:24.799Z"
   },
   {
    "duration": 3,
    "start_time": "2021-11-17T21:23:32.591Z"
   },
   {
    "duration": 98,
    "start_time": "2021-11-17T21:28:31.559Z"
   },
   {
    "duration": 3,
    "start_time": "2021-11-17T21:28:45.448Z"
   },
   {
    "duration": 3,
    "start_time": "2021-11-17T21:29:17.303Z"
   },
   {
    "duration": 3,
    "start_time": "2021-11-17T21:29:29.617Z"
   },
   {
    "duration": 3,
    "start_time": "2021-11-17T21:29:32.681Z"
   },
   {
    "duration": 3,
    "start_time": "2021-11-17T21:36:11.474Z"
   },
   {
    "duration": 3,
    "start_time": "2021-11-17T21:36:14.791Z"
   },
   {
    "duration": 3,
    "start_time": "2021-11-17T21:36:53.943Z"
   },
   {
    "duration": 3,
    "start_time": "2021-11-17T21:36:56.165Z"
   },
   {
    "duration": 4,
    "start_time": "2021-11-17T21:37:16.590Z"
   },
   {
    "duration": 3,
    "start_time": "2021-11-17T21:37:22.702Z"
   },
   {
    "duration": 4,
    "start_time": "2021-11-17T21:38:03.479Z"
   },
   {
    "duration": 3,
    "start_time": "2021-11-17T21:38:08.601Z"
   },
   {
    "duration": 3,
    "start_time": "2021-11-17T21:38:12.928Z"
   },
   {
    "duration": 3,
    "start_time": "2021-11-17T21:38:48.896Z"
   },
   {
    "duration": 2,
    "start_time": "2021-11-17T21:38:49.171Z"
   },
   {
    "duration": 4,
    "start_time": "2021-11-17T21:39:57.889Z"
   },
   {
    "duration": 3,
    "start_time": "2021-11-17T21:39:58.057Z"
   },
   {
    "duration": 3,
    "start_time": "2021-11-17T21:41:20.108Z"
   },
   {
    "duration": 3,
    "start_time": "2021-11-17T21:41:20.629Z"
   },
   {
    "duration": 3,
    "start_time": "2021-11-17T21:42:49.136Z"
   },
   {
    "duration": 3,
    "start_time": "2021-11-17T21:43:15.137Z"
   },
   {
    "duration": 4,
    "start_time": "2021-11-17T21:43:16.766Z"
   },
   {
    "duration": 4,
    "start_time": "2021-11-17T21:43:31.711Z"
   },
   {
    "duration": 3,
    "start_time": "2021-11-17T21:43:36.312Z"
   },
   {
    "duration": 4,
    "start_time": "2021-11-17T21:45:08.825Z"
   },
   {
    "duration": 4,
    "start_time": "2021-11-17T21:45:10.119Z"
   },
   {
    "duration": 4,
    "start_time": "2021-11-17T21:45:13.748Z"
   },
   {
    "duration": 3,
    "start_time": "2021-11-17T21:45:22.219Z"
   },
   {
    "duration": 3,
    "start_time": "2021-11-17T21:45:33.412Z"
   },
   {
    "duration": 2,
    "start_time": "2021-11-17T21:46:01.885Z"
   },
   {
    "duration": 3,
    "start_time": "2021-11-17T21:46:03.628Z"
   },
   {
    "duration": 107,
    "start_time": "2021-11-17T21:47:32.512Z"
   },
   {
    "duration": 103,
    "start_time": "2021-11-17T21:50:36.243Z"
   },
   {
    "duration": 3,
    "start_time": "2021-11-18T06:28:31.440Z"
   },
   {
    "duration": 3,
    "start_time": "2021-11-18T06:29:00.168Z"
   },
   {
    "duration": 3,
    "start_time": "2021-11-18T06:31:27.008Z"
   },
   {
    "duration": 2,
    "start_time": "2021-11-18T06:35:34.288Z"
   },
   {
    "duration": 2,
    "start_time": "2021-11-18T06:38:04.527Z"
   },
   {
    "duration": 2268,
    "start_time": "2025-03-11T14:09:33.376Z"
   },
   {
    "duration": 566,
    "start_time": "2025-03-11T14:14:16.626Z"
   },
   {
    "duration": 300,
    "start_time": "2025-03-11T14:14:47.297Z"
   },
   {
    "duration": 3,
    "start_time": "2025-03-11T14:14:56.388Z"
   },
   {
    "duration": 175,
    "start_time": "2025-03-11T14:14:59.608Z"
   },
   {
    "duration": 59,
    "start_time": "2025-03-11T14:20:00.161Z"
   },
   {
    "duration": 6,
    "start_time": "2025-03-11T14:23:47.403Z"
   },
   {
    "duration": 5,
    "start_time": "2025-03-11T14:24:52.943Z"
   },
   {
    "duration": 12,
    "start_time": "2025-03-11T15:27:01.488Z"
   },
   {
    "duration": 552,
    "start_time": "2025-03-11T15:28:42.520Z"
   },
   {
    "duration": 2,
    "start_time": "2025-03-11T15:33:11.951Z"
   },
   {
    "duration": 235,
    "start_time": "2025-03-11T15:33:13.315Z"
   },
   {
    "duration": 43,
    "start_time": "2025-03-11T15:33:14.782Z"
   },
   {
    "duration": 5,
    "start_time": "2025-03-11T15:33:15.203Z"
   },
   {
    "duration": 59,
    "start_time": "2025-03-11T15:33:18.395Z"
   },
   {
    "duration": 50,
    "start_time": "2025-03-11T15:46:51.529Z"
   },
   {
    "duration": 2188,
    "start_time": "2025-03-11T19:59:48.896Z"
   },
   {
    "duration": 208,
    "start_time": "2025-03-11T19:59:51.087Z"
   },
   {
    "duration": 47,
    "start_time": "2025-03-11T19:59:51.599Z"
   },
   {
    "duration": 7,
    "start_time": "2025-03-11T19:59:52.076Z"
   },
   {
    "duration": 37,
    "start_time": "2025-03-11T19:59:54.051Z"
   },
   {
    "duration": 572,
    "start_time": "2025-03-11T20:02:18.746Z"
   },
   {
    "duration": 14,
    "start_time": "2025-03-11T20:06:25.214Z"
   },
   {
    "duration": 2422,
    "start_time": "2025-03-12T00:32:33.748Z"
   },
   {
    "duration": 243,
    "start_time": "2025-03-12T00:32:36.172Z"
   },
   {
    "duration": 63,
    "start_time": "2025-03-12T00:32:36.503Z"
   },
   {
    "duration": 7,
    "start_time": "2025-03-12T00:32:36.801Z"
   },
   {
    "duration": 37,
    "start_time": "2025-03-12T00:32:38.585Z"
   },
   {
    "duration": 12,
    "start_time": "2025-03-12T00:32:43.589Z"
   },
   {
    "duration": 11,
    "start_time": "2025-03-12T00:33:14.879Z"
   },
   {
    "duration": 5,
    "start_time": "2025-03-12T00:34:15.958Z"
   },
   {
    "duration": 11,
    "start_time": "2025-03-12T00:43:45.053Z"
   },
   {
    "duration": 10,
    "start_time": "2025-03-12T00:47:52.138Z"
   },
   {
    "duration": 13,
    "start_time": "2025-03-12T00:49:19.732Z"
   },
   {
    "duration": 13,
    "start_time": "2025-03-12T00:54:22.258Z"
   },
   {
    "duration": 4,
    "start_time": "2025-03-12T00:56:54.385Z"
   },
   {
    "duration": 11,
    "start_time": "2025-03-12T01:01:20.023Z"
   },
   {
    "duration": 16,
    "start_time": "2025-03-12T01:02:34.864Z"
   },
   {
    "duration": 4,
    "start_time": "2025-03-12T01:02:54.757Z"
   },
   {
    "duration": 11,
    "start_time": "2025-03-12T01:08:44.903Z"
   },
   {
    "duration": 15,
    "start_time": "2025-03-12T01:08:52.496Z"
   },
   {
    "duration": 5,
    "start_time": "2025-03-12T01:08:53.345Z"
   },
   {
    "duration": 26,
    "start_time": "2025-03-12T01:14:12.809Z"
   },
   {
    "duration": 37,
    "start_time": "2025-03-12T01:18:26.752Z"
   },
   {
    "duration": 8,
    "start_time": "2025-03-12T01:18:55.748Z"
   },
   {
    "duration": 4,
    "start_time": "2025-03-12T01:19:09.273Z"
   },
   {
    "duration": 2084,
    "start_time": "2025-03-12T15:52:29.213Z"
   },
   {
    "duration": 231,
    "start_time": "2025-03-12T15:52:31.299Z"
   },
   {
    "duration": 42,
    "start_time": "2025-03-12T15:52:34.397Z"
   },
   {
    "duration": 6,
    "start_time": "2025-03-12T15:52:34.922Z"
   },
   {
    "duration": 37,
    "start_time": "2025-03-12T15:52:36.213Z"
   },
   {
    "duration": 14,
    "start_time": "2025-03-12T15:52:37.034Z"
   },
   {
    "duration": 10,
    "start_time": "2025-03-12T15:52:37.686Z"
   },
   {
    "duration": 5,
    "start_time": "2025-03-12T15:52:37.897Z"
   },
   {
    "duration": 12,
    "start_time": "2025-03-12T15:52:39.133Z"
   },
   {
    "duration": 11,
    "start_time": "2025-03-12T15:52:40.538Z"
   },
   {
    "duration": 15,
    "start_time": "2025-03-12T15:52:41.576Z"
   },
   {
    "duration": 5,
    "start_time": "2025-03-12T15:52:45.579Z"
   },
   {
    "duration": 30,
    "start_time": "2025-03-12T15:52:48.021Z"
   },
   {
    "duration": 34,
    "start_time": "2025-03-12T15:52:49.491Z"
   },
   {
    "duration": 8,
    "start_time": "2025-03-12T15:52:50.424Z"
   },
   {
    "duration": 5,
    "start_time": "2025-03-12T15:52:52.003Z"
   },
   {
    "duration": 25,
    "start_time": "2025-03-12T16:04:58.032Z"
   },
   {
    "duration": 479,
    "start_time": "2025-03-12T16:23:06.046Z"
   },
   {
    "duration": 62,
    "start_time": "2025-03-12T16:25:04.617Z"
   },
   {
    "duration": 71,
    "start_time": "2025-03-12T16:25:35.692Z"
   },
   {
    "duration": 18,
    "start_time": "2025-03-12T16:26:26.120Z"
   },
   {
    "duration": 5,
    "start_time": "2025-03-12T16:26:40.310Z"
   },
   {
    "duration": 77,
    "start_time": "2025-03-12T16:48:03.684Z"
   },
   {
    "duration": 24,
    "start_time": "2025-03-12T16:48:43.992Z"
   },
   {
    "duration": 24,
    "start_time": "2025-03-12T16:48:56.958Z"
   },
   {
    "duration": 24,
    "start_time": "2025-03-12T16:49:04.639Z"
   },
   {
    "duration": 24,
    "start_time": "2025-03-12T16:49:29.029Z"
   },
   {
    "duration": 7,
    "start_time": "2025-03-12T16:49:34.844Z"
   },
   {
    "duration": 25,
    "start_time": "2025-03-12T16:49:43.912Z"
   },
   {
    "duration": 24,
    "start_time": "2025-03-12T16:52:25.503Z"
   },
   {
    "duration": 23,
    "start_time": "2025-03-12T16:52:42.564Z"
   },
   {
    "duration": 24,
    "start_time": "2025-03-12T16:53:09.648Z"
   },
   {
    "duration": 107,
    "start_time": "2025-03-12T16:53:49.011Z"
   },
   {
    "duration": 25,
    "start_time": "2025-03-12T16:54:35.159Z"
   },
   {
    "duration": 20,
    "start_time": "2025-03-12T16:55:22.460Z"
   },
   {
    "duration": 39,
    "start_time": "2025-03-12T17:00:01.800Z"
   },
   {
    "duration": 33,
    "start_time": "2025-03-12T17:00:15.122Z"
   },
   {
    "duration": 10,
    "start_time": "2025-03-12T17:01:45.246Z"
   },
   {
    "duration": 15,
    "start_time": "2025-03-12T17:29:38.662Z"
   },
   {
    "duration": 4,
    "start_time": "2025-03-12T17:30:43.377Z"
   },
   {
    "duration": 4,
    "start_time": "2025-03-12T17:31:04.207Z"
   },
   {
    "duration": 32,
    "start_time": "2025-03-12T17:31:44.625Z"
   },
   {
    "duration": 35,
    "start_time": "2025-03-12T17:34:09.856Z"
   },
   {
    "duration": 120,
    "start_time": "2025-03-12T17:34:30.310Z"
   },
   {
    "duration": 5,
    "start_time": "2025-03-12T17:36:07.518Z"
   },
   {
    "duration": 12,
    "start_time": "2025-03-12T17:36:23.964Z"
   },
   {
    "duration": 14,
    "start_time": "2025-03-12T17:37:02.316Z"
   },
   {
    "duration": 18,
    "start_time": "2025-03-12T17:39:56.880Z"
   },
   {
    "duration": 21,
    "start_time": "2025-03-12T17:41:39.065Z"
   },
   {
    "duration": 19,
    "start_time": "2025-03-12T17:48:19.009Z"
   },
   {
    "duration": 19,
    "start_time": "2025-03-12T17:49:29.257Z"
   },
   {
    "duration": 12,
    "start_time": "2025-03-12T17:50:22.676Z"
   },
   {
    "duration": 60,
    "start_time": "2025-03-12T17:54:09.124Z"
   },
   {
    "duration": 27,
    "start_time": "2025-03-12T18:23:04.397Z"
   },
   {
    "duration": 41,
    "start_time": "2025-03-12T18:23:48.953Z"
   },
   {
    "duration": 48,
    "start_time": "2025-03-12T18:23:52.280Z"
   },
   {
    "duration": 20,
    "start_time": "2025-03-12T18:23:55.353Z"
   },
   {
    "duration": 372,
    "start_time": "2025-03-12T18:25:40.767Z"
   },
   {
    "duration": 309,
    "start_time": "2025-03-12T18:26:53.826Z"
   },
   {
    "duration": 10,
    "start_time": "2025-03-12T18:28:10.665Z"
   },
   {
    "duration": 128,
    "start_time": "2025-03-12T18:29:26.065Z"
   },
   {
    "duration": 310,
    "start_time": "2025-03-12T18:39:22.637Z"
   },
   {
    "duration": 4,
    "start_time": "2025-03-12T18:40:09.089Z"
   },
   {
    "duration": 216,
    "start_time": "2025-03-12T18:40:09.578Z"
   },
   {
    "duration": 46,
    "start_time": "2025-03-12T18:40:10.214Z"
   },
   {
    "duration": 7,
    "start_time": "2025-03-12T18:40:10.416Z"
   },
   {
    "duration": 41,
    "start_time": "2025-03-12T18:40:11.298Z"
   },
   {
    "duration": 15,
    "start_time": "2025-03-12T18:40:11.975Z"
   },
   {
    "duration": 10,
    "start_time": "2025-03-12T18:40:12.515Z"
   },
   {
    "duration": 7,
    "start_time": "2025-03-12T18:40:12.705Z"
   },
   {
    "duration": 15,
    "start_time": "2025-03-12T18:40:13.647Z"
   },
   {
    "duration": 13,
    "start_time": "2025-03-12T18:40:14.432Z"
   },
   {
    "duration": 13,
    "start_time": "2025-03-12T18:40:14.750Z"
   },
   {
    "duration": 7,
    "start_time": "2025-03-12T18:40:14.997Z"
   },
   {
    "duration": 23,
    "start_time": "2025-03-12T18:40:15.983Z"
   },
   {
    "duration": 42,
    "start_time": "2025-03-12T18:40:16.428Z"
   },
   {
    "duration": 10,
    "start_time": "2025-03-12T18:40:16.755Z"
   },
   {
    "duration": 5,
    "start_time": "2025-03-12T18:40:17.005Z"
   },
   {
    "duration": 24,
    "start_time": "2025-03-12T18:40:18.205Z"
   },
   {
    "duration": 70,
    "start_time": "2025-03-12T18:40:19.667Z"
   },
   {
    "duration": 18,
    "start_time": "2025-03-12T18:40:20.546Z"
   },
   {
    "duration": 8,
    "start_time": "2025-03-12T18:40:21.023Z"
   },
   {
    "duration": 21,
    "start_time": "2025-03-12T18:40:22.160Z"
   },
   {
    "duration": 34,
    "start_time": "2025-03-12T18:40:22.793Z"
   },
   {
    "duration": 8,
    "start_time": "2025-03-12T18:40:23.904Z"
   },
   {
    "duration": 53,
    "start_time": "2025-03-12T18:40:25.804Z"
   },
   {
    "duration": 11,
    "start_time": "2025-03-12T18:40:26.633Z"
   },
   {
    "duration": 24,
    "start_time": "2025-03-12T18:40:27.360Z"
   },
   {
    "duration": 25,
    "start_time": "2025-03-12T18:40:28.073Z"
   },
   {
    "duration": 24,
    "start_time": "2025-03-12T18:40:28.789Z"
   },
   {
    "duration": 15,
    "start_time": "2025-03-12T18:40:29.417Z"
   },
   {
    "duration": 119,
    "start_time": "2025-03-12T18:40:31.247Z"
   },
   {
    "duration": 2,
    "start_time": "2025-03-12T18:40:36.417Z"
   },
   {
    "duration": 343,
    "start_time": "2025-03-12T18:43:20.076Z"
   },
   {
    "duration": 662,
    "start_time": "2025-03-12T18:44:06.933Z"
   },
   {
    "duration": 390,
    "start_time": "2025-03-12T18:44:36.579Z"
   },
   {
    "duration": 11,
    "start_time": "2025-03-12T18:44:42.123Z"
   },
   {
    "duration": 168,
    "start_time": "2025-03-12T18:44:46.652Z"
   },
   {
    "duration": 116,
    "start_time": "2025-03-12T18:46:44.256Z"
   },
   {
    "duration": 33,
    "start_time": "2025-03-12T18:47:52.395Z"
   },
   {
    "duration": 139,
    "start_time": "2025-03-12T18:47:57.136Z"
   },
   {
    "duration": 26,
    "start_time": "2025-03-12T18:48:00.434Z"
   },
   {
    "duration": 3,
    "start_time": "2025-03-12T18:48:00.534Z"
   },
   {
    "duration": 34,
    "start_time": "2025-03-12T18:59:22.514Z"
   },
   {
    "duration": 4,
    "start_time": "2025-03-12T18:59:48.707Z"
   },
   {
    "duration": 427,
    "start_time": "2025-03-12T19:00:51.232Z"
   },
   {
    "duration": 164,
    "start_time": "2025-03-13T01:36:13.074Z"
   },
   {
    "duration": 2181,
    "start_time": "2025-03-13T01:36:25.819Z"
   },
   {
    "duration": 219,
    "start_time": "2025-03-13T01:36:28.003Z"
   },
   {
    "duration": 44,
    "start_time": "2025-03-13T01:36:28.223Z"
   },
   {
    "duration": 6,
    "start_time": "2025-03-13T01:36:30.260Z"
   },
   {
    "duration": 37,
    "start_time": "2025-03-13T01:36:32.714Z"
   },
   {
    "duration": 13,
    "start_time": "2025-03-13T01:36:34.764Z"
   },
   {
    "duration": 9,
    "start_time": "2025-03-13T01:36:35.990Z"
   },
   {
    "duration": 5,
    "start_time": "2025-03-13T01:36:36.385Z"
   },
   {
    "duration": 12,
    "start_time": "2025-03-13T01:36:38.068Z"
   },
   {
    "duration": 11,
    "start_time": "2025-03-13T01:36:39.463Z"
   },
   {
    "duration": 15,
    "start_time": "2025-03-13T01:36:40.113Z"
   },
   {
    "duration": 4,
    "start_time": "2025-03-13T01:36:40.498Z"
   },
   {
    "duration": 26,
    "start_time": "2025-03-13T01:36:44.384Z"
   },
   {
    "duration": 39,
    "start_time": "2025-03-13T01:36:46.445Z"
   },
   {
    "duration": 8,
    "start_time": "2025-03-13T01:36:48.059Z"
   },
   {
    "duration": 4,
    "start_time": "2025-03-13T01:36:48.620Z"
   },
   {
    "duration": 23,
    "start_time": "2025-03-13T01:36:51.150Z"
   },
   {
    "duration": 71,
    "start_time": "2025-03-13T01:36:52.908Z"
   },
   {
    "duration": 17,
    "start_time": "2025-03-13T01:36:53.974Z"
   },
   {
    "duration": 6,
    "start_time": "2025-03-13T01:36:55.064Z"
   },
   {
    "duration": 64,
    "start_time": "2025-03-13T01:36:59.373Z"
   },
   {
    "duration": 31,
    "start_time": "2025-03-13T01:37:00.663Z"
   },
   {
    "duration": 7,
    "start_time": "2025-03-13T01:37:02.293Z"
   },
   {
    "duration": 36,
    "start_time": "2025-03-13T01:37:03.676Z"
   },
   {
    "duration": 13,
    "start_time": "2025-03-13T01:37:04.120Z"
   },
   {
    "duration": 15,
    "start_time": "2025-03-13T01:37:04.652Z"
   },
   {
    "duration": 19,
    "start_time": "2025-03-13T01:37:05.123Z"
   },
   {
    "duration": 17,
    "start_time": "2025-03-13T01:37:06.032Z"
   },
   {
    "duration": 12,
    "start_time": "2025-03-13T01:37:06.585Z"
   },
   {
    "duration": 41,
    "start_time": "2025-03-13T01:37:08.534Z"
   },
   {
    "duration": 303,
    "start_time": "2025-03-13T01:37:14.596Z"
   },
   {
    "duration": 300,
    "start_time": "2025-03-13T01:37:17.587Z"
   },
   {
    "duration": 11,
    "start_time": "2025-03-13T01:37:21.561Z"
   },
   {
    "duration": 120,
    "start_time": "2025-03-13T01:37:22.402Z"
   },
   {
    "duration": 327,
    "start_time": "2025-03-13T01:37:30.060Z"
   },
   {
    "duration": 440,
    "start_time": "2025-03-13T01:37:33.085Z"
   },
   {
    "duration": 339,
    "start_time": "2025-03-13T01:39:10.052Z"
   },
   {
    "duration": 180,
    "start_time": "2025-03-13T02:03:02.101Z"
   },
   {
    "duration": 3,
    "start_time": "2025-03-13T02:04:55.854Z"
   },
   {
    "duration": 302,
    "start_time": "2025-03-13T02:06:29.280Z"
   },
   {
    "duration": 20,
    "start_time": "2025-03-13T02:21:59.950Z"
   },
   {
    "duration": 304,
    "start_time": "2025-03-13T02:25:52.634Z"
   },
   {
    "duration": 72,
    "start_time": "2025-03-13T02:28:28.793Z"
   },
   {
    "duration": 2176,
    "start_time": "2025-03-13T14:56:05.789Z"
   },
   {
    "duration": 245,
    "start_time": "2025-03-13T14:56:07.968Z"
   },
   {
    "duration": 64,
    "start_time": "2025-03-13T14:56:08.215Z"
   },
   {
    "duration": 6,
    "start_time": "2025-03-13T14:56:08.282Z"
   },
   {
    "duration": 50,
    "start_time": "2025-03-13T14:56:09.334Z"
   },
   {
    "duration": 14,
    "start_time": "2025-03-13T14:56:11.114Z"
   },
   {
    "duration": 10,
    "start_time": "2025-03-13T14:56:12.137Z"
   },
   {
    "duration": 6,
    "start_time": "2025-03-13T14:56:12.426Z"
   },
   {
    "duration": 15,
    "start_time": "2025-03-13T14:56:13.632Z"
   },
   {
    "duration": 14,
    "start_time": "2025-03-13T14:56:14.560Z"
   },
   {
    "duration": 18,
    "start_time": "2025-03-13T14:56:14.992Z"
   },
   {
    "duration": 6,
    "start_time": "2025-03-13T14:56:15.202Z"
   },
   {
    "duration": 26,
    "start_time": "2025-03-13T14:56:16.412Z"
   },
   {
    "duration": 35,
    "start_time": "2025-03-13T14:56:17.368Z"
   },
   {
    "duration": 8,
    "start_time": "2025-03-13T14:56:17.896Z"
   },
   {
    "duration": 4,
    "start_time": "2025-03-13T14:56:18.176Z"
   },
   {
    "duration": 24,
    "start_time": "2025-03-13T14:56:19.437Z"
   },
   {
    "duration": 64,
    "start_time": "2025-03-13T14:56:20.152Z"
   },
   {
    "duration": 20,
    "start_time": "2025-03-13T14:56:20.632Z"
   },
   {
    "duration": 6,
    "start_time": "2025-03-13T14:56:20.905Z"
   },
   {
    "duration": 27,
    "start_time": "2025-03-13T14:56:22.116Z"
   },
   {
    "duration": 31,
    "start_time": "2025-03-13T14:56:22.786Z"
   },
   {
    "duration": 7,
    "start_time": "2025-03-13T14:56:23.629Z"
   },
   {
    "duration": 88,
    "start_time": "2025-03-13T14:56:24.185Z"
   },
   {
    "duration": 13,
    "start_time": "2025-03-13T14:56:24.470Z"
   },
   {
    "duration": 17,
    "start_time": "2025-03-13T14:56:25.010Z"
   },
   {
    "duration": 23,
    "start_time": "2025-03-13T14:56:25.475Z"
   },
   {
    "duration": 18,
    "start_time": "2025-03-13T14:56:26.266Z"
   },
   {
    "duration": 13,
    "start_time": "2025-03-13T14:56:26.620Z"
   },
   {
    "duration": 42,
    "start_time": "2025-03-13T14:56:27.412Z"
   },
   {
    "duration": 347,
    "start_time": "2025-03-13T14:56:29.107Z"
   },
   {
    "duration": 313,
    "start_time": "2025-03-13T14:56:30.136Z"
   },
   {
    "duration": 9,
    "start_time": "2025-03-13T14:56:31.197Z"
   },
   {
    "duration": 125,
    "start_time": "2025-03-13T14:56:31.636Z"
   },
   {
    "duration": 354,
    "start_time": "2025-03-13T14:56:33.785Z"
   },
   {
    "duration": 356,
    "start_time": "2025-03-13T14:56:34.334Z"
   },
   {
    "duration": 306,
    "start_time": "2025-03-13T14:56:39.284Z"
   },
   {
    "duration": 424,
    "start_time": "2025-03-13T14:56:49.824Z"
   },
   {
    "duration": 720,
    "start_time": "2025-03-13T14:57:01.631Z"
   },
   {
    "duration": 8,
    "start_time": "2025-03-13T14:57:50.447Z"
   },
   {
    "duration": 44,
    "start_time": "2025-03-13T15:00:21.561Z"
   },
   {
    "duration": 16,
    "start_time": "2025-03-13T15:03:45.704Z"
   },
   {
    "duration": 10,
    "start_time": "2025-03-13T15:03:54.129Z"
   },
   {
    "duration": 21,
    "start_time": "2025-03-13T15:03:54.571Z"
   },
   {
    "duration": 7,
    "start_time": "2025-03-13T15:03:54.709Z"
   },
   {
    "duration": 21,
    "start_time": "2025-03-13T15:03:55.534Z"
   },
   {
    "duration": 40,
    "start_time": "2025-03-13T15:03:56.058Z"
   },
   {
    "duration": 12,
    "start_time": "2025-03-13T15:03:56.426Z"
   },
   {
    "duration": 6,
    "start_time": "2025-03-13T15:03:56.602Z"
   },
   {
    "duration": 294,
    "start_time": "2025-03-13T15:03:57.424Z"
   },
   {
    "duration": 133,
    "start_time": "2025-03-13T15:03:57.934Z"
   },
   {
    "duration": 20,
    "start_time": "2025-03-13T15:03:58.256Z"
   },
   {
    "duration": 6,
    "start_time": "2025-03-13T15:03:58.431Z"
   },
   {
    "duration": 31,
    "start_time": "2025-03-13T15:03:59.291Z"
   },
   {
    "duration": 43,
    "start_time": "2025-03-13T15:03:59.768Z"
   },
   {
    "duration": 3,
    "start_time": "2025-03-13T15:04:00.277Z"
   },
   {
    "duration": 36,
    "start_time": "2025-03-13T15:04:00.629Z"
   },
   {
    "duration": 12,
    "start_time": "2025-03-13T15:04:00.809Z"
   },
   {
    "duration": 14,
    "start_time": "2025-03-13T15:04:01.329Z"
   },
   {
    "duration": 19,
    "start_time": "2025-03-13T15:04:01.669Z"
   },
   {
    "duration": 17,
    "start_time": "2025-03-13T15:04:02.082Z"
   },
   {
    "duration": 12,
    "start_time": "2025-03-13T15:04:02.268Z"
   },
   {
    "duration": 53,
    "start_time": "2025-03-13T15:04:02.913Z"
   },
   {
    "duration": 352,
    "start_time": "2025-03-13T15:04:03.978Z"
   },
   {
    "duration": 295,
    "start_time": "2025-03-13T15:04:04.459Z"
   },
   {
    "duration": 13,
    "start_time": "2025-03-13T15:04:04.913Z"
   },
   {
    "duration": 165,
    "start_time": "2025-03-13T15:04:05.099Z"
   },
   {
    "duration": 344,
    "start_time": "2025-03-13T15:04:06.089Z"
   },
   {
    "duration": 313,
    "start_time": "2025-03-13T15:04:06.436Z"
   },
   {
    "duration": 312,
    "start_time": "2025-03-13T15:04:11.044Z"
   },
   {
    "duration": 8,
    "start_time": "2025-03-13T15:04:17.699Z"
   },
   {
    "duration": 42,
    "start_time": "2025-03-13T15:04:20.441Z"
   },
   {
    "duration": 44,
    "start_time": "2025-03-13T15:14:33.346Z"
   },
   {
    "duration": 22,
    "start_time": "2025-03-13T15:20:41.855Z"
   },
   {
    "duration": 20,
    "start_time": "2025-03-13T15:20:48.768Z"
   },
   {
    "duration": 392,
    "start_time": "2025-03-13T15:20:49.816Z"
   },
   {
    "duration": 208,
    "start_time": "2025-03-13T15:20:52.183Z"
   },
   {
    "duration": 82,
    "start_time": "2025-03-13T15:23:58.607Z"
   },
   {
    "duration": 24,
    "start_time": "2025-03-13T15:24:58.750Z"
   },
   {
    "duration": 15,
    "start_time": "2025-03-13T15:25:15.543Z"
   },
   {
    "duration": 87,
    "start_time": "2025-03-13T15:25:20.697Z"
   },
   {
    "duration": 2,
    "start_time": "2025-03-13T15:25:40.748Z"
   },
   {
    "duration": 158,
    "start_time": "2025-03-13T15:25:41.585Z"
   },
   {
    "duration": 45,
    "start_time": "2025-03-13T15:25:42.730Z"
   },
   {
    "duration": 7,
    "start_time": "2025-03-13T15:25:43.044Z"
   },
   {
    "duration": 49,
    "start_time": "2025-03-13T15:25:44.784Z"
   },
   {
    "duration": 16,
    "start_time": "2025-03-13T15:25:46.337Z"
   },
   {
    "duration": 10,
    "start_time": "2025-03-13T15:25:47.558Z"
   },
   {
    "duration": 9,
    "start_time": "2025-03-13T15:25:47.922Z"
   },
   {
    "duration": 15,
    "start_time": "2025-03-13T15:25:50.264Z"
   },
   {
    "duration": 12,
    "start_time": "2025-03-13T15:25:52.967Z"
   },
   {
    "duration": 16,
    "start_time": "2025-03-13T15:25:54.561Z"
   },
   {
    "duration": 6,
    "start_time": "2025-03-13T15:25:55.030Z"
   },
   {
    "duration": 26,
    "start_time": "2025-03-13T15:25:58.212Z"
   },
   {
    "duration": 51,
    "start_time": "2025-03-13T15:25:59.747Z"
   },
   {
    "duration": 10,
    "start_time": "2025-03-13T15:26:00.751Z"
   },
   {
    "duration": 4,
    "start_time": "2025-03-13T15:26:01.329Z"
   },
   {
    "duration": 34,
    "start_time": "2025-03-13T15:26:04.206Z"
   },
   {
    "duration": 68,
    "start_time": "2025-03-13T15:26:06.119Z"
   },
   {
    "duration": 18,
    "start_time": "2025-03-13T15:26:07.339Z"
   },
   {
    "duration": 5,
    "start_time": "2025-03-13T15:26:07.947Z"
   },
   {
    "duration": 29,
    "start_time": "2025-03-13T15:26:10.414Z"
   },
   {
    "duration": 32,
    "start_time": "2025-03-13T15:26:11.914Z"
   },
   {
    "duration": 7,
    "start_time": "2025-03-13T15:26:13.489Z"
   },
   {
    "duration": 128,
    "start_time": "2025-03-13T15:26:16.222Z"
   },
   {
    "duration": 11,
    "start_time": "2025-03-13T15:26:17.656Z"
   },
   {
    "duration": 16,
    "start_time": "2025-03-13T15:26:18.439Z"
   },
   {
    "duration": 17,
    "start_time": "2025-03-13T15:26:18.917Z"
   },
   {
    "duration": 21,
    "start_time": "2025-03-13T15:26:20.752Z"
   },
   {
    "duration": 14,
    "start_time": "2025-03-13T15:26:25.562Z"
   },
   {
    "duration": 78,
    "start_time": "2025-03-13T15:26:28.872Z"
   },
   {
    "duration": 6,
    "start_time": "2025-03-13T15:28:46.917Z"
   },
   {
    "duration": 123,
    "start_time": "2025-03-13T15:29:21.031Z"
   },
   {
    "duration": 9,
    "start_time": "2025-03-13T15:32:37.569Z"
   },
   {
    "duration": 14,
    "start_time": "2025-03-13T15:32:46.039Z"
   },
   {
    "duration": 8,
    "start_time": "2025-03-13T15:32:47.906Z"
   },
   {
    "duration": 7,
    "start_time": "2025-03-13T15:33:03.331Z"
   },
   {
    "duration": 6,
    "start_time": "2025-03-13T15:33:08.229Z"
   },
   {
    "duration": 65,
    "start_time": "2025-03-13T15:33:41.832Z"
   },
   {
    "duration": 8,
    "start_time": "2025-03-13T15:36:37.222Z"
   },
   {
    "duration": 321,
    "start_time": "2025-03-13T15:36:50.043Z"
   },
   {
    "duration": 26,
    "start_time": "2025-03-13T15:37:30.469Z"
   },
   {
    "duration": 8,
    "start_time": "2025-03-13T15:38:31.281Z"
   },
   {
    "duration": 287,
    "start_time": "2025-03-13T15:38:32.958Z"
   },
   {
    "duration": 266,
    "start_time": "2025-03-13T15:56:34.811Z"
   },
   {
    "duration": 322,
    "start_time": "2025-03-13T15:56:35.470Z"
   },
   {
    "duration": 12,
    "start_time": "2025-03-13T15:56:38.753Z"
   },
   {
    "duration": 121,
    "start_time": "2025-03-13T15:56:40.954Z"
   },
   {
    "duration": 368,
    "start_time": "2025-03-13T16:07:54.048Z"
   },
   {
    "duration": 355,
    "start_time": "2025-03-13T16:07:56.904Z"
   },
   {
    "duration": 365,
    "start_time": "2025-03-13T16:13:04.628Z"
   },
   {
    "duration": 440,
    "start_time": "2025-03-13T16:13:09.982Z"
   },
   {
    "duration": 10,
    "start_time": "2025-03-13T16:13:20.330Z"
   },
   {
    "duration": 9,
    "start_time": "2025-03-13T16:13:22.671Z"
   },
   {
    "duration": 3,
    "start_time": "2025-03-13T16:22:25.075Z"
   },
   {
    "duration": 186,
    "start_time": "2025-03-13T16:22:26.214Z"
   },
   {
    "duration": 48,
    "start_time": "2025-03-13T16:22:27.164Z"
   },
   {
    "duration": 5,
    "start_time": "2025-03-13T16:22:27.404Z"
   },
   {
    "duration": 40,
    "start_time": "2025-03-13T16:22:28.623Z"
   },
   {
    "duration": 12,
    "start_time": "2025-03-13T16:22:29.440Z"
   },
   {
    "duration": 10,
    "start_time": "2025-03-13T16:22:30.106Z"
   },
   {
    "duration": 5,
    "start_time": "2025-03-13T16:22:30.340Z"
   },
   {
    "duration": 18,
    "start_time": "2025-03-13T16:22:31.647Z"
   },
   {
    "duration": 15,
    "start_time": "2025-03-13T16:22:32.688Z"
   },
   {
    "duration": 18,
    "start_time": "2025-03-13T16:22:32.975Z"
   },
   {
    "duration": 7,
    "start_time": "2025-03-13T16:22:33.107Z"
   },
   {
    "duration": 27,
    "start_time": "2025-03-13T16:22:33.919Z"
   },
   {
    "duration": 47,
    "start_time": "2025-03-13T16:22:34.703Z"
   },
   {
    "duration": 9,
    "start_time": "2025-03-13T16:22:35.178Z"
   },
   {
    "duration": 4,
    "start_time": "2025-03-13T16:22:35.447Z"
   },
   {
    "duration": 38,
    "start_time": "2025-03-13T16:22:36.733Z"
   },
   {
    "duration": 100,
    "start_time": "2025-03-13T16:22:37.502Z"
   },
   {
    "duration": 19,
    "start_time": "2025-03-13T16:22:37.768Z"
   },
   {
    "duration": 6,
    "start_time": "2025-03-13T16:22:40.204Z"
   },
   {
    "duration": 24,
    "start_time": "2025-03-13T16:22:41.239Z"
   },
   {
    "duration": 36,
    "start_time": "2025-03-13T16:22:41.843Z"
   },
   {
    "duration": 7,
    "start_time": "2025-03-13T16:22:42.490Z"
   },
   {
    "duration": 41,
    "start_time": "2025-03-13T16:22:42.814Z"
   },
   {
    "duration": 16,
    "start_time": "2025-03-13T16:22:43.002Z"
   },
   {
    "duration": 15,
    "start_time": "2025-03-13T16:22:43.324Z"
   },
   {
    "duration": 17,
    "start_time": "2025-03-13T16:22:43.598Z"
   },
   {
    "duration": 20,
    "start_time": "2025-03-13T16:22:44.170Z"
   },
   {
    "duration": 12,
    "start_time": "2025-03-13T16:22:44.435Z"
   },
   {
    "duration": 88,
    "start_time": "2025-03-13T16:22:44.982Z"
   },
   {
    "duration": 44,
    "start_time": "2025-03-13T16:22:45.594Z"
   },
   {
    "duration": 243,
    "start_time": "2025-03-13T16:22:45.689Z"
   },
   {
    "duration": 3,
    "start_time": "2025-03-13T16:24:06.041Z"
   },
   {
    "duration": 230,
    "start_time": "2025-03-13T16:24:07.020Z"
   },
   {
    "duration": 63,
    "start_time": "2025-03-13T16:24:07.822Z"
   },
   {
    "duration": 9,
    "start_time": "2025-03-13T16:24:08.028Z"
   },
   {
    "duration": 58,
    "start_time": "2025-03-13T16:24:11.358Z"
   },
   {
    "duration": 16,
    "start_time": "2025-03-13T16:24:13.726Z"
   },
   {
    "duration": 12,
    "start_time": "2025-03-13T16:24:15.063Z"
   },
   {
    "duration": 5,
    "start_time": "2025-03-13T16:24:15.500Z"
   },
   {
    "duration": 16,
    "start_time": "2025-03-13T16:24:18.409Z"
   },
   {
    "duration": 13,
    "start_time": "2025-03-13T16:24:20.315Z"
   },
   {
    "duration": 19,
    "start_time": "2025-03-13T16:24:21.066Z"
   },
   {
    "duration": 6,
    "start_time": "2025-03-13T16:24:21.471Z"
   },
   {
    "duration": 39,
    "start_time": "2025-03-13T16:24:25.707Z"
   },
   {
    "duration": 59,
    "start_time": "2025-03-13T16:24:27.030Z"
   },
   {
    "duration": 13,
    "start_time": "2025-03-13T16:24:27.805Z"
   },
   {
    "duration": 6,
    "start_time": "2025-03-13T16:24:28.207Z"
   },
   {
    "duration": 36,
    "start_time": "2025-03-13T16:24:30.433Z"
   },
   {
    "duration": 91,
    "start_time": "2025-03-13T16:24:32.106Z"
   },
   {
    "duration": 17,
    "start_time": "2025-03-13T16:24:33.512Z"
   },
   {
    "duration": 7,
    "start_time": "2025-03-13T16:24:34.062Z"
   },
   {
    "duration": 20,
    "start_time": "2025-03-13T16:24:36.347Z"
   },
   {
    "duration": 46,
    "start_time": "2025-03-13T16:24:37.988Z"
   },
   {
    "duration": 8,
    "start_time": "2025-03-13T16:24:39.488Z"
   },
   {
    "duration": 45,
    "start_time": "2025-03-13T16:24:51.274Z"
   },
   {
    "duration": 12,
    "start_time": "2025-03-13T16:25:00.107Z"
   },
   {
    "duration": 14,
    "start_time": "2025-03-13T16:25:01.196Z"
   },
   {
    "duration": 18,
    "start_time": "2025-03-13T16:25:01.954Z"
   },
   {
    "duration": 21,
    "start_time": "2025-03-13T16:25:03.243Z"
   },
   {
    "duration": 12,
    "start_time": "2025-03-13T16:25:04.072Z"
   },
   {
    "duration": 107,
    "start_time": "2025-03-13T16:25:06.005Z"
   },
   {
    "duration": 191,
    "start_time": "2025-03-13T16:25:27.977Z"
   },
   {
    "duration": 3,
    "start_time": "2025-03-13T16:25:37.021Z"
   },
   {
    "duration": 19,
    "start_time": "2025-03-13T16:28:51.896Z"
   },
   {
    "duration": 3,
    "start_time": "2025-03-13T16:28:57.675Z"
   },
   {
    "duration": 916,
    "start_time": "2025-03-13T16:28:58.985Z"
   },
   {
    "duration": 19,
    "start_time": "2025-03-13T16:31:45.996Z"
   },
   {
    "duration": 4,
    "start_time": "2025-03-13T16:31:52.248Z"
   },
   {
    "duration": 45,
    "start_time": "2025-03-13T16:31:54.353Z"
   },
   {
    "duration": 45,
    "start_time": "2025-03-13T16:32:19.816Z"
   },
   {
    "duration": 8,
    "start_time": "2025-03-13T16:32:22.981Z"
   },
   {
    "duration": 281,
    "start_time": "2025-03-13T16:32:31.120Z"
   },
   {
    "duration": 301,
    "start_time": "2025-03-13T16:32:34.043Z"
   },
   {
    "duration": 11,
    "start_time": "2025-03-13T16:32:36.201Z"
   },
   {
    "duration": 135,
    "start_time": "2025-03-13T16:32:36.990Z"
   },
   {
    "duration": 328,
    "start_time": "2025-03-13T16:32:40.016Z"
   },
   {
    "duration": 347,
    "start_time": "2025-03-13T16:32:41.564Z"
   },
   {
    "duration": 335,
    "start_time": "2025-03-13T16:33:29.726Z"
   },
   {
    "duration": 4,
    "start_time": "2025-03-13T16:36:54.136Z"
   },
   {
    "duration": 8,
    "start_time": "2025-03-13T16:40:40.542Z"
   },
   {
    "duration": 8,
    "start_time": "2025-03-13T16:40:42.359Z"
   },
   {
    "duration": 3,
    "start_time": "2025-03-13T16:41:05.868Z"
   },
   {
    "duration": 167,
    "start_time": "2025-03-13T16:41:06.534Z"
   },
   {
    "duration": 65,
    "start_time": "2025-03-13T16:41:07.424Z"
   },
   {
    "duration": 8,
    "start_time": "2025-03-13T16:41:07.628Z"
   },
   {
    "duration": 47,
    "start_time": "2025-03-13T16:41:10.391Z"
   },
   {
    "duration": 15,
    "start_time": "2025-03-13T16:41:12.747Z"
   },
   {
    "duration": 11,
    "start_time": "2025-03-13T16:41:13.742Z"
   },
   {
    "duration": 6,
    "start_time": "2025-03-13T16:41:14.103Z"
   },
   {
    "duration": 15,
    "start_time": "2025-03-13T16:41:15.576Z"
   },
   {
    "duration": 13,
    "start_time": "2025-03-13T16:41:16.703Z"
   },
   {
    "duration": 15,
    "start_time": "2025-03-13T16:41:17.722Z"
   },
   {
    "duration": 5,
    "start_time": "2025-03-13T16:41:18.061Z"
   },
   {
    "duration": 23,
    "start_time": "2025-03-13T16:41:19.449Z"
   },
   {
    "duration": 45,
    "start_time": "2025-03-13T16:41:20.371Z"
   },
   {
    "duration": 9,
    "start_time": "2025-03-13T16:41:20.742Z"
   },
   {
    "duration": 5,
    "start_time": "2025-03-13T16:41:20.981Z"
   },
   {
    "duration": 25,
    "start_time": "2025-03-13T16:41:22.431Z"
   },
   {
    "duration": 63,
    "start_time": "2025-03-13T16:41:23.221Z"
   },
   {
    "duration": 17,
    "start_time": "2025-03-13T16:41:23.713Z"
   },
   {
    "duration": 6,
    "start_time": "2025-03-13T16:41:23.981Z"
   },
   {
    "duration": 31,
    "start_time": "2025-03-13T16:41:25.171Z"
   },
   {
    "duration": 39,
    "start_time": "2025-03-13T16:41:25.900Z"
   },
   {
    "duration": 7,
    "start_time": "2025-03-13T16:41:26.776Z"
   },
   {
    "duration": 45,
    "start_time": "2025-03-13T16:41:27.427Z"
   },
   {
    "duration": 11,
    "start_time": "2025-03-13T16:41:27.695Z"
   },
   {
    "duration": 20,
    "start_time": "2025-03-13T16:41:27.815Z"
   },
   {
    "duration": 21,
    "start_time": "2025-03-13T16:41:28.126Z"
   },
   {
    "duration": 24,
    "start_time": "2025-03-13T16:41:28.542Z"
   },
   {
    "duration": 17,
    "start_time": "2025-03-13T16:41:28.925Z"
   },
   {
    "duration": 41,
    "start_time": "2025-03-13T16:41:29.624Z"
   },
   {
    "duration": 9,
    "start_time": "2025-03-13T16:41:30.791Z"
   },
   {
    "duration": 360,
    "start_time": "2025-03-13T16:41:31.103Z"
   },
   {
    "duration": 371,
    "start_time": "2025-03-13T16:41:31.470Z"
   },
   {
    "duration": 11,
    "start_time": "2025-03-13T16:41:32.157Z"
   },
   {
    "duration": 120,
    "start_time": "2025-03-13T16:41:32.474Z"
   },
   {
    "duration": 347,
    "start_time": "2025-03-13T16:41:33.813Z"
   },
   {
    "duration": 362,
    "start_time": "2025-03-13T16:41:34.166Z"
   },
   {
    "duration": 289,
    "start_time": "2025-03-13T16:41:36.726Z"
   },
   {
    "duration": 7,
    "start_time": "2025-03-13T16:41:38.760Z"
   },
   {
    "duration": 10,
    "start_time": "2025-03-13T16:41:39.719Z"
   },
   {
    "duration": 2408,
    "start_time": "2025-03-13T17:38:32.113Z"
   },
   {
    "duration": 214,
    "start_time": "2025-03-13T17:38:34.523Z"
   },
   {
    "duration": 49,
    "start_time": "2025-03-13T17:38:34.739Z"
   },
   {
    "duration": 6,
    "start_time": "2025-03-13T17:38:34.791Z"
   },
   {
    "duration": 38,
    "start_time": "2025-03-13T17:38:34.799Z"
   },
   {
    "duration": 12,
    "start_time": "2025-03-13T17:38:34.840Z"
   },
   {
    "duration": 36,
    "start_time": "2025-03-13T17:38:34.855Z"
   },
   {
    "duration": 5,
    "start_time": "2025-03-13T17:38:34.894Z"
   },
   {
    "duration": 15,
    "start_time": "2025-03-13T17:38:34.901Z"
   },
   {
    "duration": 12,
    "start_time": "2025-03-13T17:38:34.920Z"
   },
   {
    "duration": 16,
    "start_time": "2025-03-13T17:38:34.934Z"
   },
   {
    "duration": 37,
    "start_time": "2025-03-13T17:38:34.952Z"
   },
   {
    "duration": 32,
    "start_time": "2025-03-13T17:38:34.992Z"
   },
   {
    "duration": 39,
    "start_time": "2025-03-13T17:38:35.027Z"
   },
   {
    "duration": 11,
    "start_time": "2025-03-13T17:38:35.087Z"
   },
   {
    "duration": 5,
    "start_time": "2025-03-13T17:38:35.100Z"
   },
   {
    "duration": 26,
    "start_time": "2025-03-13T17:38:35.107Z"
   },
   {
    "duration": 99,
    "start_time": "2025-03-13T17:38:35.135Z"
   },
   {
    "duration": 20,
    "start_time": "2025-03-13T17:38:35.237Z"
   },
   {
    "duration": 6,
    "start_time": "2025-03-13T17:38:35.259Z"
   },
   {
    "duration": 38,
    "start_time": "2025-03-13T17:38:35.266Z"
   },
   {
    "duration": 31,
    "start_time": "2025-03-13T17:38:35.306Z"
   },
   {
    "duration": 6,
    "start_time": "2025-03-13T17:38:35.339Z"
   },
   {
    "duration": 109,
    "start_time": "2025-03-13T17:38:35.347Z"
   },
   {
    "duration": 16,
    "start_time": "2025-03-13T17:38:35.458Z"
   },
   {
    "duration": 27,
    "start_time": "2025-03-13T17:38:35.476Z"
   },
   {
    "duration": 21,
    "start_time": "2025-03-13T17:38:35.505Z"
   },
   {
    "duration": 24,
    "start_time": "2025-03-13T17:38:35.531Z"
   },
   {
    "duration": 42,
    "start_time": "2025-03-13T17:38:35.557Z"
   },
   {
    "duration": 43,
    "start_time": "2025-03-13T17:38:35.602Z"
   },
   {
    "duration": 9,
    "start_time": "2025-03-13T17:38:35.647Z"
   },
   {
    "duration": 728,
    "start_time": "2025-03-13T17:38:35.660Z"
   },
   {
    "duration": 340,
    "start_time": "2025-03-13T17:38:36.390Z"
   },
   {
    "duration": 12,
    "start_time": "2025-03-13T17:38:36.732Z"
   },
   {
    "duration": 142,
    "start_time": "2025-03-13T17:38:36.746Z"
   },
   {
    "duration": 318,
    "start_time": "2025-03-13T17:38:36.891Z"
   },
   {
    "duration": 366,
    "start_time": "2025-03-13T17:38:37.211Z"
   },
   {
    "duration": 345,
    "start_time": "2025-03-13T17:38:37.579Z"
   },
   {
    "duration": 7,
    "start_time": "2025-03-13T17:38:37.926Z"
   },
   {
    "duration": 8,
    "start_time": "2025-03-13T17:38:37.935Z"
   },
   {
    "duration": 4,
    "start_time": "2025-03-13T17:39:54.343Z"
   },
   {
    "duration": 39,
    "start_time": "2025-03-13T17:40:00.421Z"
   },
   {
    "duration": 38,
    "start_time": "2025-03-13T17:40:05.835Z"
   },
   {
    "duration": 7,
    "start_time": "2025-03-13T17:41:00.929Z"
   },
   {
    "duration": 7,
    "start_time": "2025-03-13T17:41:04.314Z"
   },
   {
    "duration": 174,
    "start_time": "2025-03-16T01:13:44.614Z"
   },
   {
    "duration": 2171,
    "start_time": "2025-03-16T01:13:58.426Z"
   },
   {
    "duration": 226,
    "start_time": "2025-03-16T01:14:00.599Z"
   },
   {
    "duration": 45,
    "start_time": "2025-03-16T01:14:00.826Z"
   },
   {
    "duration": 6,
    "start_time": "2025-03-16T01:14:00.882Z"
   },
   {
    "duration": 36,
    "start_time": "2025-03-16T01:14:02.611Z"
   },
   {
    "duration": 13,
    "start_time": "2025-03-16T01:14:03.748Z"
   },
   {
    "duration": 11,
    "start_time": "2025-03-16T01:14:04.708Z"
   },
   {
    "duration": 5,
    "start_time": "2025-03-16T01:14:04.998Z"
   },
   {
    "duration": 15,
    "start_time": "2025-03-16T01:14:06.470Z"
   },
   {
    "duration": 12,
    "start_time": "2025-03-16T01:14:07.759Z"
   },
   {
    "duration": 15,
    "start_time": "2025-03-16T01:14:08.388Z"
   },
   {
    "duration": 4,
    "start_time": "2025-03-16T01:14:08.466Z"
   },
   {
    "duration": 26,
    "start_time": "2025-03-16T01:14:09.666Z"
   },
   {
    "duration": 37,
    "start_time": "2025-03-16T01:14:10.680Z"
   },
   {
    "duration": 8,
    "start_time": "2025-03-16T01:14:11.194Z"
   },
   {
    "duration": 4,
    "start_time": "2025-03-16T01:14:11.307Z"
   },
   {
    "duration": 24,
    "start_time": "2025-03-16T01:14:12.664Z"
   },
   {
    "duration": 110,
    "start_time": "2025-03-16T01:14:14.502Z"
   },
   {
    "duration": 5,
    "start_time": "2025-03-16T01:16:46.767Z"
   },
   {
    "duration": 4,
    "start_time": "2025-03-16T01:16:54.724Z"
   },
   {
    "duration": 3,
    "start_time": "2025-03-16T01:17:08.589Z"
   },
   {
    "duration": 4,
    "start_time": "2025-03-16T01:17:12.828Z"
   },
   {
    "duration": 3,
    "start_time": "2025-03-16T01:17:18.626Z"
   },
   {
    "duration": 4,
    "start_time": "2025-03-16T01:18:49.221Z"
   },
   {
    "duration": 3,
    "start_time": "2025-03-16T01:22:20.487Z"
   },
   {
    "duration": 60,
    "start_time": "2025-03-16T01:22:27.659Z"
   },
   {
    "duration": 3,
    "start_time": "2025-03-16T01:22:29.256Z"
   },
   {
    "duration": 4,
    "start_time": "2025-03-16T01:22:37.871Z"
   },
   {
    "duration": 4,
    "start_time": "2025-03-16T01:22:51.357Z"
   },
   {
    "duration": 4,
    "start_time": "2025-03-16T01:22:59.976Z"
   },
   {
    "duration": 4,
    "start_time": "2025-03-16T01:24:37.259Z"
   },
   {
    "duration": 2407,
    "start_time": "2025-03-16T04:36:51.412Z"
   },
   {
    "duration": 223,
    "start_time": "2025-03-16T04:36:53.821Z"
   },
   {
    "duration": 2,
    "start_time": "2025-03-16T04:37:06.272Z"
   },
   {
    "duration": 158,
    "start_time": "2025-03-16T04:37:07.944Z"
   },
   {
    "duration": 42,
    "start_time": "2025-03-16T04:37:10.418Z"
   },
   {
    "duration": 6,
    "start_time": "2025-03-16T04:37:11.591Z"
   },
   {
    "duration": 6,
    "start_time": "2025-03-16T04:37:23.982Z"
   },
   {
    "duration": 7,
    "start_time": "2025-03-16T04:37:31.836Z"
   },
   {
    "duration": 6,
    "start_time": "2025-03-16T04:37:47.482Z"
   },
   {
    "duration": 5,
    "start_time": "2025-03-16T04:40:16.207Z"
   },
   {
    "duration": 3,
    "start_time": "2025-03-16T04:43:35.971Z"
   },
   {
    "duration": 154,
    "start_time": "2025-03-16T04:43:40.428Z"
   },
   {
    "duration": 41,
    "start_time": "2025-03-16T04:43:45.697Z"
   },
   {
    "duration": 7,
    "start_time": "2025-03-16T04:43:45.801Z"
   },
   {
    "duration": 4,
    "start_time": "2025-03-16T04:44:21.090Z"
   },
   {
    "duration": 3,
    "start_time": "2025-03-16T04:56:36.561Z"
   },
   {
    "duration": 163,
    "start_time": "2025-03-16T04:56:37.721Z"
   },
   {
    "duration": 41,
    "start_time": "2025-03-16T04:56:39.606Z"
   },
   {
    "duration": 5,
    "start_time": "2025-03-16T04:56:39.716Z"
   },
   {
    "duration": 5,
    "start_time": "2025-03-16T04:56:55.265Z"
   },
   {
    "duration": 6,
    "start_time": "2025-03-16T04:57:06.458Z"
   },
   {
    "duration": 41,
    "start_time": "2025-03-16T04:57:12.124Z"
   },
   {
    "duration": 12,
    "start_time": "2025-03-16T04:57:17.332Z"
   },
   {
    "duration": 10,
    "start_time": "2025-03-16T04:57:18.525Z"
   },
   {
    "duration": 5,
    "start_time": "2025-03-16T04:57:19.473Z"
   },
   {
    "duration": 15,
    "start_time": "2025-03-16T04:57:21.643Z"
   },
   {
    "duration": 12,
    "start_time": "2025-03-16T04:57:28.629Z"
   },
   {
    "duration": 14,
    "start_time": "2025-03-16T04:57:29.778Z"
   },
   {
    "duration": 5,
    "start_time": "2025-03-16T04:57:30.413Z"
   },
   {
    "duration": 23,
    "start_time": "2025-03-16T04:57:32.329Z"
   },
   {
    "duration": 35,
    "start_time": "2025-03-16T04:57:34.371Z"
   },
   {
    "duration": 8,
    "start_time": "2025-03-16T04:57:35.305Z"
   },
   {
    "duration": 4,
    "start_time": "2025-03-16T04:57:36.043Z"
   },
   {
    "duration": 23,
    "start_time": "2025-03-16T04:57:37.153Z"
   },
   {
    "duration": 64,
    "start_time": "2025-03-16T04:57:38.678Z"
   },
   {
    "duration": 15,
    "start_time": "2025-03-16T04:57:43.976Z"
   },
   {
    "duration": 6,
    "start_time": "2025-03-16T04:57:44.492Z"
   },
   {
    "duration": 19,
    "start_time": "2025-03-16T04:57:45.838Z"
   },
   {
    "duration": 32,
    "start_time": "2025-03-16T04:57:46.965Z"
   },
   {
    "duration": 7,
    "start_time": "2025-03-16T04:57:47.618Z"
   },
   {
    "duration": 81,
    "start_time": "2025-03-16T04:57:48.101Z"
   },
   {
    "duration": 10,
    "start_time": "2025-03-16T04:57:48.598Z"
   },
   {
    "duration": 14,
    "start_time": "2025-03-16T04:57:49.127Z"
   },
   {
    "duration": 17,
    "start_time": "2025-03-16T04:57:49.225Z"
   },
   {
    "duration": 20,
    "start_time": "2025-03-16T04:57:49.680Z"
   },
   {
    "duration": 15,
    "start_time": "2025-03-16T04:57:50.144Z"
   },
   {
    "duration": 43,
    "start_time": "2025-03-16T04:57:50.716Z"
   },
   {
    "duration": 9,
    "start_time": "2025-03-16T04:58:14.812Z"
   },
   {
    "duration": 625,
    "start_time": "2025-03-16T04:58:15.762Z"
   },
   {
    "duration": 353,
    "start_time": "2025-03-16T04:58:16.656Z"
   },
   {
    "duration": 11,
    "start_time": "2025-03-16T04:58:17.790Z"
   },
   {
    "duration": 121,
    "start_time": "2025-03-16T04:58:18.389Z"
   },
   {
    "duration": 330,
    "start_time": "2025-03-16T04:58:23.629Z"
   },
   {
    "duration": 335,
    "start_time": "2025-03-16T04:58:24.277Z"
   },
   {
    "duration": 284,
    "start_time": "2025-03-16T04:58:29.728Z"
   },
   {
    "duration": 8,
    "start_time": "2025-03-16T04:59:10.959Z"
   },
   {
    "duration": 7,
    "start_time": "2025-03-16T05:07:11.003Z"
   },
   {
    "duration": 7,
    "start_time": "2025-03-16T05:07:12.387Z"
   },
   {
    "duration": 3,
    "start_time": "2025-03-16T05:18:44.941Z"
   },
   {
    "duration": 157,
    "start_time": "2025-03-16T05:18:46.235Z"
   },
   {
    "duration": 42,
    "start_time": "2025-03-16T05:18:48.809Z"
   },
   {
    "duration": 6,
    "start_time": "2025-03-16T05:18:49.663Z"
   },
   {
    "duration": 447,
    "start_time": "2025-03-16T10:26:28.340Z"
   },
   {
    "duration": 280,
    "start_time": "2025-03-16T10:26:28.789Z"
   },
   {
    "duration": 44,
    "start_time": "2025-03-16T10:26:29.071Z"
   },
   {
    "duration": 7,
    "start_time": "2025-03-16T10:26:29.118Z"
   },
   {
    "duration": 37,
    "start_time": "2025-03-16T10:26:29.126Z"
   },
   {
    "duration": 13,
    "start_time": "2025-03-16T10:26:29.165Z"
   },
   {
    "duration": 9,
    "start_time": "2025-03-16T10:26:29.179Z"
   },
   {
    "duration": 7,
    "start_time": "2025-03-16T10:26:29.189Z"
   },
   {
    "duration": 41,
    "start_time": "2025-03-16T10:26:29.197Z"
   },
   {
    "duration": 13,
    "start_time": "2025-03-16T10:26:29.241Z"
   },
   {
    "duration": 14,
    "start_time": "2025-03-16T10:26:29.256Z"
   },
   {
    "duration": 4,
    "start_time": "2025-03-16T10:26:29.272Z"
   },
   {
    "duration": 26,
    "start_time": "2025-03-16T10:26:29.278Z"
   },
   {
    "duration": 37,
    "start_time": "2025-03-16T10:26:29.332Z"
   },
   {
    "duration": 8,
    "start_time": "2025-03-16T10:26:29.371Z"
   },
   {
    "duration": 4,
    "start_time": "2025-03-16T10:26:29.381Z"
   },
   {
    "duration": 45,
    "start_time": "2025-03-16T10:26:29.386Z"
   },
   {
    "duration": 64,
    "start_time": "2025-03-16T10:26:29.433Z"
   },
   {
    "duration": 16,
    "start_time": "2025-03-16T10:26:29.498Z"
   },
   {
    "duration": 19,
    "start_time": "2025-03-16T10:26:29.516Z"
   },
   {
    "duration": 19,
    "start_time": "2025-03-16T10:26:29.536Z"
   },
   {
    "duration": 31,
    "start_time": "2025-03-16T10:26:29.559Z"
   },
   {
    "duration": 6,
    "start_time": "2025-03-16T10:26:29.592Z"
   },
   {
    "duration": 63,
    "start_time": "2025-03-16T10:26:29.600Z"
   },
   {
    "duration": 11,
    "start_time": "2025-03-16T10:26:29.665Z"
   },
   {
    "duration": 14,
    "start_time": "2025-03-16T10:26:29.678Z"
   },
   {
    "duration": 42,
    "start_time": "2025-03-16T10:26:29.694Z"
   },
   {
    "duration": 20,
    "start_time": "2025-03-16T10:26:29.740Z"
   },
   {
    "duration": 13,
    "start_time": "2025-03-16T10:26:29.762Z"
   },
   {
    "duration": 69,
    "start_time": "2025-03-16T10:26:29.777Z"
   },
   {
    "duration": 8,
    "start_time": "2025-03-16T10:26:29.849Z"
   },
   {
    "duration": 651,
    "start_time": "2025-03-16T10:26:29.859Z"
   },
   {
    "duration": 341,
    "start_time": "2025-03-16T10:26:30.512Z"
   },
   {
    "duration": 10,
    "start_time": "2025-03-16T10:26:30.855Z"
   },
   {
    "duration": 135,
    "start_time": "2025-03-16T10:26:30.866Z"
   },
   {
    "duration": 344,
    "start_time": "2025-03-16T10:26:31.003Z"
   },
   {
    "duration": 334,
    "start_time": "2025-03-16T10:26:31.349Z"
   },
   {
    "duration": 305,
    "start_time": "2025-03-16T10:26:31.684Z"
   },
   {
    "duration": 7,
    "start_time": "2025-03-16T10:26:31.992Z"
   },
   {
    "duration": 8,
    "start_time": "2025-03-16T10:26:32.000Z"
   }
  ],
  "kernelspec": {
   "display_name": "Python 3 (ipykernel)",
   "language": "python",
   "name": "python3"
  },
  "language_info": {
   "codemirror_mode": {
    "name": "ipython",
    "version": 3
   },
   "file_extension": ".py",
   "mimetype": "text/x-python",
   "name": "python",
   "nbconvert_exporter": "python",
   "pygments_lexer": "ipython3",
   "version": "3.9.19"
  },
  "toc": {
   "base_numbering": 1,
   "nav_menu": {},
   "number_sections": true,
   "sideBar": true,
   "skip_h1_title": false,
   "title_cell": "Table of Contents",
   "title_sidebar": "Contents",
   "toc_cell": false,
   "toc_position": {
    "height": "calc(100% - 180px)",
    "left": "10px",
    "top": "150px",
    "width": "426.188px"
   },
   "toc_section_display": true,
   "toc_window_display": true
  }
 },
 "nbformat": 4,
 "nbformat_minor": 2
}
