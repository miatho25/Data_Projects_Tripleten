{
 "cells": [
  {
   "cell_type": "markdown",
   "metadata": {
    "id": "9LMszr5T0Oft"
   },
   "source": "# Video Game Sales Analysis Project\n## Project Overview\n\nIn this project, you'll analyze video game sales data to identify patterns that determine a game's success. Working as an analyst for the online store Ice, you'll use this information to help plan future advertising campaigns.\n\n## Environment Setup and Required Libraries"
  },
  {
   "cell_type": "code",
   "execution_count": null,
   "metadata": {
    "id": "uoUK3_uG0O1A",
    "trusted": true
   },
   "outputs": [],
   "source": "# Import all required libraries\nimport pandas as pd\nimport numpy as np\nimport matplotlib.pyplot as plt\nimport seaborn as sns\n\n# Display settings\npd.set_option('display.max_columns', None)\n"
  },
  {
   "cell_type": "markdown",
   "metadata": {
    "id": "elxRwYBn0STd"
   },
   "source": "## Step 1: Loading and Initial Data Exploration\n\nFirst, let's load our dataset and examine its basic properties:"
  },
  {
   "cell_type": "code",
   "execution_count": null,
   "metadata": {
    "id": "e4Ic2Rpq0Sq9",
    "trusted": true
   },
   "outputs": [],
   "source": "# Load the dataset\ndf = pd.read_csv('/datasets/games.csv')\n\n# Display first few rows\ndf.head()"
  },
  {
   "cell_type": "code",
   "execution_count": null,
   "metadata": {
    "id": "sTug7Lxo0VnO",
    "trusted": true
   },
   "outputs": [],
   "source": "# Display basic information about the dataset\ndf.info()"
  },
  {
   "cell_type": "code",
   "execution_count": null,
   "metadata": {
    "id": "H54YzTNs0aAV",
    "trusted": true
   },
   "outputs": [],
   "source": "# Check for duplicate entries\ndf.duplicated().sum()"
  },
  {
   "cell_type": "markdown",
   "metadata": {
    "id": "7Dy9svZV0lAt"
   },
   "source": "### Key Questions to Answer:\n- What's the total number of records in our dataset?\n- What data types are present in each column?\n- Are there any obvious issues with the data?\n- Do we see any immediate patterns or anomalies?"
  },
  {
   "cell_type": "markdown",
   "metadata": {},
   "source": "# Total number of records"
  },
  {
   "cell_type": "code",
   "execution_count": null,
   "metadata": {
    "trusted": true
   },
   "outputs": [],
   "source": "print(f\"Total number of records: {df.shape[0]}\")\n"
  },
  {
   "cell_type": "markdown",
   "metadata": {},
   "source": "# Data types present in each Column\nThe data types present in each column include float64(6) and object(5)"
  },
  {
   "cell_type": "markdown",
   "metadata": {},
   "source": "# Obvious issues with data"
  },
  {
   "cell_type": "code",
   "execution_count": null,
   "metadata": {
    "trusted": true
   },
   "outputs": [],
   "source": "# Check missing values\ndf.isnull().sum()\n"
  },
  {
   "cell_type": "markdown",
   "metadata": {},
   "source": "Obvious issues includes missing values for year_of_realease, critic_score, user_score, rating"
  },
  {
   "cell_type": "markdown",
   "metadata": {},
   "source": "# Immediate patterns and anomalies"
  },
  {
   "cell_type": "code",
   "execution_count": null,
   "metadata": {
    "trusted": true
   },
   "outputs": [],
   "source": "# Check unique values in some key columns\nprint(\"Unique platforms:\", df['Platform'].unique())\nprint(\"Unique genres:\", df['Genre'].unique())\nprint(\"Unique ratings:\", df['Rating'].unique())\n"
  },
  {
   "cell_type": "markdown",
   "metadata": {},
   "source": "# Summary of patterns and anomalies\nCategory        Pattern                                Anomalies\n\nplatform Many active and legacy platforms\tObsolete platforms (e.g. 3DO, TG16)\n\nGenre\tPopular genres like Action, Sports, Shooter\tnan, vague genre like Misc\n\nRating\tStandard ESRB ratings present\tK-A (obsolete), RP, nan, rare AO"
  },
  {
   "cell_type": "markdown",
   "metadata": {
    "id": "sJtUdFp30oet"
   },
   "source": "## Step 2: Data Preparation\n\n### 2.1 Standardizing Column Names"
  },
  {
   "cell_type": "code",
   "execution_count": null,
   "metadata": {
    "id": "0UbeqYMh0lW2",
    "trusted": true
   },
   "outputs": [],
   "source": "# Convert column names to lowercase\ndf.columns = df.columns.str.lower()"
  },
  {
   "cell_type": "code",
   "execution_count": null,
   "metadata": {
    "id": "zNR2bWIf0qTp",
    "trusted": true
   },
   "outputs": [],
   "source": "# Verify the changes\ndf.columns"
  },
  {
   "cell_type": "markdown",
   "metadata": {
    "id": "hyWGqpK_0sb2"
   },
   "source": "### 2.2 Data Type Conversion"
  },
  {
   "cell_type": "code",
   "execution_count": null,
   "metadata": {
    "id": "bum4x2eG0uJe",
    "trusted": true
   },
   "outputs": [],
   "source": "# Check current data types\ndf.dtypes"
  },
  {
   "cell_type": "code",
   "execution_count": null,
   "metadata": {
    "id": "j6wGqKZB0uh9",
    "trusted": true
   },
   "outputs": [],
   "source": "# Make changes to data types if necessary\n\n# Convert 'year_of_release' to integer (optional: can leave as float if NaN exists)\n\n# Coerce any problematic values to NaN\ndf['year_of_release'] = pd.to_numeric(df['year_of_release'], errors='coerce').astype('Int64')\n"
  },
  {
   "cell_type": "code",
   "execution_count": null,
   "metadata": {
    "id": "u_2YXNQR1UKG",
    "trusted": true
   },
   "outputs": [],
   "source": "# Pay attention to the abbreviation TBD (to be determined). Specify how you intend to handle such cases.\n\n# Ensure 'user_score' is treated as string before converting\ndf['user_score'] = df['user_score'].astype(str)\n\n# Convert 'user_score' to numeric, coercing 'TBD' and other non-numeric values to NaN\ndf['user_score'] = pd.to_numeric(df['user_score'], errors='coerce')\n\n#check current data types\ndf.dtypes"
  },
  {
   "cell_type": "markdown",
   "metadata": {
    "id": "Op-5jvJA04du"
   },
   "source": "### 2.3 Handling Missing Values"
  },
  {
   "cell_type": "code",
   "execution_count": null,
   "metadata": {
    "id": "kgQM57IU03yn",
    "trusted": true
   },
   "outputs": [],
   "source": "# Examine missing values\n\n# Count missing values in each column\nmissing_values = df.isnull().sum()\n\n# Display only columns with missing values\nmissing_values[missing_values > 0]"
  },
  {
   "cell_type": "code",
   "execution_count": null,
   "metadata": {
    "id": "IbjVBu5H06kW",
    "trusted": true
   },
   "outputs": [],
   "source": "# Calculate percentage of missing values\n\n# Percentage of missing values\nmissing_percent = (df.isnull().sum() / len(df)) * 100\n\n# Display only columns with missing data\nmissing_percent[missing_percent > 0].sort_values(ascending=False)\n"
  },
  {
   "cell_type": "code",
   "execution_count": null,
   "metadata": {
    "trusted": true
   },
   "outputs": [],
   "source": "# Calculate missing values and percentage as a DataFrame\nmissing_values = df.isnull().sum().to_frame(name='Missing Values')\nmissing_values['% Missing'] = round((df.isnull().sum() / len(df)) * 100, 2)\n\n# Sort by percentage of missing values (descending)\nmissing_values = missing_values[missing_values['Missing Values'] > 0].sort_values(by='% Missing', ascending=False)\n\n# Display the result\nmissing_values\n"
  },
  {
   "cell_type": "markdown",
   "metadata": {},
   "source": "<div style=\"background-color:lightblue; color:darkblue\">\nI have updated the missing values with to_frame</div>"
  },
  {
   "cell_type": "markdown",
   "metadata": {
    "id": "7JKmuhxF07a3"
   },
   "source": "# Analyze patterns in missing values\nOver half of the games lack user scores and critic scores. Rating coming slightly under half at 40% with possible ESRB ratings missing. Year of release missing just over 1% of values with name and genre with a much smaller amount. \n\n"
  },
  {
   "cell_type": "code",
   "execution_count": null,
   "metadata": {
    "id": "NWeZ6Pj008iW",
    "trusted": true
   },
   "outputs": [],
   "source": "# Handle missing values based on analysis\n# Your code here to handle missing values according to your strategy\n\n# 1. Drop rows where 'year_of_release' or 'genre' is missing\ndf = df.dropna(subset=['year_of_release', 'genre'])\n\n# 2. Fill missing values in 'rating' with 'Unknown'\ndf['rating'] = df['rating'].fillna('Unknown')\n\n# 3. Ensure 'user_score' is numeric (convert 'TBD' to NaN already done earlier)\n# If not done already, make sure:\ndf['user_score'] = df['user_score'].astype(str)\ndf['user_score'] = pd.to_numeric(df['user_score'], errors='coerce')\n\n# 4. Leave 'user_score' and 'critic_score' as-is (NaN will be ignored in correlations/visualizations)\n\n# 5. Optionally drop rows where 'name' is missing \ndf = df.dropna(subset=['name'])\n\n# Final check on missing values\ndf.isnull().sum()"
  },
  {
   "cell_type": "markdown",
   "metadata": {
    "id": "NgRdPJYJ1ZKG"
   },
   "source": "### 2.4 Calculate Total Sales"
  },
  {
   "cell_type": "code",
   "execution_count": null,
   "metadata": {
    "id": "rc_LWvmr1Zj3",
    "trusted": true
   },
   "outputs": [],
   "source": "# Calculate total sales across all regions and put them in a different column\n\n# Calculate total sales by summing across all regions\ndf['total_sales'] = df[['na_sales', 'eu_sales', 'jp_sales', 'other_sales']].sum(axis=1)\n\n# Preview the updated DataFrame\ndf[['name', 'na_sales', 'eu_sales', 'jp_sales', 'other_sales', 'total_sales']].head()"
  },
  {
   "cell_type": "markdown",
   "metadata": {
    "id": "Jt9oL4lS1ePu"
   },
   "source": "# Step 3: Analyzing Video Game Sales Data\n\n## 3.1 Temporal Analysis of Game Releases\nLet's first examine the distribution of game releases across different years to understand our data's coverage and significance:"
  },
  {
   "cell_type": "code",
   "execution_count": null,
   "metadata": {
    "id": "DaxQrjBNGUuy",
    "trusted": true
   },
   "outputs": [],
   "source": "# Create a DataFrame with game releases by year\ngames_per_year = df['year_of_release'].value_counts().sort_index()"
  },
  {
   "cell_type": "code",
   "execution_count": null,
   "metadata": {
    "id": "sZjP-hb61fIf",
    "trusted": true
   },
   "outputs": [],
   "source": "# Visualize the distribution of games across years\nimport matplotlib.pyplot as plt\n\nplt.figure(figsize=(12, 6))\ngames_per_year.plot(kind='bar')\nplt.title('Number of Games Released per Year')\nplt.xlabel('Year of Release')\nplt.ylabel('Number of Games')\nplt.xticks(rotation=45)\nplt.grid(axis='y')\nplt.tight_layout()\nplt.show()\n"
  },
  {
   "cell_type": "code",
   "execution_count": null,
   "metadata": {
    "id": "6hJ4jyLq1gIN",
    "trusted": true
   },
   "outputs": [],
   "source": "# Display summary statistics for each year\ngames_per_year.describe()"
  },
  {
   "cell_type": "markdown",
   "metadata": {
    "id": "v4EHTXiUGeh6"
   },
   "source": "### Questions to Consider:\n- Which years show significant numbers of game releases? \n\nPeaks in game releases (typically mid-2000s to early 2010s)\nDrop-offs in older years (1980s, early 90s)\nPossibly a decline toward 2016 due to incomplete data\n\n- Are there any notable trends or patterns in the number of releases?\n\nIncreasing number of games from 1995 to ~2008–2012\nDecline after 2013–2016 could reflect market saturation, digital distribution (not captured in this dataset), or missing data\n\n- Is there enough recent data to make predictions for 2017?\n\nYes, if we focus on 2012 to 2016, we have:\n1.A stable and consistent set of game releases\n2.A modern console cycle (PS4, Xbox One, etc.)\n3.Recent trends and platform performance"
  },
  {
   "cell_type": "markdown",
   "metadata": {
    "id": "-rQehsGk11-W"
   },
   "source": "## 3.2 Platform Sales Analysis Over Time\n\nNow let's analyze how sales vary across platforms and years:"
  },
  {
   "cell_type": "code",
   "execution_count": null,
   "metadata": {
    "id": "6czXW9Ww13AX",
    "scrolled": true,
    "trusted": true
   },
   "outputs": [],
   "source": "# Calculate total sales by platform and year\nplatform_year_sales = df.groupby(['year_of_release', 'platform'])['total_sales'].sum().unstack().fillna(0)\n\n# Preview the table\nplatform_year_sales.tail()"
  },
  {
   "cell_type": "code",
   "execution_count": null,
   "metadata": {
    "id": "Dz_1_sNEGlDS",
    "trusted": true
   },
   "outputs": [],
   "source": "# Create a heatmap of platform sales over time\nimport seaborn as sns\nimport matplotlib.pyplot as plt\n\nplt.figure(figsize=(16, 10))\nsns.heatmap(platform_year_sales.T, cmap='YlGnBu', linewidths=0.5)\n\nplt.title('Platform Sales by Year (in millions)', fontsize=16)\nplt.xlabel('Year of Release')\nplt.ylabel('Platform')\nplt.tight_layout()\nplt.show()\n"
  },
  {
   "cell_type": "code",
   "execution_count": null,
   "metadata": {
    "id": "DPIZovwbGmLy",
    "trusted": true
   },
   "outputs": [],
   "source": "# Identify platforms with declining sales\n\n# Total sales by platform and year\nplatform_trends = df.groupby(['year_of_release', 'platform'])['total_sales'].sum().reset_index()\n\n# Pivot the table for easier plotting\npivot_table = platform_trends.pivot(index='year_of_release', columns='platform', values='total_sales')\n\n# Focus on platforms with the highest overall sales\ntop_platforms = df.groupby('platform')['total_sales'].sum().sort_values(ascending=False).head(10).index\n\n# Plot trends for those platforms\nplt.figure(figsize=(14, 8))\n\nfor platform in top_platforms:\n    plt.plot(pivot_table.index, pivot_table[platform], label=platform)\n\nplt.title('Total Sales Over Time by Platform')\nplt.xlabel('Year of Release')\nplt.ylabel('Total Sales (millions)')\nplt.legend()\nplt.grid(True)\nplt.tight_layout()\nplt.show()\n"
  },
  {
   "cell_type": "markdown",
   "metadata": {
    "id": "Jik7JecCGoNa"
   },
   "source": "### Questions to Consider:\n- Which platforms show consistent sales over time?\n\nFrom the line plot and heatmap, platforms such as:\nPS2, DS, PS3, and X360 demonstrated strong and steady sales across multiple years.\nIn more recent years, PS4 and XOne began to show consistent growth, especially from 2013 onward.\nThese platforms had long lifespans and were dominant during their console generation cycles.\n\n- Can you identify platforms that have disappeared from the market?\n\nYes,several platforms experienced a rise in popularity followed by a complete disappearance from recent years. Examples include:\n\nWii: Sales peaked around 2008–2010, then declined sharply and disappeared by 2014.\n\nPS2, DS, PSP, X360: Strong early 2000s platforms, mostly disappeared by 2013–2015.\n\nOlder platforms like GameCube, N64, GBA, and SNES also show no activity after the mid-2000s.\n\nThis decline usually follows the release of next-generation consoles\n\n- What's the typical lifecycle of a gaming platform?\n\nMost platforms have a 6–8 year lifecycle, with some outliers lasting longer due to popularity or backward compatibility (e.g., PS2)."
  },
  {
   "cell_type": "markdown",
   "metadata": {
    "id": "Yk_tUP5y17Wv"
   },
   "source": "## 3.3 Determining Relevant Time Period\n\nBased on your analysis above, determine the appropriate time period for predicting 2017 sales:"
  },
  {
   "cell_type": "code",
   "execution_count": null,
   "metadata": {
    "id": "hVfuRMjyFU3i",
    "trusted": true
   },
   "outputs": [],
   "source": "# Your code here to filter the dataset to relevant years\n# Example:\n# relevant_years = [XXXX, XXXX, XXXX] # Replace with your chosen years\n# df_relevant = df[df['year_of_release'].isin(relevant_years)]\n\n# Filter to relevant years (2012–2016)\nrelevant_years = list(range(2012, 2017))\ndf_relevant = df[df['year_of_release'].isin(relevant_years)]\n\n# Confirm the filter\ndf_relevant['year_of_release'].value_counts().sort_index()\n\n\n# Justify your choice with data\n\n# Game count per year\ngames_per_year = df.groupby('year_of_release')['name'].count()\n\n# Total global sales per year\nsales_per_year = df.groupby('year_of_release')['total_sales'].sum()\n\n# Combine into a single DataFrame\nyearly_summary = pd.DataFrame({\n    'Number of Games': games_per_year,\n    'Total Global Sales (millions)': sales_per_year\n})\n\n# Filter for the last 10 years (2007–2016) to show the trend\nyearly_summary_recent = yearly_summary.loc[2007:2016]\n\n# Display the summary\ndisplay(yearly_summary_recent)\n\n"
  },
  {
   "cell_type": "code",
   "execution_count": null,
   "metadata": {
    "trusted": true
   },
   "outputs": [],
   "source": "#updated time period selection\n\n# Filter to relevant years (2014–2016) based on recent market trends\nrelevant_years = list(range(2014, 2017))\ndf_relevant = df[df['year_of_release'].isin(relevant_years)]\n\n# Confirm the filter\ndf_relevant['year_of_release'].value_counts().sort_index()\n\n# Justification\n\n# Game count per year\ngames_per_year = df.groupby('year_of_release')['name'].count()\n\n# Total global sales per year\nsales_per_year = df.groupby('year_of_release')['total_sales'].sum()\n\n# Combine into a single DataFrame\nyearly_summary = pd.DataFrame({\n    'Number of Games': games_per_year,\n    'Total Global Sales (millions)': sales_per_year\n})\n\n# Focus on recent years only\nyearly_summary_recent = yearly_summary.loc[2013:2016]\n\n# Display the summary\ndisplay(yearly_summary_recent)\n"
  },
  {
   "cell_type": "markdown",
   "metadata": {},
   "source": "<div style=\"background-color:lightblue; color:darkblue\">\nI have updated the time period selection to 2013-2016 for forecasting 2017 sales</div>"
  },
  {
   "cell_type": "markdown",
   "metadata": {
    "id": "8g_CURLWGzYy"
   },
   "source": "### Document Your Decision:\n- What years did you select and why?\n\nI selected the years 2012 to 2016 as the relevant time period for analyzing and predicting 2017 video game sales.\n\nThis 5-year window provides a balance between having enough historical data and ensuring that the market conditions are still relevant to current trends\n\n- How does this period reflect current market conditions?\n\nThese years include the latest active console generation at the time — PlayStation 4, Xbox One, Nintendo 3DS, and PC.\n\nThe data captures mature sales trends for modern platforms that are still active in 2017.\n\nObsolete platforms such as PS2, Wii, and DS have already been phased out by this point, ensuring the data is focused on current systems\n\n- What factors influenced your decision?\n\nVolume of game releases: The number of games released per year remains stable from 2012 onward.\n\nTotal global sales: Sales data during this period is high and consistent, indicating active consumer demand.\n\nPlatform relevance: Platforms dominating this window are still on the market in 2017.\n\nLifecycle alignment: Platforms like PS4 and XOne launched in 2013, and this time frame captures their growth and maturity phases.\n\nConclusion: This time period provides a realistic and relevant foundation for forecasting future game performance.\n\n"
  },
  {
   "cell_type": "markdown",
   "metadata": {
    "id": "tNgNPQdYFqka"
   },
   "source": "## 3.4 Platform Performance Analysis\n\nUsing your selected time period, let's analyze platform performance:"
  },
  {
   "cell_type": "code",
   "execution_count": null,
   "metadata": {
    "id": "1bPiDIJ3FsAC",
    "trusted": true
   },
   "outputs": [],
   "source": "# Analyze platform sales trends\n\n# Total sales by platform for the selected period (2012–2016)\nplatform_sales = df_relevant.groupby('platform')['total_sales'].sum().sort_values(ascending=False)\n"
  },
  {
   "cell_type": "code",
   "execution_count": null,
   "metadata": {
    "id": "49INtJV4Fv-i",
    "trusted": true
   },
   "outputs": [],
   "source": "# Sort platforms by total sales\n# Display sorted sales\nplatform_sales\n"
  },
  {
   "cell_type": "code",
   "execution_count": null,
   "metadata": {
    "id": "nB8xsmAuG38a",
    "trusted": true
   },
   "outputs": [],
   "source": "# Visualize top platforms\n\n# Plot total sales of top platforms\nplt.figure(figsize=(10, 6))\nplatform_sales.plot(kind='bar')\nplt.title('Total Sales by Platform (2012–2016)')\nplt.ylabel('Total Sales (millions)')\nplt.xlabel('Platform')\nplt.grid(axis='y')\nplt.tight_layout()\nplt.show()\n\n\n# Calculate year-over-year growth for each platform\n\n# Group by year and platform, then sum total sales\nplatform_yearly_sales = df_relevant.groupby(['year_of_release', 'platform'])['total_sales'].sum().reset_index()\n\n# Pivot table: years as rows, platforms as columns\nplatform_sales_pivot = platform_yearly_sales.pivot(index='year_of_release', columns='platform', values='total_sales').fillna(0)\n\n# Calculate YoY growth rates for each platform\nplatform_growth = platform_sales_pivot.pct_change().fillna(0) * 100  # Convert to percentage\n\n# Display growth table\nplatform_growth.round(2).tail()\n\n# Your code here to calculate and visualize platform growth rates\n\n# Group by year and platform, then sum total sales\nplatform_yearly_sales = df_relevant.groupby(['year_of_release', 'platform'])['total_sales'].sum().reset_index()\n\n# Pivot table: years as rows, platforms as columns\nplatform_sales_pivot = platform_yearly_sales.pivot(index='year_of_release', columns='platform', values='total_sales').fillna(0)\n\n# Calculate YoY growth rates for each platform\nplatform_growth = platform_sales_pivot.pct_change().fillna(0) * 100  # Convert to percentage\n\n# Display growth table\nplatform_growth.round(2).tail()\n\n"
  },
  {
   "cell_type": "markdown",
   "metadata": {
    "id": "gss9CaRLG8F6"
   },
   "source": "## 3.5 Sales Distribution Analysis\n\nLet's examine the distribution of sales across platforms:"
  },
  {
   "cell_type": "code",
   "execution_count": null,
   "metadata": {
    "id": "Tt86KnSmG9Ia",
    "trusted": true
   },
   "outputs": [],
   "source": "# Create box plot of sales by platform\n\n# Set figure size\nplt.figure(figsize=(14, 7))\n\n# Create a box plot of total sales per platform\nsns.boxplot(data=df_relevant, x='platform', y='total_sales', showfliers=False)\n\n# Enhance readability\nplt.yscale('log')  # Log scale to handle outliers\nplt.title('Distribution of Global Sales by Platform (2012–2016)')\nplt.xlabel('Platform')\nplt.ylabel('Global Sales (millions, log scale)')\nplt.xticks(rotation=45)\nplt.grid(True)\nplt.tight_layout()\nplt.show()\n"
  },
  {
   "cell_type": "markdown",
   "metadata": {},
   "source": "<div style=\"background-color:lightblue; color:darkblue\">\nGreat suggestion, I have hidden the outliers by adding showfliers_False to the original code</div>"
  },
  {
   "cell_type": "code",
   "execution_count": null,
   "metadata": {
    "id": "V34QXjQbG-Ti",
    "trusted": true
   },
   "outputs": [],
   "source": "# Calculate detailed statistics for each platform\n\n# Group by platform and describe sales stats\nplatform_stats = df_relevant.groupby('platform')['total_sales'].describe().round(2)\n\n# Display results\nplatform_stats\n"
  },
  {
   "cell_type": "code",
   "execution_count": null,
   "metadata": {
    "id": "ly_DyKUGHBAi",
    "trusted": true
   },
   "outputs": [],
   "source": "# Choose a popular platform based on your previous analysis\n\n# Filter the relevant dataset for PS4 only\nps4_data = df_relevant[df_relevant['platform'] == 'PS4']\n\n# Preview data\nps4_data[['name', 'critic_score', 'user_score', 'total_sales']].head()\n"
  },
  {
   "cell_type": "code",
   "execution_count": null,
   "metadata": {
    "id": "HAqsDecvHCJ1",
    "trusted": true
   },
   "outputs": [],
   "source": "# Create scatter plots for both critic and user scores\n"
  },
  {
   "cell_type": "code",
   "execution_count": null,
   "metadata": {
    "id": "V5SxzosMHHCL",
    "trusted": true
   },
   "outputs": [],
   "source": "# Critic Scores\nplt.figure(figsize=(8, 6))\nsns.scatterplot(data=ps4_data, x='critic_score', y='total_sales')\nplt.title('Critic Score vs. Total Sales (PS4)')\nplt.xlabel('Critic Score')\nplt.ylabel('Total Sales (millions)')\nplt.grid(True)\nplt.tight_layout()\nplt.show()\n\n# User Scores\nplt.figure(figsize=(8, 6))\nsns.scatterplot(data=ps4_data, x='user_score', y='total_sales')\nplt.title('User Score vs. Total Sales (PS4)')\nplt.xlabel('User Score')\nplt.ylabel('Total Sales (millions)')\nplt.grid(True)\nplt.tight_layout()\nplt.show()\n\n\n# Calculate correlations\n\n# Correlation between critic_score and total_sales\ncritic_corr = ps4_data[['critic_score', 'total_sales']].corr().iloc[0, 1]\n\n# Correlation between user_score and total_sales\nuser_corr = ps4_data[['user_score', 'total_sales']].corr().iloc[0, 1]\n\n# Display results\nprint(f\"Correlation between Critic Score and Sales (PS4): {critic_corr:.2f}\")\nprint(f\"Correlation between User Score and Sales (PS4): {user_corr:.2f}\")\n"
  },
  {
   "cell_type": "markdown",
   "metadata": {
    "id": "hhLvhB8-HKk6"
   },
   "source": "## 3.7 Cross-Platform Comparison\n\nCompare sales performance of games across different platforms:"
  },
  {
   "cell_type": "code",
   "execution_count": null,
   "metadata": {
    "id": "nVdLwEw3HLwK",
    "trusted": true
   },
   "outputs": [],
   "source": "# Find games released on multiple platforms\n#I will group by game name and count how many platforms each game appears on:\n\n# Count how many platforms each game appears on\nmulti_platform_games = df_relevant.groupby('name')['platform'].nunique()\n\n# Filter for games released on 2 or more platforms\nmulti_platform_games = multi_platform_games[multi_platform_games > 1]\n\n# Get only the records for these multi-platform games\ndf_multi_platform = df_relevant[df_relevant['name'].isin(multi_platform_games.index)]\n"
  },
  {
   "cell_type": "code",
   "execution_count": null,
   "metadata": {
    "id": "ME1egJbSHM-i",
    "trusted": true
   },
   "outputs": [],
   "source": "# Compare sales across platforms for these games\n# Your code here to analyze and visualize cross-platform performance\n\n# I'll visualize how the same game performs differently by platform and use a box plot to show general trends:\n\nplt.figure(figsize=(14, 7))\nsns.boxplot(data=df_multi_platform, x='platform', y='total_sales')\n\nplt.title('Sales Distribution of Multi-Platform Games (2012–2016)')\nplt.xlabel('Platform')\nplt.ylabel('Total Sales (millions)')\nplt.xticks(rotation=45)\nplt.grid(True)\nplt.tight_layout()\nplt.show()\n\n\n# Compare Average sale per platform for shared games\n\n# Calculate average sales for each game on each platform\navg_sales = df_multi_platform.groupby(['name', 'platform'])['total_sales'].mean().reset_index()\n\n# Pivot to compare side by side\nsales_comparison = avg_sales.pivot(index='name', columns='platform', values='total_sales')\n\n# Show first few rows\nsales_comparison.head()\n"
  },
  {
   "cell_type": "markdown",
   "metadata": {
    "id": "7pIIgylYHOTa"
   },
   "source": "## 3.8 Genre Analysis\n\nFinally, let's examine the distribution of games by genre:"
  },
  {
   "cell_type": "code",
   "execution_count": null,
   "metadata": {
    "id": "EMqroBuLHPZN",
    "trusted": true
   },
   "outputs": [],
   "source": "# Analyze genre performance\n\n# Total sales by genre\ngenre_sales = df_relevant.groupby('genre')['total_sales'].sum().sort_values(ascending=False)\n\n# Display sales\ngenre_sales\n"
  },
  {
   "cell_type": "code",
   "execution_count": null,
   "metadata": {
    "id": "1lOBrjpDHQbq",
    "trusted": true
   },
   "outputs": [],
   "source": "# Sort genres by total sales\n\n# Group by genre and sum total sales, then sort in descending order\ngenre_sales = df_relevant.groupby('genre')['total_sales'].sum().sort_values(ascending=False)\n\n# Display result\ngenre_sales\n\n"
  },
  {
   "cell_type": "code",
   "execution_count": null,
   "metadata": {
    "id": "im6TIeOoHRbz",
    "trusted": true
   },
   "outputs": [],
   "source": "# Visualize genre distribution\n\n# Bar plot of total sales by genre\nplt.figure(figsize=(12, 6))\ngenre_sales.plot(kind='bar', color='skyblue')\n\nplt.title('Total Global Sales by Genre (2012–2016)')\nplt.xlabel('Genre')\nplt.ylabel('Total Sales (millions)')\nplt.grid(axis='y')\nplt.tight_layout()\nplt.show()\n"
  },
  {
   "cell_type": "code",
   "execution_count": null,
   "metadata": {
    "id": "B_f_MP3THSX7",
    "trusted": true
   },
   "outputs": [],
   "source": "# Calculate market share for each genre\n\n# Calculate percentage share of each genre\ngenre_market_share = (genre_sales / genre_sales.sum()) * 100\n\n\n# Pie chart of market share\nplt.figure(figsize=(9, 9))\nplt.pie(genre_market_share, labels=genre_market_share.index, autopct='%1.1f%%', startangle=140)\nplt.title('Genre Market Share (2012–2016)')\nplt.tight_layout()\nplt.show()\n\n"
  },
  {
   "cell_type": "markdown",
   "metadata": {
    "id": "1tSmB_lEHTrj"
   },
   "source": "### Key Questions for Genre Analysis:\n- Which genres consistently perform well?\n- Are there any genres showing recent growth or decline?\n- How does the average performance vary across genres?"
  },
  {
   "cell_type": "markdown",
   "metadata": {},
   "source": "# Which genres consistently perform well?\n\nBased on total global sales from 2012 to 2016, the top-performing genres are:\n\nAction — by far the most dominant, likely due to a large number of releases and popularity on major platforms.\n\nShooter — consistently strong, driven by franchises like Call of Duty, Battlefield, etc.\n\nSports — performs well every year, with reliable franchises like FIFA and NBA 2K.\n\nThese genres have a large player base, broad appeal, and frequent releases across all major platforms."
  },
  {
   "cell_type": "code",
   "execution_count": null,
   "metadata": {
    "trusted": true
   },
   "outputs": [],
   "source": "# Are there any genres showing recent growth or decline?\n# To determine this, I can group by both genre and year, then sum total sales:\n\n# Total sales by genre and year\ngenre_trends = df_relevant.groupby(['year_of_release', 'genre'])['total_sales'].sum().unstack().fillna(0)\n\n# Plot example for top genres\ngenre_trends[['Action', 'Shooter', 'Sports']].plot(figsize=(12, 6), title='Top Genre Trends (2012–2016)')\n"
  },
  {
   "cell_type": "markdown",
   "metadata": {},
   "source": "# Conclusion for recent growth or decline\nFrom such a plot, you may observe:\n\nAction and Shooter genres have relatively stable performance.\n\nRole-Playing may show growth due to titles like The Witcher 3 and Pokemon.\n\nSome genres like Racing and Puzzle may be declining in relevance."
  },
  {
   "cell_type": "code",
   "execution_count": null,
   "metadata": {
    "trusted": true
   },
   "outputs": [],
   "source": "#Average performance arcoss Genres\navg_sales_per_genre = df_relevant.groupby('genre')['total_sales'].mean().sort_values(ascending=False)\navg_sales_per_genre\n"
  },
  {
   "cell_type": "markdown",
   "metadata": {},
   "source": "# Conclusion for Average performance\n\nShooter and Role-Playing games often have higher average sales per title — fewer games, but they sell more.\n\nPuzzle, Strategy, and Simulation genres have lower average sales, suggesting niche markets."
  },
  {
   "cell_type": "markdown",
   "metadata": {},
   "source": "# Summary\n\nTop sellers: Action, Shooter, Sports\n\nHigh average earners: Shooter, Role-Playing\n\nPotential growth areas: Role-Playing, Adventure\n\nDeclining or niche: Puzzle, Strategy, Simulation\n\nThis analysis can help shape 2017 marketing and release strategies for targeted genres."
  },
  {
   "cell_type": "markdown",
   "metadata": {
    "id": "ktkaib-aHbPy"
   },
   "source": "# Step 4: Regional Market Analysis and User Profiles\n\nIn this section, we will analyze the gaming market characteristics across three major regions: North America (NA), Europe (EU), and Japan (JP). Our analysis will focus on platform preferences, genre popularity, and the impact of ESRB ratings in each region.\n\n## 4.1 Regional Platform Analysis\n\nLet's begin by examining platform performance across different regions:"
  },
  {
   "cell_type": "code",
   "execution_count": null,
   "metadata": {
    "id": "MTA3QH6OHxMR",
    "trusted": true
   },
   "outputs": [],
   "source": "# Function to analyze platform performance by region\n\ndef top_platforms_by_region(df, region_col, top_n=5):\n    # Group by platform and sum sales for the region\n    region_platform_sales = df.groupby('platform')[region_col].sum().sort_values(ascending=False).head(top_n)\n    \n    # Display the results\n    print(f\"Top {top_n} platforms in {region_col.upper()}:\")\n    display(region_platform_sales)\n    \n    # Plot the results\n    plt.figure(figsize=(8, 5))\n    region_platform_sales.plot(kind='bar', color='teal')\n    plt.title(f'Top {top_n} Platforms in {region_col.upper()}')\n    plt.xlabel('Platform')\n    plt.ylabel(f'Sales in {region_col.upper()} (millions)')\n    plt.grid(axis='y')\n    plt.tight_layout()\n    plt.show()\n\n"
  },
  {
   "cell_type": "code",
   "execution_count": null,
   "metadata": {
    "id": "4kfm3Cd6HzAs",
    "trusted": true
   },
   "outputs": [],
   "source": "# Analyze each region\n\n#North America\ntop_platforms_by_region(df_relevant, 'na_sales')\n\n#Europe\ntop_platforms_by_region(df_relevant, 'eu_sales')\n\n#Japan\ntop_platforms_by_region(df_relevant, 'jp_sales')\n\n"
  },
  {
   "cell_type": "markdown",
   "metadata": {
    "id": "EA8GXFT8H1Lz"
   },
   "source": "### Cross-Regional Platform Comparison\n\nLet's create a comparative analysis of platform performance across regions:"
  },
  {
   "cell_type": "code",
   "execution_count": null,
   "metadata": {
    "id": "1pA08dxLH4ED",
    "trusted": true
   },
   "outputs": [],
   "source": "# Create a comparative platform analysis\n\n# Calculate total sales per platform by region\n\n# Sum sales by platform and region\nregional_platform_sales = df_relevant.groupby('platform')[['na_sales', 'eu_sales', 'jp_sales']].sum()\n\n# Sort platforms by total global sales to get top platforms\ntop_platforms = df_relevant.groupby('platform')['total_sales'].sum().sort_values(ascending=False).head(5).index\n\n# Filter only top platforms\nregional_top_platforms = regional_platform_sales.loc[top_platforms]\n\n# Display table\nregional_top_platforms\n"
  },
  {
   "cell_type": "code",
   "execution_count": null,
   "metadata": {
    "id": "8tz6_xe8H5Hj",
    "trusted": true
   },
   "outputs": [],
   "source": "# Visualize cross-regional comparison for top platforms\n\n# Plot grouped bar chart\nregional_top_platforms.plot(kind='bar', figsize=(10, 6))\nplt.title('Top 5 Platforms by Region (2012–2016)')\nplt.xlabel('Platform')\nplt.ylabel('Sales (millions)')\nplt.xticks(rotation=0)\nplt.grid(axis='y')\nplt.legend(title='Region')\nplt.tight_layout()\nplt.show()\n"
  },
  {
   "cell_type": "markdown",
   "metadata": {
    "id": "7LUOIUpAH6ac"
   },
   "source": "## 4.2 Regional Genre Analysis\n\nNow let's examine genre preferences across regions:"
  },
  {
   "cell_type": "code",
   "execution_count": null,
   "metadata": {
    "id": "cTQ9P-eLH7rD",
    "trusted": true
   },
   "outputs": [],
   "source": "# Function to analyze genre performance by region\n\ndef top_genres_by_region(df, region_col, top_n=5):\n    # Group by genre and sum sales in the specified region\n    genre_sales = (\n        df.groupby('genre')[region_col]\n        .sum()\n        .sort_values(ascending=False)\n        .head(top_n)\n    )\n\n    # Plotting\n    plt.figure(figsize=(8, 5))\n    genre_sales.plot(kind='bar', color='coral')\n    plt.title(f'Top {top_n} Genres in {region_col.upper()}')\n    plt.xlabel('Genre')\n    plt.ylabel(f'Sales in {region_col.upper()} (millions)')\n    plt.grid(axis='y')\n    plt.tight_layout()\n    plt.show()\n\n    # Print sales for reference\n    print(f\"\\nTop {top_n} genres in {region_col.upper()}:\")\n    print(genre_sales)\n\n    \n# North America\ntop_genres_by_region(df_relevant, 'na_sales')\n\n#Europe\ntop_genres_by_region(df_relevant, 'eu_sales')\n\n#Japan\ntop_genres_by_region(df_relevant, 'jp_sales')\n"
  },
  {
   "cell_type": "markdown",
   "metadata": {
    "id": "5HxLhvdWH-QD"
   },
   "source": "### Cross-Regional Genre Comparison\n\nLet's compare genre preferences across regions:"
  },
  {
   "cell_type": "code",
   "execution_count": null,
   "metadata": {
    "id": "GnkNJ3E2H_3j",
    "trusted": true
   },
   "outputs": [],
   "source": "# Create a comparative genre analysis\n\n# Group by genre and sum sales in each region\nregional_genre_sales = df_relevant.groupby('genre')[['na_sales', 'eu_sales', 'jp_sales']].sum()\n\n# Sort by total sales in NA for consistent comparison\nregional_genre_sales = regional_genre_sales.sort_values(by='na_sales', ascending=False)\n\n# Display the table\nregional_genre_sales\n"
  },
  {
   "cell_type": "code",
   "execution_count": null,
   "metadata": {
    "trusted": true
   },
   "outputs": [],
   "source": "# visualize genre preference\n\n# Plot grouped bar chart\nregional_genre_sales.plot(kind='bar', figsize=(12, 6))\nplt.title('Genre Sales Comparison by Region (2012–2016)')\nplt.xlabel('Genre')\nplt.ylabel('Sales (millions)')\nplt.xticks(rotation=45)\nplt.legend(title='Region')\nplt.grid(axis='y')\nplt.tight_layout()\nplt.show()\n"
  },
  {
   "cell_type": "markdown",
   "metadata": {
    "id": "yj44c5ZWIBkr"
   },
   "source": "## 4.3 ESRB Rating Impact Analysis\n\nFinally, let's examine how ESRB ratings affect sales in each region:"
  },
  {
   "cell_type": "code",
   "execution_count": null,
   "metadata": {
    "id": "BQEvewWVICkr",
    "trusted": true
   },
   "outputs": [],
   "source": "# Function to analyze ESRB rating impact\n\ndef esrb_impact_by_region(df, region_col):\n    # Group by ESRB rating and sum regional sales\n    esrb_sales = (\n        df.groupby('rating')[region_col]\n        .sum()\n        .sort_values(ascending=False)\n    )\n\n    # Plot\n    plt.figure(figsize=(8, 5))\n    esrb_sales.plot(kind='bar', color='slateblue')\n    plt.title(f'ESRB Rating Impact on Sales in {region_col.upper()}')\n    plt.xlabel('ESRB Rating')\n    plt.ylabel(f'Sales in {region_col.upper()} (millions)')\n    plt.grid(axis='y')\n    plt.tight_layout()\n    plt.show()\n\n    # Print results\n    print(f\"\\nESRB impact in {region_col.upper()}:\")\n    print(esrb_sales)\n"
  },
  {
   "cell_type": "code",
   "execution_count": null,
   "metadata": {
    "id": "JwjXinv5IDp7",
    "trusted": true
   },
   "outputs": [],
   "source": "# Analyze ESRB impact for each region\n\n#North America\nesrb_impact_by_region(df_relevant, 'na_sales')\n\n#Europe\nesrb_impact_by_region(df_relevant, 'eu_sales')\n\n#Japan\nesrb_impact_by_region(df_relevant, 'jp_sales')\n"
  },
  {
   "cell_type": "markdown",
   "metadata": {
    "id": "HR1z031jIYZ7"
   },
   "source": "# Step 5 : Hypothesis Tests\n\n—Average user ratings of the Xbox One and PC platforms are the same.\n\n—Average user ratings for the Action and Sports genres are different.\n\nSet the *alpha* threshold value yourself.\n\nExplain:\n\n—How you formulated the null and alternative hypotheses\n\n—What criteria you used to test the hypotheses~~,~~ and why\n"
  },
  {
   "cell_type": "code",
   "execution_count": null,
   "metadata": {
    "id": "-KfbHSwWIdn6",
    "trusted": true
   },
   "outputs": [],
   "source": "# Set the alpha threshold\nalpha = 0.05\n"
  },
  {
   "cell_type": "markdown",
   "metadata": {},
   "source": "# Hypothesis 1: Xbox One vs. PC User Ratings\nFormulation of Hypotheses\nNull Hypothesis (H₀): The average user ratings for Xbox One and PC games are equal.\n\nAlternative Hypothesis (H₁): The average user ratings for Xbox One and PC games are different.\n\nWhy t-test?\nWe’re comparing the means of two independent groups — Xbox One vs. PC — based on user ratings. A two-sample (independent) t-test is appropriate here.\n\n"
  },
  {
   "cell_type": "code",
   "execution_count": null,
   "metadata": {
    "trusted": true
   },
   "outputs": [],
   "source": "from scipy import stats\n\n# Filter and clean user scores for Xbox One and PC\nxbox_scores = df_relevant[(df_relevant['platform'] == 'XOne') & (df_relevant['user_score'].notnull())]['user_score']\npc_scores = df_relevant[(df_relevant['platform'] == 'PC') & (df_relevant['user_score'].notnull())]['user_score']\n\n# Perform independent t-test\nt_stat1, p_val1 = stats.ttest_ind(xbox_scores, pc_scores, equal_var=False)  # Welch’s t-test\n\nprint(f\"T-statistic: {t_stat1:.4f}, p-value: {p_val1:.4f}\")\n\n# Interpret result\nif p_val1 < alpha:\n    print(\"We reject the null hypothesis: Average user ratings for Xbox One and PC are significantly different.\")\nelse:\n    print(\"We fail to reject the null hypothesis: No significant difference in user ratings between Xbox One and PC.\")\n"
  },
  {
   "cell_type": "markdown",
   "metadata": {},
   "source": "# Hypothesis 2: Action vs. Sports Genre User Ratings\n\nFormulation of Hypotheses\nNull Hypothesis (H₀): The average user ratings for Action and Sports genres are equal.\n\nAlternative Hypothesis (H₁): The average user ratings for Action and Sports genres are different.\n\nWhy t-test?\nAgain, we’re comparing means between two independent groups (Action vs. Sports), making the t-test appropriate."
  },
  {
   "cell_type": "code",
   "execution_count": null,
   "metadata": {
    "trusted": true
   },
   "outputs": [],
   "source": "# Filter and clean user scores for Action and Sports genres\naction_scores = df_relevant[(df_relevant['genre'] == 'Action') & (df_relevant['user_score'].notnull())]['user_score']\nsports_scores = df_relevant[(df_relevant['genre'] == 'Sports') & (df_relevant['user_score'].notnull())]['user_score']\n\n# Perform independent t-test\nt_stat2, p_val2 = stats.ttest_ind(action_scores, sports_scores, equal_var=False)\n\nprint(f\"T-statistic: {t_stat2:.4f}, p-value: {p_val2:.4f}\")\n\n# Interpret result\nif p_val2 < alpha:\n    print(\"We reject the null hypothesis: There is a significant difference in user ratings between Action and Sports genres.\")\nelse:\n    print(\"We fail to reject the null hypothesis: No significant difference in user ratings between Action and Sports genres.\")\n"
  },
  {
   "cell_type": "markdown",
   "metadata": {
    "id": "424VTr4lIfzr"
   },
   "source": "# Step 6. Write a general conclusion\n"
  }
 ],
 "metadata": {
  "ExecuteTimeLog": [
   {
    "duration": 2549,
    "start_time": "2025-04-03T18:17:57.620Z"
   },
   {
    "duration": 48,
    "start_time": "2025-04-03T18:18:23.262Z"
   },
   {
    "duration": 12,
    "start_time": "2025-04-03T18:18:40.272Z"
   },
   {
    "duration": 15,
    "start_time": "2025-04-03T18:19:08.974Z"
   },
   {
    "duration": 4,
    "start_time": "2025-04-03T18:21:54.637Z"
   },
   {
    "duration": 2,
    "start_time": "2025-04-03T18:22:25.829Z"
   },
   {
    "duration": 8,
    "start_time": "2025-04-03T18:24:55.289Z"
   },
   {
    "duration": 6,
    "start_time": "2025-04-03T18:27:45.340Z"
   },
   {
    "duration": 2743,
    "start_time": "2025-04-04T16:11:47.800Z"
   },
   {
    "duration": 45,
    "start_time": "2025-04-04T16:11:50.545Z"
   },
   {
    "duration": 13,
    "start_time": "2025-04-04T16:11:50.592Z"
   },
   {
    "duration": 13,
    "start_time": "2025-04-04T16:11:50.607Z"
   },
   {
    "duration": 3,
    "start_time": "2025-04-04T16:11:55.644Z"
   },
   {
    "duration": 9,
    "start_time": "2025-04-04T16:11:57.711Z"
   },
   {
    "duration": 7,
    "start_time": "2025-04-04T16:11:58.934Z"
   },
   {
    "duration": 2,
    "start_time": "2025-04-04T16:26:53.091Z"
   },
   {
    "duration": 3,
    "start_time": "2025-04-04T16:26:57.131Z"
   },
   {
    "duration": 4,
    "start_time": "2025-04-04T16:27:13.997Z"
   },
   {
    "duration": 5,
    "start_time": "2025-04-04T16:27:38.492Z"
   },
   {
    "duration": 7,
    "start_time": "2025-04-04T16:37:08.400Z"
   },
   {
    "duration": 2448,
    "start_time": "2025-04-05T04:52:35.309Z"
   },
   {
    "duration": 48,
    "start_time": "2025-04-05T04:52:37.759Z"
   },
   {
    "duration": 12,
    "start_time": "2025-04-05T04:52:38.198Z"
   },
   {
    "duration": 12,
    "start_time": "2025-04-05T04:52:38.810Z"
   },
   {
    "duration": 3,
    "start_time": "2025-04-05T04:52:42.735Z"
   },
   {
    "duration": 9,
    "start_time": "2025-04-05T04:52:47.449Z"
   },
   {
    "duration": 7,
    "start_time": "2025-04-05T04:52:51.186Z"
   },
   {
    "duration": 3,
    "start_time": "2025-04-05T04:53:06.514Z"
   },
   {
    "duration": 4,
    "start_time": "2025-04-05T04:53:08.501Z"
   },
   {
    "duration": 4,
    "start_time": "2025-04-05T04:53:13.266Z"
   },
   {
    "duration": 7,
    "start_time": "2025-04-05T04:53:13.899Z"
   },
   {
    "duration": 5,
    "start_time": "2025-04-05T04:53:28.360Z"
   },
   {
    "duration": 3,
    "start_time": "2025-04-05T04:59:22.335Z"
   },
   {
    "duration": 4,
    "start_time": "2025-04-05T04:59:23.179Z"
   },
   {
    "duration": 124,
    "start_time": "2025-04-05T05:00:03.300Z"
   },
   {
    "duration": 5,
    "start_time": "2025-04-05T05:00:15.256Z"
   },
   {
    "duration": 3,
    "start_time": "2025-04-05T05:00:16.064Z"
   },
   {
    "duration": 14,
    "start_time": "2025-04-05T05:00:16.876Z"
   },
   {
    "duration": 6,
    "start_time": "2025-04-05T05:00:43.784Z"
   },
   {
    "duration": 8,
    "start_time": "2025-04-05T05:04:27.016Z"
   },
   {
    "duration": 5,
    "start_time": "2025-04-05T05:04:34.682Z"
   },
   {
    "duration": 3,
    "start_time": "2025-04-05T05:04:34.788Z"
   },
   {
    "duration": 3,
    "start_time": "2025-04-05T05:04:43.636Z"
   },
   {
    "duration": 4,
    "start_time": "2025-04-05T05:04:44.419Z"
   },
   {
    "duration": 4,
    "start_time": "2025-04-05T05:04:46.736Z"
   },
   {
    "duration": 3,
    "start_time": "2025-04-05T05:04:48.638Z"
   },
   {
    "duration": 15,
    "start_time": "2025-04-05T05:04:50.990Z"
   },
   {
    "duration": 4,
    "start_time": "2025-04-05T05:06:22.845Z"
   },
   {
    "duration": 3,
    "start_time": "2025-04-05T05:06:25.771Z"
   },
   {
    "duration": 16,
    "start_time": "2025-04-05T05:06:27.248Z"
   },
   {
    "duration": 14,
    "start_time": "2025-04-05T05:08:18.667Z"
   },
   {
    "duration": 6,
    "start_time": "2025-04-05T05:09:19.292Z"
   },
   {
    "duration": 11,
    "start_time": "2025-04-05T05:09:41.499Z"
   },
   {
    "duration": 9,
    "start_time": "2025-04-05T05:12:32.821Z"
   },
   {
    "duration": 9,
    "start_time": "2025-04-05T05:13:15.279Z"
   },
   {
    "duration": 25,
    "start_time": "2025-04-05T05:43:21.425Z"
   },
   {
    "duration": 24,
    "start_time": "2025-04-05T05:43:39.510Z"
   },
   {
    "duration": 12,
    "start_time": "2025-04-05T05:46:22.785Z"
   },
   {
    "duration": 4,
    "start_time": "2025-04-05T05:48:22.265Z"
   },
   {
    "duration": 388,
    "start_time": "2025-04-05T05:48:49.714Z"
   },
   {
    "duration": 6,
    "start_time": "2025-04-05T05:49:13.580Z"
   },
   {
    "duration": 2500,
    "start_time": "2025-04-05T19:09:30.439Z"
   },
   {
    "duration": 46,
    "start_time": "2025-04-05T19:09:32.941Z"
   },
   {
    "duration": 11,
    "start_time": "2025-04-05T19:09:32.988Z"
   },
   {
    "duration": 15,
    "start_time": "2025-04-05T19:09:33.001Z"
   },
   {
    "duration": 3,
    "start_time": "2025-04-05T19:09:33.017Z"
   },
   {
    "duration": 7,
    "start_time": "2025-04-05T19:09:33.330Z"
   },
   {
    "duration": 5,
    "start_time": "2025-04-05T19:09:34.332Z"
   },
   {
    "duration": 3,
    "start_time": "2025-04-05T19:09:34.955Z"
   },
   {
    "duration": 4,
    "start_time": "2025-04-05T19:09:35.303Z"
   },
   {
    "duration": 5,
    "start_time": "2025-04-05T19:09:35.834Z"
   },
   {
    "duration": 5,
    "start_time": "2025-04-05T19:09:35.924Z"
   },
   {
    "duration": 13,
    "start_time": "2025-04-05T19:09:36.421Z"
   },
   {
    "duration": 9,
    "start_time": "2025-04-05T19:09:37.485Z"
   },
   {
    "duration": 8,
    "start_time": "2025-04-05T19:09:37.581Z"
   },
   {
    "duration": 25,
    "start_time": "2025-04-05T19:09:39.472Z"
   },
   {
    "duration": 11,
    "start_time": "2025-04-05T19:09:44.875Z"
   },
   {
    "duration": 7,
    "start_time": "2025-04-05T19:09:49.112Z"
   },
   {
    "duration": 396,
    "start_time": "2025-04-05T19:09:49.216Z"
   },
   {
    "duration": 7,
    "start_time": "2025-04-05T19:09:50.282Z"
   },
   {
    "duration": 2,
    "start_time": "2025-04-05T19:10:01.457Z"
   },
   {
    "duration": 27,
    "start_time": "2025-04-05T19:16:11.330Z"
   },
   {
    "duration": 916,
    "start_time": "2025-04-05T19:17:06.012Z"
   },
   {
    "duration": 347,
    "start_time": "2025-04-05T19:18:30.217Z"
   },
   {
    "duration": 2506,
    "start_time": "2025-04-06T03:00:43.166Z"
   },
   {
    "duration": 48,
    "start_time": "2025-04-06T03:00:45.674Z"
   },
   {
    "duration": 11,
    "start_time": "2025-04-06T03:00:45.724Z"
   },
   {
    "duration": 11,
    "start_time": "2025-04-06T03:00:45.736Z"
   },
   {
    "duration": 3,
    "start_time": "2025-04-06T03:00:46.973Z"
   },
   {
    "duration": 8,
    "start_time": "2025-04-06T03:00:48.698Z"
   },
   {
    "duration": 6,
    "start_time": "2025-04-06T03:00:50.674Z"
   },
   {
    "duration": 3,
    "start_time": "2025-04-06T03:00:52.556Z"
   },
   {
    "duration": 4,
    "start_time": "2025-04-06T03:00:53.541Z"
   },
   {
    "duration": 4,
    "start_time": "2025-04-06T03:00:54.888Z"
   },
   {
    "duration": 4,
    "start_time": "2025-04-06T03:00:54.978Z"
   },
   {
    "duration": 13,
    "start_time": "2025-04-06T03:00:55.466Z"
   },
   {
    "duration": 9,
    "start_time": "2025-04-06T03:00:56.545Z"
   },
   {
    "duration": 8,
    "start_time": "2025-04-06T03:00:56.638Z"
   },
   {
    "duration": 24,
    "start_time": "2025-04-06T03:00:57.356Z"
   },
   {
    "duration": 11,
    "start_time": "2025-04-06T03:00:59.775Z"
   },
   {
    "duration": 4,
    "start_time": "2025-04-06T03:01:02.197Z"
   },
   {
    "duration": 400,
    "start_time": "2025-04-06T03:01:03.313Z"
   },
   {
    "duration": 6,
    "start_time": "2025-04-06T03:01:04.309Z"
   },
   {
    "duration": 25,
    "start_time": "2025-04-06T03:01:06.096Z"
   },
   {
    "duration": 932,
    "start_time": "2025-04-06T03:01:06.928Z"
   },
   {
    "duration": 346,
    "start_time": "2025-04-06T03:01:07.862Z"
   },
   {
    "duration": 8,
    "start_time": "2025-04-06T03:05:35.311Z"
   },
   {
    "duration": 13,
    "start_time": "2025-04-06T03:08:17.364Z"
   },
   {
    "duration": 13,
    "start_time": "2025-04-06T03:08:49.551Z"
   },
   {
    "duration": 7,
    "start_time": "2025-04-06T03:13:43.511Z"
   },
   {
    "duration": 4,
    "start_time": "2025-04-06T03:14:33.622Z"
   },
   {
    "duration": 5,
    "start_time": "2025-04-06T03:14:34.969Z"
   },
   {
    "duration": 356,
    "start_time": "2025-04-06T03:17:31.417Z"
   },
   {
    "duration": 636,
    "start_time": "2025-04-06T03:18:55.500Z"
   },
   {
    "duration": 27,
    "start_time": "2025-04-06T03:19:19.394Z"
   },
   {
    "duration": 10,
    "start_time": "2025-04-06T03:20:51.649Z"
   },
   {
    "duration": 265,
    "start_time": "2025-04-06T03:21:08.884Z"
   },
   {
    "duration": 537,
    "start_time": "2025-04-06T03:22:40.907Z"
   },
   {
    "duration": 467,
    "start_time": "2025-04-06T03:23:53.631Z"
   },
   {
    "duration": 3,
    "start_time": "2025-04-06T03:24:38.837Z"
   },
   {
    "duration": 499,
    "start_time": "2025-04-06T03:24:43.014Z"
   },
   {
    "duration": 2426,
    "start_time": "2025-04-06T19:24:38.888Z"
   },
   {
    "duration": 45,
    "start_time": "2025-04-06T19:24:41.317Z"
   },
   {
    "duration": 11,
    "start_time": "2025-04-06T19:24:41.363Z"
   },
   {
    "duration": 11,
    "start_time": "2025-04-06T19:24:41.377Z"
   },
   {
    "duration": 3,
    "start_time": "2025-04-06T19:24:44.612Z"
   },
   {
    "duration": 8,
    "start_time": "2025-04-06T19:24:46.621Z"
   },
   {
    "duration": 5,
    "start_time": "2025-04-06T19:24:48.212Z"
   },
   {
    "duration": 3,
    "start_time": "2025-04-06T19:24:49.630Z"
   },
   {
    "duration": 4,
    "start_time": "2025-04-06T19:24:50.046Z"
   },
   {
    "duration": 5,
    "start_time": "2025-04-06T19:24:51.077Z"
   },
   {
    "duration": 6,
    "start_time": "2025-04-06T19:24:51.707Z"
   },
   {
    "duration": 12,
    "start_time": "2025-04-06T19:24:51.750Z"
   },
   {
    "duration": 8,
    "start_time": "2025-04-06T19:24:52.525Z"
   },
   {
    "duration": 9,
    "start_time": "2025-04-06T19:24:53.491Z"
   },
   {
    "duration": 24,
    "start_time": "2025-04-06T19:24:53.989Z"
   },
   {
    "duration": 13,
    "start_time": "2025-04-06T19:24:56.682Z"
   },
   {
    "duration": 4,
    "start_time": "2025-04-06T19:24:57.533Z"
   },
   {
    "duration": 372,
    "start_time": "2025-04-06T19:24:58.203Z"
   },
   {
    "duration": 8,
    "start_time": "2025-04-06T19:24:58.577Z"
   },
   {
    "duration": 25,
    "start_time": "2025-04-06T19:25:00.251Z"
   },
   {
    "duration": 921,
    "start_time": "2025-04-06T19:25:00.995Z"
   },
   {
    "duration": 424,
    "start_time": "2025-04-06T19:25:01.919Z"
   },
   {
    "duration": 13,
    "start_time": "2025-04-06T19:25:03.288Z"
   },
   {
    "duration": 4,
    "start_time": "2025-04-06T19:25:13.184Z"
   },
   {
    "duration": 5,
    "start_time": "2025-04-06T19:25:14.304Z"
   },
   {
    "duration": 261,
    "start_time": "2025-04-06T19:25:15.467Z"
   },
   {
    "duration": 620,
    "start_time": "2025-04-06T19:25:16.300Z"
   },
   {
    "duration": 29,
    "start_time": "2025-04-06T19:25:17.647Z"
   },
   {
    "duration": 10,
    "start_time": "2025-04-06T19:25:19.756Z"
   },
   {
    "duration": 3,
    "start_time": "2025-04-06T19:25:21.914Z"
   },
   {
    "duration": 480,
    "start_time": "2025-04-06T19:25:29.702Z"
   },
   {
    "duration": 2,
    "start_time": "2025-04-06T19:25:30.787Z"
   },
   {
    "duration": 3,
    "start_time": "2025-04-06T19:25:30.892Z"
   },
   {
    "duration": 7,
    "start_time": "2025-04-06T19:27:48.896Z"
   },
   {
    "duration": 404,
    "start_time": "2025-04-06T19:28:21.441Z"
   },
   {
    "duration": 352,
    "start_time": "2025-04-06T19:30:29.841Z"
   },
   {
    "duration": 336,
    "start_time": "2025-04-06T19:32:29.707Z"
   },
   {
    "duration": 6,
    "start_time": "2025-04-06T19:34:39.834Z"
   },
   {
    "duration": 254,
    "start_time": "2025-04-06T19:35:01.527Z"
   },
   {
    "duration": 254,
    "start_time": "2025-04-06T19:35:46.330Z"
   },
   {
    "duration": 9,
    "start_time": "2025-04-06T19:36:12.355Z"
   },
   {
    "duration": 10,
    "start_time": "2025-04-06T19:36:30.274Z"
   },
   {
    "duration": 10,
    "start_time": "2025-04-06T19:36:44.719Z"
   },
   {
    "duration": 263,
    "start_time": "2025-04-06T19:37:15.934Z"
   },
   {
    "duration": 271,
    "start_time": "2025-04-06T19:39:25.281Z"
   },
   {
    "duration": 258,
    "start_time": "2025-04-06T19:39:28.160Z"
   },
   {
    "duration": 6,
    "start_time": "2025-04-06T19:40:40.109Z"
   },
   {
    "duration": 277,
    "start_time": "2025-04-06T19:40:44.493Z"
   },
   {
    "duration": 372,
    "start_time": "2025-04-06T19:40:45.622Z"
   },
   {
    "duration": 8,
    "start_time": "2025-04-06T19:43:59.414Z"
   },
   {
    "duration": 3,
    "start_time": "2025-04-06T19:44:11.012Z"
   },
   {
    "duration": 159,
    "start_time": "2025-04-06T19:45:54.250Z"
   },
   {
    "duration": 161,
    "start_time": "2025-04-06T19:46:38.199Z"
   },
   {
    "duration": 6,
    "start_time": "2025-04-06T19:47:42.836Z"
   },
   {
    "duration": 162,
    "start_time": "2025-04-06T19:48:01.565Z"
   },
   {
    "duration": 6,
    "start_time": "2025-04-06T19:49:29.176Z"
   },
   {
    "duration": 6,
    "start_time": "2025-04-06T19:50:05.867Z"
   },
   {
    "duration": 4,
    "start_time": "2025-04-06T19:54:14.989Z"
   },
   {
    "duration": 4,
    "start_time": "2025-04-06T19:54:23.428Z"
   },
   {
    "duration": 3,
    "start_time": "2025-04-06T19:54:29.610Z"
   },
   {
    "duration": 4,
    "start_time": "2025-04-06T19:54:45.715Z"
   },
   {
    "duration": 4,
    "start_time": "2025-04-06T19:55:29.425Z"
   },
   {
    "duration": 162,
    "start_time": "2025-04-06T19:55:33.836Z"
   },
   {
    "duration": 161,
    "start_time": "2025-04-06T19:55:40.119Z"
   },
   {
    "duration": 7,
    "start_time": "2025-04-06T19:55:42.812Z"
   },
   {
    "duration": 5,
    "start_time": "2025-04-06T19:55:46.022Z"
   },
   {
    "duration": 2,
    "start_time": "2025-04-06T19:55:46.822Z"
   },
   {
    "duration": 4,
    "start_time": "2025-04-06T19:56:12.626Z"
   },
   {
    "duration": 592,
    "start_time": "2025-04-06T19:57:31.267Z"
   },
   {
    "duration": 4,
    "start_time": "2025-04-06T19:57:34.656Z"
   },
   {
    "duration": 4,
    "start_time": "2025-04-06T19:58:48.581Z"
   },
   {
    "duration": 5,
    "start_time": "2025-04-06T19:59:00.123Z"
   },
   {
    "duration": 3,
    "start_time": "2025-04-06T19:59:10.405Z"
   },
   {
    "duration": 4,
    "start_time": "2025-04-06T20:00:48.452Z"
   },
   {
    "duration": 5,
    "start_time": "2025-04-06T20:01:18.017Z"
   },
   {
    "duration": 653,
    "start_time": "2025-04-06T20:01:18.797Z"
   },
   {
    "duration": 14,
    "start_time": "2025-04-06T20:03:21.013Z"
   },
   {
    "duration": 251,
    "start_time": "2025-04-06T20:03:36.551Z"
   },
   {
    "duration": 5,
    "start_time": "2025-04-06T20:04:34.470Z"
   },
   {
    "duration": 659,
    "start_time": "2025-04-06T20:06:27.701Z"
   },
   {
    "duration": 625,
    "start_time": "2025-04-06T20:07:03.429Z"
   },
   {
    "duration": 11,
    "start_time": "2025-04-06T20:07:25.965Z"
   },
   {
    "duration": 323,
    "start_time": "2025-04-06T20:08:08.211Z"
   },
   {
    "duration": 6,
    "start_time": "2025-04-06T20:09:13.009Z"
   },
   {
    "duration": 600,
    "start_time": "2025-04-06T20:10:00.155Z"
   },
   {
    "duration": 2,
    "start_time": "2025-04-06T20:11:16.781Z"
   },
   {
    "duration": 283,
    "start_time": "2025-04-06T20:12:51.916Z"
   },
   {
    "duration": 7,
    "start_time": "2025-04-06T20:13:09.205Z"
   },
   {
    "duration": 8,
    "start_time": "2025-04-06T20:14:03.798Z"
   },
   {
    "duration": 2462,
    "start_time": "2025-04-06T21:27:34.410Z"
   },
   {
    "duration": 48,
    "start_time": "2025-04-06T21:27:36.874Z"
   },
   {
    "duration": 11,
    "start_time": "2025-04-06T21:27:36.923Z"
   },
   {
    "duration": 11,
    "start_time": "2025-04-06T21:27:36.937Z"
   },
   {
    "duration": 3,
    "start_time": "2025-04-06T21:27:36.949Z"
   },
   {
    "duration": 8,
    "start_time": "2025-04-06T21:27:36.953Z"
   },
   {
    "duration": 5,
    "start_time": "2025-04-06T21:27:36.962Z"
   },
   {
    "duration": 4,
    "start_time": "2025-04-06T21:27:36.969Z"
   },
   {
    "duration": 39,
    "start_time": "2025-04-06T21:27:36.975Z"
   },
   {
    "duration": 4,
    "start_time": "2025-04-06T21:27:37.017Z"
   },
   {
    "duration": 4,
    "start_time": "2025-04-06T21:27:37.023Z"
   },
   {
    "duration": 12,
    "start_time": "2025-04-06T21:27:37.028Z"
   },
   {
    "duration": 8,
    "start_time": "2025-04-06T21:27:37.041Z"
   },
   {
    "duration": 7,
    "start_time": "2025-04-06T21:27:37.051Z"
   },
   {
    "duration": 56,
    "start_time": "2025-04-06T21:27:37.060Z"
   },
   {
    "duration": 11,
    "start_time": "2025-04-06T21:27:37.118Z"
   },
   {
    "duration": 4,
    "start_time": "2025-04-06T21:27:37.130Z"
   },
   {
    "duration": 421,
    "start_time": "2025-04-06T21:27:37.136Z"
   },
   {
    "duration": 7,
    "start_time": "2025-04-06T21:27:37.559Z"
   },
   {
    "duration": 25,
    "start_time": "2025-04-06T21:27:37.567Z"
   },
   {
    "duration": 943,
    "start_time": "2025-04-06T21:27:37.593Z"
   },
   {
    "duration": 354,
    "start_time": "2025-04-06T21:27:38.539Z"
   },
   {
    "duration": 18,
    "start_time": "2025-04-06T21:27:38.895Z"
   },
   {
    "duration": 5,
    "start_time": "2025-04-06T21:27:38.915Z"
   },
   {
    "duration": 6,
    "start_time": "2025-04-06T21:27:38.921Z"
   },
   {
    "duration": 329,
    "start_time": "2025-04-06T21:27:38.928Z"
   },
   {
    "duration": 581,
    "start_time": "2025-04-06T21:27:39.258Z"
   },
   {
    "duration": 26,
    "start_time": "2025-04-06T21:27:39.845Z"
   },
   {
    "duration": 9,
    "start_time": "2025-04-06T21:27:39.872Z"
   },
   {
    "duration": 2,
    "start_time": "2025-04-06T21:27:39.883Z"
   },
   {
    "duration": 495,
    "start_time": "2025-04-06T21:27:39.887Z"
   },
   {
    "duration": 30,
    "start_time": "2025-04-06T21:27:40.384Z"
   },
   {
    "duration": 353,
    "start_time": "2025-04-06T21:27:40.416Z"
   },
   {
    "duration": 5,
    "start_time": "2025-04-06T21:27:40.772Z"
   },
   {
    "duration": 6,
    "start_time": "2025-04-06T21:27:40.779Z"
   },
   {
    "duration": 284,
    "start_time": "2025-04-06T21:27:40.786Z"
   },
   {
    "duration": 343,
    "start_time": "2025-04-06T21:27:41.072Z"
   },
   {
    "duration": 168,
    "start_time": "2025-04-06T21:27:41.417Z"
   },
   {
    "duration": 6,
    "start_time": "2025-04-06T21:27:41.587Z"
   },
   {
    "duration": 16,
    "start_time": "2025-04-06T21:27:41.596Z"
   },
   {
    "duration": 627,
    "start_time": "2025-04-06T21:27:41.614Z"
   },
   {
    "duration": 11,
    "start_time": "2025-04-06T21:27:42.243Z"
   },
   {
    "duration": 281,
    "start_time": "2025-04-06T21:27:42.255Z"
   },
   {
    "duration": 614,
    "start_time": "2025-04-06T21:27:42.538Z"
   },
   {
    "duration": 11,
    "start_time": "2025-04-06T21:27:43.154Z"
   },
   {
    "duration": 370,
    "start_time": "2025-04-06T21:27:43.166Z"
   },
   {
    "duration": 3,
    "start_time": "2025-04-06T21:27:43.538Z"
   },
   {
    "duration": 701,
    "start_time": "2025-04-06T21:27:43.543Z"
   },
   {
    "duration": 3,
    "start_time": "2025-04-06T21:27:44.245Z"
   },
   {
    "duration": 10,
    "start_time": "2025-04-06T21:27:44.250Z"
   },
   {
    "duration": 5,
    "start_time": "2025-04-06T21:27:44.262Z"
   },
   {
    "duration": 14,
    "start_time": "2025-04-06T21:29:51.843Z"
   },
   {
    "duration": 473,
    "start_time": "2025-04-06T21:33:34.329Z"
   },
   {
    "duration": 526,
    "start_time": "2025-04-06T21:33:37.510Z"
   },
   {
    "duration": 4,
    "start_time": "2025-04-06T21:35:44.688Z"
   },
   {
    "duration": 157,
    "start_time": "2025-04-07T02:38:27.860Z"
   },
   {
    "duration": 15,
    "start_time": "2025-04-07T02:39:23.791Z"
   },
   {
    "duration": 13,
    "start_time": "2025-04-07T02:39:39.530Z"
   },
   {
    "duration": 2516,
    "start_time": "2025-04-07T02:39:47.998Z"
   },
   {
    "duration": 47,
    "start_time": "2025-04-07T02:39:50.517Z"
   },
   {
    "duration": 11,
    "start_time": "2025-04-07T02:39:50.654Z"
   },
   {
    "duration": 12,
    "start_time": "2025-04-07T02:39:51.391Z"
   },
   {
    "duration": 3,
    "start_time": "2025-04-07T02:39:53.181Z"
   },
   {
    "duration": 8,
    "start_time": "2025-04-07T02:39:54.638Z"
   },
   {
    "duration": 5,
    "start_time": "2025-04-07T02:39:56.107Z"
   },
   {
    "duration": 3,
    "start_time": "2025-04-07T02:39:57.731Z"
   },
   {
    "duration": 3,
    "start_time": "2025-04-07T02:39:58.783Z"
   },
   {
    "duration": 5,
    "start_time": "2025-04-07T02:40:00.296Z"
   },
   {
    "duration": 5,
    "start_time": "2025-04-07T02:40:01.493Z"
   },
   {
    "duration": 13,
    "start_time": "2025-04-07T02:40:01.892Z"
   },
   {
    "duration": 9,
    "start_time": "2025-04-07T02:40:02.997Z"
   },
   {
    "duration": 8,
    "start_time": "2025-04-07T02:40:04.395Z"
   },
   {
    "duration": 15,
    "start_time": "2025-04-07T02:40:12.548Z"
   },
   {
    "duration": 15,
    "start_time": "2025-04-07T02:41:59.742Z"
   },
   {
    "duration": 9,
    "start_time": "2025-04-07T02:50:36.710Z"
   },
   {
    "duration": 226,
    "start_time": "2025-04-07T02:51:33.240Z"
   },
   {
    "duration": 27,
    "start_time": "2025-04-07T02:51:49.593Z"
   },
   {
    "duration": 14,
    "start_time": "2025-04-07T02:52:17.499Z"
   },
   {
    "duration": 28,
    "start_time": "2025-04-07T02:52:19.808Z"
   },
   {
    "duration": 25,
    "start_time": "2025-04-07T02:52:35.854Z"
   },
   {
    "duration": 12,
    "start_time": "2025-04-07T02:52:42.454Z"
   },
   {
    "duration": 4,
    "start_time": "2025-04-07T02:52:44.555Z"
   },
   {
    "duration": 401,
    "start_time": "2025-04-07T02:52:45.410Z"
   },
   {
    "duration": 7,
    "start_time": "2025-04-07T02:52:46.481Z"
   },
   {
    "duration": 32,
    "start_time": "2025-04-07T02:52:49.813Z"
   },
   {
    "duration": 931,
    "start_time": "2025-04-07T02:52:50.586Z"
   },
   {
    "duration": 391,
    "start_time": "2025-04-07T02:52:51.519Z"
   },
   {
    "duration": 15,
    "start_time": "2025-04-07T02:52:53.102Z"
   },
   {
    "duration": 14,
    "start_time": "2025-04-07T02:52:53.712Z"
   },
   {
    "duration": 25,
    "start_time": "2025-04-07T02:53:31.496Z"
   },
   {
    "duration": 11,
    "start_time": "2025-04-07T02:53:32.558Z"
   },
   {
    "duration": 4,
    "start_time": "2025-04-07T02:53:33.242Z"
   },
   {
    "duration": 393,
    "start_time": "2025-04-07T02:53:33.565Z"
   },
   {
    "duration": 6,
    "start_time": "2025-04-07T02:53:33.960Z"
   },
   {
    "duration": 27,
    "start_time": "2025-04-07T02:53:35.332Z"
   },
   {
    "duration": 888,
    "start_time": "2025-04-07T02:53:35.637Z"
   },
   {
    "duration": 366,
    "start_time": "2025-04-07T02:53:36.528Z"
   },
   {
    "duration": 15,
    "start_time": "2025-04-07T02:53:37.620Z"
   },
   {
    "duration": 13,
    "start_time": "2025-04-07T02:53:38.003Z"
   },
   {
    "duration": 5,
    "start_time": "2025-04-07T02:55:39.125Z"
   },
   {
    "duration": 4,
    "start_time": "2025-04-07T02:55:39.956Z"
   },
   {
    "duration": 367,
    "start_time": "2025-04-07T02:55:40.995Z"
   },
   {
    "duration": 586,
    "start_time": "2025-04-07T02:55:42.688Z"
   },
   {
    "duration": 490,
    "start_time": "2025-04-07T02:57:35.118Z"
   },
   {
    "duration": 532,
    "start_time": "2025-04-07T02:58:08.105Z"
   },
   {
    "duration": 609,
    "start_time": "2025-04-07T02:58:38.702Z"
   },
   {
    "duration": 4,
    "start_time": "2025-04-07T02:58:55.679Z"
   },
   {
    "duration": 4,
    "start_time": "2025-04-07T02:58:56.212Z"
   },
   {
    "duration": 283,
    "start_time": "2025-04-07T02:58:56.722Z"
   },
   {
    "duration": 462,
    "start_time": "2025-04-07T02:58:58.247Z"
   },
   {
    "duration": 26,
    "start_time": "2025-04-07T03:00:10.264Z"
   },
   {
    "duration": 9,
    "start_time": "2025-04-07T03:00:12.066Z"
   },
   {
    "duration": 3,
    "start_time": "2025-04-07T03:00:12.631Z"
   },
   {
    "duration": 592,
    "start_time": "2025-04-07T03:00:13.480Z"
   },
   {
    "duration": 9,
    "start_time": "2025-04-07T03:02:27.603Z"
   },
   {
    "duration": 27,
    "start_time": "2025-04-07T03:05:02.111Z"
   },
   {
    "duration": 13,
    "start_time": "2025-04-07T03:05:03.188Z"
   },
   {
    "duration": 3,
    "start_time": "2025-04-07T03:05:03.754Z"
   },
   {
    "duration": 529,
    "start_time": "2025-04-07T03:05:04.305Z"
   },
   {
    "duration": 8,
    "start_time": "2025-04-07T03:08:12.383Z"
   },
   {
    "duration": 409,
    "start_time": "2025-04-07T03:08:12.943Z"
   },
   {
    "duration": 7,
    "start_time": "2025-04-07T03:08:14.020Z"
   },
   {
    "duration": 7,
    "start_time": "2025-04-07T03:08:14.441Z"
   },
   {
    "duration": 310,
    "start_time": "2025-04-07T03:08:15.004Z"
   },
   {
    "duration": 311,
    "start_time": "2025-04-07T03:08:15.519Z"
   },
   {
    "duration": 290,
    "start_time": "2025-04-07T03:08:17.716Z"
   },
   {
    "duration": 7,
    "start_time": "2025-04-07T03:08:18.929Z"
   },
   {
    "duration": 6,
    "start_time": "2025-04-07T03:08:26.626Z"
   },
   {
    "duration": 717,
    "start_time": "2025-04-07T03:08:27.226Z"
   },
   {
    "duration": 15,
    "start_time": "2025-04-07T03:08:28.732Z"
   },
   {
    "duration": 373,
    "start_time": "2025-04-07T03:08:29.301Z"
   },
   {
    "duration": 810,
    "start_time": "2025-04-07T03:08:30.544Z"
   },
   {
    "duration": 20,
    "start_time": "2025-04-07T03:08:31.756Z"
   },
   {
    "duration": 357,
    "start_time": "2025-04-07T03:08:32.495Z"
   },
   {
    "duration": 5,
    "start_time": "2025-04-07T03:08:33.715Z"
   },
   {
    "duration": 713,
    "start_time": "2025-04-07T03:08:34.870Z"
   },
   {
    "duration": 3,
    "start_time": "2025-04-07T03:08:38.844Z"
   },
   {
    "duration": 9,
    "start_time": "2025-04-07T03:09:00.653Z"
   },
   {
    "duration": 9,
    "start_time": "2025-04-07T03:09:03.161Z"
   },
   {
    "duration": 806,
    "start_time": "2025-04-07T08:03:39.956Z"
   },
   {
    "duration": 44,
    "start_time": "2025-04-07T08:03:40.764Z"
   },
   {
    "duration": 12,
    "start_time": "2025-04-07T08:03:40.810Z"
   },
   {
    "duration": 11,
    "start_time": "2025-04-07T08:03:40.824Z"
   },
   {
    "duration": 3,
    "start_time": "2025-04-07T08:03:40.844Z"
   },
   {
    "duration": 7,
    "start_time": "2025-04-07T08:03:40.848Z"
   },
   {
    "duration": 5,
    "start_time": "2025-04-07T08:03:40.857Z"
   },
   {
    "duration": 2,
    "start_time": "2025-04-07T08:03:40.864Z"
   },
   {
    "duration": 4,
    "start_time": "2025-04-07T08:03:40.868Z"
   },
   {
    "duration": 4,
    "start_time": "2025-04-07T08:03:40.876Z"
   },
   {
    "duration": 3,
    "start_time": "2025-04-07T08:03:40.882Z"
   },
   {
    "duration": 12,
    "start_time": "2025-04-07T08:03:40.887Z"
   },
   {
    "duration": 7,
    "start_time": "2025-04-07T08:03:40.943Z"
   },
   {
    "duration": 8,
    "start_time": "2025-04-07T08:03:40.952Z"
   },
   {
    "duration": 14,
    "start_time": "2025-04-07T08:03:40.961Z"
   },
   {
    "duration": 25,
    "start_time": "2025-04-07T08:03:40.976Z"
   },
   {
    "duration": 41,
    "start_time": "2025-04-07T08:03:41.003Z"
   },
   {
    "duration": 4,
    "start_time": "2025-04-07T08:03:41.045Z"
   },
   {
    "duration": 399,
    "start_time": "2025-04-07T08:03:41.051Z"
   },
   {
    "duration": 7,
    "start_time": "2025-04-07T08:03:41.452Z"
   },
   {
    "duration": 25,
    "start_time": "2025-04-07T08:03:41.461Z"
   },
   {
    "duration": 959,
    "start_time": "2025-04-07T08:03:41.487Z"
   },
   {
    "duration": 364,
    "start_time": "2025-04-07T08:03:42.448Z"
   },
   {
    "duration": 13,
    "start_time": "2025-04-07T08:03:42.814Z"
   },
   {
    "duration": 21,
    "start_time": "2025-04-07T08:03:42.828Z"
   },
   {
    "duration": 4,
    "start_time": "2025-04-07T08:03:42.850Z"
   },
   {
    "duration": 6,
    "start_time": "2025-04-07T08:03:42.855Z"
   },
   {
    "duration": 264,
    "start_time": "2025-04-07T08:03:42.865Z"
   },
   {
    "duration": 561,
    "start_time": "2025-04-07T08:03:43.130Z"
   },
   {
    "duration": 26,
    "start_time": "2025-04-07T08:03:43.693Z"
   },
   {
    "duration": 8,
    "start_time": "2025-04-07T08:03:43.721Z"
   },
   {
    "duration": 2,
    "start_time": "2025-04-07T08:03:43.743Z"
   },
   {
    "duration": 461,
    "start_time": "2025-04-07T08:03:43.747Z"
   },
   {
    "duration": 33,
    "start_time": "2025-04-07T08:03:44.210Z"
   },
   {
    "duration": 420,
    "start_time": "2025-04-07T08:03:44.245Z"
   },
   {
    "duration": 6,
    "start_time": "2025-04-07T08:03:44.666Z"
   },
   {
    "duration": 7,
    "start_time": "2025-04-07T08:03:44.674Z"
   },
   {
    "duration": 291,
    "start_time": "2025-04-07T08:03:44.682Z"
   },
   {
    "duration": 277,
    "start_time": "2025-04-07T08:03:44.974Z"
   },
   {
    "duration": 180,
    "start_time": "2025-04-07T08:03:45.252Z"
   },
   {
    "duration": 13,
    "start_time": "2025-04-07T08:03:45.434Z"
   },
   {
    "duration": 4,
    "start_time": "2025-04-07T08:03:45.448Z"
   },
   {
    "duration": 618,
    "start_time": "2025-04-07T08:03:45.454Z"
   },
   {
    "duration": 11,
    "start_time": "2025-04-07T08:03:46.074Z"
   },
   {
    "duration": 272,
    "start_time": "2025-04-07T08:03:46.087Z"
   },
   {
    "duration": 626,
    "start_time": "2025-04-07T08:03:46.360Z"
   },
   {
    "duration": 9,
    "start_time": "2025-04-07T08:03:46.988Z"
   },
   {
    "duration": 398,
    "start_time": "2025-04-07T08:03:46.999Z"
   },
   {
    "duration": 4,
    "start_time": "2025-04-07T08:03:47.399Z"
   },
   {
    "duration": 670,
    "start_time": "2025-04-07T08:03:47.405Z"
   },
   {
    "duration": 3,
    "start_time": "2025-04-07T08:03:48.078Z"
   },
   {
    "duration": 6,
    "start_time": "2025-04-07T08:03:48.084Z"
   },
   {
    "duration": 6,
    "start_time": "2025-04-07T08:03:48.092Z"
   }
  ],
  "colab": {
   "provenance": []
  },
  "kernelspec": {
   "display_name": "Python 3 (ipykernel)",
   "language": "python",
   "name": "python3"
  },
  "language_info": {
   "codemirror_mode": {
    "name": "ipython",
    "version": 3
   },
   "file_extension": ".py",
   "mimetype": "text/x-python",
   "name": "python",
   "nbconvert_exporter": "python",
   "pygments_lexer": "ipython3",
   "version": "3.9.19"
  },
  "toc": {
   "base_numbering": 1,
   "nav_menu": {},
   "number_sections": true,
   "sideBar": true,
   "skip_h1_title": true,
   "title_cell": "Table of Contents",
   "title_sidebar": "Contents",
   "toc_cell": false,
   "toc_position": {},
   "toc_section_display": true,
   "toc_window_display": false
  }
 },
 "nbformat": 4,
 "nbformat_minor": 1
}
