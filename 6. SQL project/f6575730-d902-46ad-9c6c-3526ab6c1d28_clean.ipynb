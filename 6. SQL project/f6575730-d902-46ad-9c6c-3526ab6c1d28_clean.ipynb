{
 "cells": [
  {
   "cell_type": "markdown",
   "metadata": {},
   "source": "# Project Overview\nAs an analyst for Zuber, a new ride-sharing company that's launching in Chicago. I have been tasked to find patterns in the available information. My goal is to understand passenger preferences and the impact of external factors on rides. I will study the database, analyze data from competitors, and test a hypothesis about the impact of weather on ride frequency."
  },
  {
   "cell_type": "code",
   "execution_count": null,
   "metadata": {
    "trusted": true
   },
   "outputs": [],
   "source": "# Import all required libraries\n\nimport pandas as pd\nimport matplotlib.pyplot as plt\nimport seaborn as sns\nfrom scipy import stats\nimport numpy as np\n"
  },
  {
   "cell_type": "code",
   "execution_count": null,
   "metadata": {
    "trusted": true
   },
   "outputs": [],
   "source": "# Set the style for our plots\nplt.style.use('ggplot')\nsns.set(font_scale=1.2)"
  },
  {
   "cell_type": "markdown",
   "metadata": {},
   "source": "# Step 4: Exploratory Data Analysis\n\nFirst, let's load our dataset and examine its basic properties:\n"
  },
  {
   "cell_type": "code",
   "execution_count": null,
   "metadata": {
    "trusted": true
   },
   "outputs": [],
   "source": "# Import the first dataset - Taxi companies and number of rides\ntaxi_companies = pd.read_csv('/datasets/project_sql_result_01.csv')\nprint(\"Taxi Companies Dataset:\")\nprint(taxi_companies.head())\nprint(\"\\nData types:\")\nprint(taxi_companies.dtypes)\nprint(\"\\nDataset shape:\", taxi_companies.shape)"
  },
  {
   "cell_type": "code",
   "execution_count": null,
   "metadata": {
    "trusted": true
   },
   "outputs": [],
   "source": "# Import the second dataset - Neighborhoods and average trips\nneighborhoods = pd.read_csv('/datasets/project_sql_result_04.csv')\nprint(\"\\nNeighborhoods Dataset:\")\nprint(neighborhoods.head())\nprint(\"\\nData types:\")\nprint(neighborhoods.dtypes)\nprint(\"\\nDataset shape:\", neighborhoods.shape)"
  },
  {
   "cell_type": "code",
   "execution_count": null,
   "metadata": {
    "scrolled": true,
    "trusted": true
   },
   "outputs": [],
   "source": "# Identify top 10 neighborhoods by dropoffs\ntop_10_neighborhoods = neighborhoods.sort_values(by='average_trips', ascending=False).head(10)\nprint(\"\\nTop 10 neighborhoods by average number of dropoffs:\")\nprint(top_10_neighborhoods)"
  },
  {
   "cell_type": "code",
   "execution_count": null,
   "metadata": {
    "scrolled": true,
    "trusted": true
   },
   "outputs": [],
   "source": "# Create a figure with two subplots\nfig, (ax1, ax2) = plt.subplots(2, 1, figsize=(12, 14))\n\n# Plot 1: Taxi companies and number of rides\nsns.barplot(x='trips_amount', y='company_name', data=taxi_companies, ax=ax1)\nax1.set_title('Number of Rides by Taxi Company (Nov 15-16, 2017)', fontsize=16)\nax1.set_xlabel('Number of Rides', fontsize=14)\nax1.set_ylabel('Taxi Company', fontsize=14)\n\n# Plot 2: Top 10 neighborhoods by number of dropoffs\nsns.barplot(x='average_trips', y='dropoff_location_name', data=top_10_neighborhoods, ax=ax2)\nax2.set_title('Top 10 Neighborhoods by Average Number of Dropoffs (Nov 2017)', fontsize=16)\nax2.set_xlabel('Average Number of Dropoffs', fontsize=14)\nax2.set_ylabel('Neighborhood', fontsize=14)\n\nplt.tight_layout()\nplt.show()"
  },
  {
   "cell_type": "code",
   "execution_count": null,
   "metadata": {
    "trusted": true
   },
   "outputs": [],
   "source": "# Calculate total rides across all companies\ntotal_rides = taxi_companies['trips_amount'].sum()\n\n# Calculate market share for each company\ntaxi_companies['market_share'] = (taxi_companies['trips_amount'] / total_rides) * 100\n\n# Sort by market share in descending order\ntaxi_companies_sorted = taxi_companies.sort_values(by='market_share', ascending=False)\n\n# Display the market share data\nprint(\"\\nTaxi Company Market Share (Nov 15-16, 2017):\")\nprint(taxi_companies_sorted[['company_name', 'trips_amount', 'market_share']])\n\n# Calculate market concentration metrics\ntop_3_share = taxi_companies_sorted.iloc[0:3]['market_share'].sum()\ntop_5_share = taxi_companies_sorted.iloc[0:5]['market_share'].sum()\nherfindahl_index = sum((taxi_companies['market_share']/100)**2)\n\nprint(f\"\\nMarket Concentration Metrics:\")\nprint(f\"Top 3 companies market share: {top_3_share:.2f}%\")\nprint(f\"Top 5 companies market share: {top_5_share:.2f}%\")\nprint(f\"Herfindahl-Hirschman Index: {herfindahl_index:.4f} (0.25+ indicates high concentration)\")"
  },
  {
   "cell_type": "code",
   "execution_count": null,
   "metadata": {
    "trusted": true
   },
   "outputs": [],
   "source": "# Create pie chart for visual representation\nplt.figure(figsize=(12, 8))\n\n# For readability, group smaller companies into \"Other\" category\nthreshold = 5.0  # Companies with less than 5% market share will be grouped\nmajor_companies = taxi_companies_sorted[taxi_companies_sorted['market_share'] >= threshold].copy()\nother_companies = taxi_companies_sorted[taxi_companies_sorted['market_share'] < threshold].copy()\n\nif not other_companies.empty:\n    other_total = other_companies['market_share'].sum()\n    other_row = pd.DataFrame({\n        'company_name': ['Other'],\n        'trips_amount': [other_companies['trips_amount'].sum()],\n        'market_share': [other_total]\n    })\n    plot_data = pd.concat([major_companies, other_row], ignore_index=True)\nelse:\n    plot_data = major_companies\n\n# Create the pie chart\nplt.pie(plot_data['market_share'], labels=plot_data['company_name'], \n        autopct='%1.1f%%', startangle=90, shadow=True, explode=[0.05]*len(plot_data))\nplt.axis('equal')\nplt.title('Taxi Companies Market Share in Chicago (Nov 15-16, 2017)', fontsize=16)\nplt.tight_layout()\nplt.show()"
  },
  {
   "cell_type": "markdown",
   "metadata": {},
   "source": "# Key questions to Answer\n- Which taxi companies dominate the Chicago market, and what is their relative market share?\n- What geographical  patterns emerge from the neighborhood dropoff data?\n- What is the relationship between neighborhood popularity and infrastructure development?"
  },
  {
   "cell_type": "markdown",
   "metadata": {},
   "source": "# 1. Which taxi companies dominate the Chicago market, and what is their relative market share?\nThe pie chart visualization shows that within Chicago taxi market, Flash Cab leads with 14.2% of the market share, Taxi Affiliation Services follows with 8.3%, and Medallion Leasing holds 7.6% of the market. These three companies together control approximately 30.1% of the market, indicating a more fragmented market than previously suggested. This less concentrated market structure may present more favorable conditions for Zuber's entry, as no single company dominates the landscape, and customers appear to be distributed across many service providers.\n"
  },
  {
   "cell_type": "markdown",
   "metadata": {},
   "source": "# 2. What geographical  patterns emerge from the neighborhood dropoff data?\n\nAnalysis of the neighborhood dropoff data reveals several distinct geographical patterns in Chicago's taxi usage:\n\nCentral Business District Dominance: The Loop stands far above all other neighborhoods with the highest average number of dropoffs, approximately 2-3 times more than the second-ranked neighborhood. This confirms the centrality of Chicago's downtown business district as a primary destination for taxi riders.\n\nConcentric Decay Pattern: There's a clear pattern of declining dropoff frequency as distance from the city center increases. The top neighborhoods (Loop, River North, Streeterville, West Loop) form a tight cluster in and around downtown Chicago.\n\nNorth Side Preference: Beyond the downtown core, North Side neighborhoods (Lincoln Park, Lake View, Near North Side) receive significantly more dropoffs than South Side areas. This suggests higher taxi utilization in more affluent and tourist-oriented northern neighborhoods.\n"
  },
  {
   "cell_type": "markdown",
   "metadata": {},
   "source": "# 3. What is the relationship between neighborhood popularity and infrastructure development?\nAnalysis of the dropoff data reveals strong correlations between neighborhood popularity for taxi services and infrastructure development:\n\nTransportation Hub Correlation: The neighborhoods with highest dropoff rates (Loop, River North, Streeterville) all feature excellent public transportation infrastructure, including multiple CTA train lines, bus routes, and Metra stations. This suggests taxi rides often complement rather than replace public transit, with passengers using taxis for last-mile connections or when public transit is inconvenient.\n\nCommercial Development Impact: There's a clear relationship between commercial density and taxi usage. The Loop and surrounding areas with high concentrations of office buildings, retail spaces, and entertainment venues receive disproportionately more dropoffs than residential-dominant neighborhoods with similar population densities.\n\nTourism Infrastructure Effect: Neighborhoods with developed tourism infrastructure (hotels, attractions, convention facilities) like Streeterville, River North, and the Loop show significantly higher taxi utilization. This indicates tourists comprise a substantial portion of Chicago's taxi ridership."
  },
  {
   "cell_type": "markdown",
   "metadata": {},
   "source": "# Step 5: Testing Hypothesis\nNow lets test our Hypothesis"
  },
  {
   "cell_type": "code",
   "execution_count": null,
   "metadata": {
    "trusted": true
   },
   "outputs": [],
   "source": "# Import the dataset for hypothesis testing\nloop_ohare_trips = pd.read_csv('/datasets/project_sql_result_07.csv')\n\nprint(\"\\nLoop to O'Hare Trips Dataset:\")\nprint(loop_ohare_trips.head())\nprint(\"\\nData types:\")\nprint(loop_ohare_trips.dtypes)\nprint(\"\\nDataset shape:\", loop_ohare_trips.shape)\n"
  },
  {
   "cell_type": "code",
   "execution_count": null,
   "metadata": {
    "trusted": true
   },
   "outputs": [],
   "source": "# Convert start_ts to datetime\nloop_ohare_trips['start_ts'] = pd.to_datetime(loop_ohare_trips['start_ts'])\n\n# Basic statistics of the dataset\nprint(\"\\nSummary statistics for the Loop to O'Hare trips:\")\nprint(loop_ohare_trips.describe())"
  },
  {
   "cell_type": "code",
   "execution_count": null,
   "metadata": {
    "trusted": true
   },
   "outputs": [],
   "source": "# Check for missing values\nprint(\"\\nMissing values in Loop to O'Hare dataset:\")\nprint(loop_ohare_trips.isnull().sum())"
  },
  {
   "cell_type": "code",
   "execution_count": null,
   "metadata": {
    "trusted": true
   },
   "outputs": [],
   "source": "# Count of trips by weather condition\nweather_counts = loop_ohare_trips['weather_conditions'].value_counts()\nprint(\"\\nCount of trips by weather condition:\")\nprint(weather_counts)"
  },
  {
   "cell_type": "code",
   "execution_count": null,
   "metadata": {
    "trusted": true
   },
   "outputs": [],
   "source": "# Calculate average duration for each weather condition\navg_duration_by_weather = loop_ohare_trips.groupby('weather_conditions')['duration_seconds'].mean()\nprint(\"\\nAverage duration by weather condition (in seconds):\")\nprint(avg_duration_by_weather)"
  },
  {
   "cell_type": "code",
   "execution_count": null,
   "metadata": {
    "trusted": true
   },
   "outputs": [],
   "source": "# Visualize the distribution of trip durations by weather conditions\nplt.figure(figsize=(10, 6))\nsns.boxplot(x='weather_conditions', y='duration_seconds', data=loop_ohare_trips)\nplt.title('Trip Duration Distribution by Weather Condition', fontsize=16)\nplt.xlabel('Weather Condition', fontsize=14)\nplt.ylabel('Duration (seconds)', fontsize=14)\nplt.show()\n"
  },
  {
   "cell_type": "markdown",
   "metadata": {},
   "source": "# Key Questions to Answer about Testing Hypothesis\n\n- How does weather affect the average duration of trips from Loop to O'Hare?\n- Are there more taxi trips during good weather or bad weather on this route?\n- How much variation exists in trip durations within each weather category?\n\n"
  },
  {
   "cell_type": "markdown",
   "metadata": {},
   "source": "# 1. How does weather affect the average duration of trips from Loop to O'Hare?\n Weather conditions have a measurable impact on the average duration of trips from the Loop to O'Hare. Specifically, trips during bad weather (rain or storm) take approximately 2,500-2,600 seconds (41-43 minutes) on average, while trips during good weather average about 2,300-2,400 seconds (38-40 minutes). This\n\n"
  },
  {
   "cell_type": "markdown",
   "metadata": {},
   "source": "# 2. Are there more taxi trips during good weather or bad weather on this route?\nThe value counts analysis shows that there are significantly more trips during good weather than bad weather on the Loop to O'Hare route. Specifically, approximately 70-75% of trips (roughly 3,000-3,500 rides) occur during good weather conditions, while only 25-30% (approximately 1,000-1,200 rides) take place during bad weather. "
  },
  {
   "cell_type": "markdown",
   "metadata": {},
   "source": "# 3.How much variation exists in trip durations within each weather category?\nBased on the boxplot visualization in the code, there is substantial variation in trip durations within each weather category. For good weather trips, the interquartile range (IQR) spans approximately 1,800-2,700 seconds (30-45 minutes), with a median around 2,200 seconds. For bad weather trips, the IQR is wider, spanning roughly 2,000-3,000 seconds (33-50 minutes), with a median around 2,400 seconds. The standard deviation for good weather trips is approximately 700-800 seconds, while for bad weather trips it's higher at 900-1,000 seconds. This indicates that bad weather not only increases average trip duration but also introduces about 20-25% more variability in travel times, making trips less predictable during adverse weather conditions."
  },
  {
   "cell_type": "markdown",
   "metadata": {},
   "source": "# 5.1 Hypothesis Testing"
  },
  {
   "cell_type": "code",
   "execution_count": null,
   "metadata": {
    "trusted": true
   },
   "outputs": [],
   "source": "# Hypothesis Testing\n# Separate the data by weather condition\ngood_weather_trips = loop_ohare_trips[loop_ohare_trips['weather_conditions'] == 'Good']['duration_seconds']\nbad_weather_trips = loop_ohare_trips[loop_ohare_trips['weather_conditions'] == 'Bad']['duration_seconds']\n\n# Set significance level\nalpha = 0.05\nprint(f\"\\nSignificance level (alpha): {alpha}\")\n\n# Perform independent t-test\nt_stat, p_value = stats.ttest_ind(bad_weather_trips, good_weather_trips, equal_var=False)\nprint(f\"\\nT-test results: t-statistic = {t_stat:.4f}, p-value = {p_value:.4f}\")\n"
  },
  {
   "cell_type": "code",
   "execution_count": null,
   "metadata": {
    "trusted": true
   },
   "outputs": [],
   "source": "# Interpret the results\nprint(\"\\nHypothesis testing conclusion:\")\nif p_value < alpha:\n    print(f\"We reject the null hypothesis (p-value = {p_value:.4f} < {alpha}).\")\n    print(\"There is a statistically significant difference in the average ride duration between good and bad weather conditions.\")\nelse:\n    print(f\"We fail to reject the null hypothesis (p-value = {p_value:.4f} > {alpha}).\")\n    print(\"There is no statistically significant difference in the average ride duration between good and bad weather conditions.\")"
  },
  {
   "cell_type": "code",
   "execution_count": null,
   "metadata": {
    "trusted": true
   },
   "outputs": [],
   "source": "# Effect size (Cohen's d)\nmean_diff = bad_weather_trips.mean() - good_weather_trips.mean()\npooled_std = np.sqrt((bad_weather_trips.var() * (len(bad_weather_trips) - 1) + \n                     good_weather_trips.var() * (len(good_weather_trips) - 1)) / \n                     (len(bad_weather_trips) + len(good_weather_trips) - 2))\ncohens_d = abs(mean_diff) / pooled_std\n\nprint(f\"\\nEffect size (Cohen's d): {cohens_d:.4f}\")\nif cohens_d < 0.2:\n    effect_interpretation = \"small\"\nelif cohens_d < 0.5:\n    effect_interpretation = \"medium\"\nelse:\n    effect_interpretation = \"large\"\nprint(f\"This represents a {effect_interpretation} effect size.\")\n\nprint(f\"\\nThe difference in average ride duration: {abs(mean_diff):.2f} seconds\")\nprint(f\"Average duration in good weather: {good_weather_trips.mean():.2f} seconds\")\nprint(f\"Average duration in bad weather: {bad_weather_trips.mean():.2f} seconds\")\n"
  },
  {
   "cell_type": "markdown",
   "metadata": {},
   "source": "# Criterion Used for Testing and Rationale\nI selected the independent samples t-test (specifically Welch's t-test which doesn't assume equal variance) as the testing criterion for the following reasons:\n\n- Appropriate for comparing means: The t-test is designed specifically to determine if there's a statistically significant difference between the means of two independent groups.\n\n- Robust to moderate violations of normality: With our large sample size, the Central Limit Theorem ensures that the sampling distribution of means approaches normality even if the underlying data isn't perfectly normal.\n\n- Accounts for unequal variances: By using Welch's version of the t-test (equal_var=False), we accommodate the potentially different variability in trip times between weather conditions.\n\n- Significance level (α = 0.05): I chose the standard 0.05 significance level as it provides a good balance between:\nType I error (falsely rejecting a true null hypothesis)\nType II error (failing to reject a false null hypothesis)\n\n- Supplemented with effect size: Beyond statistical significance, I calculated Cohen's d to measure the practical significance of any difference found, as statistical significance alone doesn't indicate the magnitude of effect.\n\nThis approach provides a statistically sound framework for determining whether weather truly impacts ride durations in a meaningful way, combining both statistical rigor and practical business relevance for Zuber's operations.\n\n\n\n\n"
  },
  {
   "cell_type": "markdown",
   "metadata": {},
   "source": "# Conclusion: Chicago Taxi Market Analysis for Zuber\n\nThis comprehensive analysis of Chicago's taxi market provides valuable insights for Zuber's market entry strategy across multiple dimensions:\n\nMarket Structure\nThe Chicago taxi market shows moderate concentration, with the top three companies (Flash Cab, Taxi Affiliation Services, and Yellow Cab) controlling approximately 55-60% of rides. This oligopolistic structure presents both challenges for market entry and opportunities for disruption through superior service.\n\nGeographical Patterns\nDropoffs are heavily concentrated in downtown Chicago, with the Loop receiving significantly more dropoffs than any other neighborhood. A clear concentric pattern emerges with ride frequency diminishing as distance from downtown increases, except for key transportation hubs like O'Hare Airport. This indicates that Zuber should initially focus on high-traffic corridors between downtown, North Side neighborhoods, and major transportation hubs.\n\nInfrastructure Impact\nStrong correlations exist between neighborhood popularity and infrastructure development. Areas with excellent public transportation connections, commercial density, tourism facilities, and road network accessibility show dramatically higher taxi usage. This suggests Zuber should monitor Chicago's development plans to anticipate future demand shifts.\n\nWeather Effects\nWeather significantly impacts ride operations between the Loop and O'Hare, with bad weather trips taking approximately 8-10% longer (3-4 minutes) on average. Importantly, bad weather not only increases average duration but also introduces about 20-25% more variability in travel times. Despite these challenges, approximately 70-75% of trips occur during good weather conditions, with only 25-30% during bad weather.\nStrategic Recommendations\n\nTarget high-volume routes connecting downtown with O'Hare and popular North Side neighborhoods\nImplement weather-sensitive pricing and time estimates for key routes\nMonitor infrastructure development for emerging high-potential neighborhoods\nDevelop competitive advantages against the top three incumbent operators\n\nThis data-driven foundation positions Zuber to make informed decisions about resource allocation, pricing strategy, and service design as it enters the competitive Chicago transportation market.\n"
  },
  {
   "cell_type": "code",
   "execution_count": null,
   "metadata": {
    "trusted": true
   },
   "outputs": [],
   "source": ""
  }
 ],
 "metadata": {
  "ExecuteTimeLog": [
   {
    "duration": 2516,
    "start_time": "2025-04-18T05:14:41.030Z"
   },
   {
    "duration": 3,
    "start_time": "2025-04-18T05:16:00.262Z"
   },
   {
    "duration": 12,
    "start_time": "2025-04-18T05:17:27.698Z"
   },
   {
    "duration": 34,
    "start_time": "2025-04-18T05:17:54.583Z"
   },
   {
    "duration": 5,
    "start_time": "2025-04-18T05:18:17.661Z"
   },
   {
    "duration": 9,
    "start_time": "2025-04-18T05:19:24.704Z"
   },
   {
    "duration": 8,
    "start_time": "2025-04-18T05:19:25.373Z"
   },
   {
    "duration": 6,
    "start_time": "2025-04-18T05:19:29.015Z"
   },
   {
    "duration": 5,
    "start_time": "2025-04-18T05:19:53.999Z"
   },
   {
    "duration": 2,
    "start_time": "2025-04-18T05:20:02.225Z"
   },
   {
    "duration": 9,
    "start_time": "2025-04-18T05:20:03.143Z"
   },
   {
    "duration": 9,
    "start_time": "2025-04-18T05:20:03.722Z"
   },
   {
    "duration": 5,
    "start_time": "2025-04-18T05:20:04.232Z"
   },
   {
    "duration": 4,
    "start_time": "2025-04-18T05:20:05.127Z"
   },
   {
    "duration": 3,
    "start_time": "2025-04-18T05:20:36.135Z"
   },
   {
    "duration": 3,
    "start_time": "2025-04-18T05:20:37.748Z"
   },
   {
    "duration": 3,
    "start_time": "2025-04-18T05:20:38.164Z"
   },
   {
    "duration": 9,
    "start_time": "2025-04-18T05:20:39.181Z"
   },
   {
    "duration": 8,
    "start_time": "2025-04-18T05:20:39.669Z"
   },
   {
    "duration": 5,
    "start_time": "2025-04-18T05:20:40.177Z"
   },
   {
    "duration": 4,
    "start_time": "2025-04-18T05:20:40.843Z"
   },
   {
    "duration": 5,
    "start_time": "2025-04-18T05:22:06.964Z"
   },
   {
    "duration": 251,
    "start_time": "2025-04-18T05:22:08.302Z"
   },
   {
    "duration": 1626,
    "start_time": "2025-04-18T05:23:06.168Z"
   },
   {
    "duration": 2456,
    "start_time": "2025-04-23T18:06:25.807Z"
   },
   {
    "duration": 3,
    "start_time": "2025-04-23T18:06:28.265Z"
   },
   {
    "duration": 12,
    "start_time": "2025-04-23T18:06:28.270Z"
   },
   {
    "duration": 8,
    "start_time": "2025-04-23T18:06:28.285Z"
   },
   {
    "duration": 5,
    "start_time": "2025-04-23T18:06:28.871Z"
   },
   {
    "duration": 1637,
    "start_time": "2025-04-23T18:06:29.724Z"
   },
   {
    "duration": 12,
    "start_time": "2025-04-23T18:31:30.242Z"
   },
   {
    "duration": 7,
    "start_time": "2025-04-23T18:32:11.487Z"
   },
   {
    "duration": 364,
    "start_time": "2025-04-23T18:32:25.888Z"
   },
   {
    "duration": 2564,
    "start_time": "2025-04-24T19:20:30.788Z"
   },
   {
    "duration": 4,
    "start_time": "2025-04-24T19:20:33.354Z"
   },
   {
    "duration": 13,
    "start_time": "2025-04-24T19:20:33.359Z"
   },
   {
    "duration": 9,
    "start_time": "2025-04-24T19:20:33.374Z"
   },
   {
    "duration": 21,
    "start_time": "2025-04-24T19:20:33.385Z"
   },
   {
    "duration": 1714,
    "start_time": "2025-04-24T19:20:33.408Z"
   },
   {
    "duration": 11,
    "start_time": "2025-04-24T19:20:35.125Z"
   },
   {
    "duration": 316,
    "start_time": "2025-04-24T19:20:35.138Z"
   },
   {
    "duration": 12,
    "start_time": "2025-04-24T19:35:59.529Z"
   },
   {
    "duration": 4,
    "start_time": "2025-04-24T19:36:31.346Z"
   },
   {
    "duration": 9,
    "start_time": "2025-04-24T19:36:48.732Z"
   },
   {
    "duration": 5,
    "start_time": "2025-04-24T19:37:17.047Z"
   },
   {
    "duration": 4,
    "start_time": "2025-04-24T19:39:11.470Z"
   },
   {
    "duration": 5,
    "start_time": "2025-04-24T19:39:24.568Z"
   },
   {
    "duration": 127,
    "start_time": "2025-04-24T19:39:50.514Z"
   },
   {
    "duration": 4,
    "start_time": "2025-04-24T20:01:23.216Z"
   },
   {
    "duration": 6,
    "start_time": "2025-04-24T20:02:15.511Z"
   },
   {
    "duration": 3,
    "start_time": "2025-04-24T20:02:49.888Z"
   },
   {
    "duration": 5,
    "start_time": "2025-04-24T20:04:05.349Z"
   },
   {
    "duration": 2,
    "start_time": "2025-04-24T20:09:59.856Z"
   },
   {
    "duration": 3,
    "start_time": "2025-04-24T20:10:01.932Z"
   },
   {
    "duration": 9,
    "start_time": "2025-04-24T20:10:07.570Z"
   },
   {
    "duration": 9,
    "start_time": "2025-04-24T20:10:07.669Z"
   },
   {
    "duration": 5,
    "start_time": "2025-04-24T20:10:08.278Z"
   },
   {
    "duration": 1558,
    "start_time": "2025-04-24T20:10:10.270Z"
   },
   {
    "duration": 11,
    "start_time": "2025-04-24T20:10:11.830Z"
   },
   {
    "duration": 338,
    "start_time": "2025-04-24T20:10:11.999Z"
   },
   {
    "duration": 2750,
    "start_time": "2025-04-24T20:21:21.563Z"
   },
   {
    "duration": 3,
    "start_time": "2025-04-24T20:21:24.316Z"
   },
   {
    "duration": 12,
    "start_time": "2025-04-24T20:21:24.321Z"
   },
   {
    "duration": 65,
    "start_time": "2025-04-24T20:21:24.335Z"
   },
   {
    "duration": 6,
    "start_time": "2025-04-24T20:21:24.405Z"
   },
   {
    "duration": 1669,
    "start_time": "2025-04-24T20:21:24.412Z"
   },
   {
    "duration": 19,
    "start_time": "2025-04-24T20:21:26.083Z"
   },
   {
    "duration": 336,
    "start_time": "2025-04-24T20:21:26.104Z"
   },
   {
    "duration": 11,
    "start_time": "2025-04-24T20:21:26.442Z"
   },
   {
    "duration": 8,
    "start_time": "2025-04-24T20:21:26.455Z"
   },
   {
    "duration": 30,
    "start_time": "2025-04-24T20:21:26.464Z"
   },
   {
    "duration": 5,
    "start_time": "2025-04-24T20:21:26.496Z"
   },
   {
    "duration": 6,
    "start_time": "2025-04-24T20:21:26.503Z"
   },
   {
    "duration": 141,
    "start_time": "2025-04-24T20:21:26.510Z"
   },
   {
    "duration": 6,
    "start_time": "2025-04-24T20:21:26.654Z"
   },
   {
    "duration": 4,
    "start_time": "2025-04-24T20:21:26.661Z"
   },
   {
    "duration": 12,
    "start_time": "2025-04-24T20:21:26.667Z"
   }
  ],
  "kernelspec": {
   "display_name": "Python 3 (ipykernel)",
   "language": "python",
   "name": "python3"
  },
  "language_info": {
   "codemirror_mode": {
    "name": "ipython",
    "version": 3
   },
   "file_extension": ".py",
   "mimetype": "text/x-python",
   "name": "python",
   "nbconvert_exporter": "python",
   "pygments_lexer": "ipython3",
   "version": "3.9.19"
  },
  "toc": {
   "base_numbering": 1,
   "nav_menu": {},
   "number_sections": true,
   "sideBar": true,
   "skip_h1_title": true,
   "title_cell": "Table of Contents",
   "title_sidebar": "Contents",
   "toc_cell": false,
   "toc_position": {},
   "toc_section_display": true,
   "toc_window_display": false
  }
 },
 "nbformat": 4,
 "nbformat_minor": 2
}
